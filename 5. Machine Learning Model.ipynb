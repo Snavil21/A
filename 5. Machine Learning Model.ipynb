{
 "cells": [
  {
   "cell_type": "markdown",
   "source": [
    "# Task 5 - Machine Learning Model"
   ],
   "metadata": {
    "collapsed": false
   },
   "id": "1549fbcaab1b8a56"
  },
  {
   "cell_type": "markdown",
   "source": [
    "## Imports and Data Loading"
   ],
   "metadata": {
    "collapsed": false
   },
   "id": "3b408077b4b7b5b7"
  },
  {
   "cell_type": "code",
   "execution_count": 135,
   "id": "initial_id",
   "metadata": {
    "collapsed": true,
    "ExecuteTime": {
     "end_time": "2024-11-22T13:04:38.275868Z",
     "start_time": "2024-11-22T13:04:38.269975Z"
    }
   },
   "outputs": [],
   "source": [
    "import numpy as np\n",
    "import matplotlib.pyplot as plt\n",
    "import pandas as pd\n",
    "import sklearn.metrics as met\n",
    "from sklearn.ensemble import RandomForestClassifier\n",
    "from sklearn.model_selection import GridSearchCV, train_test_split\n",
    "from xgboost import plot_importance, XGBClassifier\n",
    "%matplotlib inline"
   ]
  },
  {
   "cell_type": "code",
   "outputs": [],
   "source": [
    "df = pd.read_csv('Dataset/2017_Taxi_Trip_Data.csv')\n",
    "pd.set_option('display.max_columns', None)\n",
    "df_nyc = pd.read_csv('Models/NYC_TLC_pred.csv')"
   ],
   "metadata": {
    "collapsed": false,
    "ExecuteTime": {
     "end_time": "2024-11-22T13:04:38.398340Z",
     "start_time": "2024-11-22T13:04:38.326908Z"
    }
   },
   "id": "76fa03bac6a91b8c",
   "execution_count": 136
  },
  {
   "cell_type": "code",
   "outputs": [
    {
     "data": {
      "text/plain": "   Unnamed: 0  VendorID    tpep_pickup_datetime   tpep_dropoff_datetime  \\\n0    24870114         2   03/25/2017 8:55:43 AM   03/25/2017 9:09:47 AM   \n1    35634249         1   04/11/2017 2:53:28 PM   04/11/2017 3:19:58 PM   \n2   106203690         1   12/15/2017 7:26:56 AM   12/15/2017 7:34:08 AM   \n3    38942136         2   05/07/2017 1:17:59 PM   05/07/2017 1:48:14 PM   \n4    30841670         2  04/15/2017 11:32:20 PM  04/15/2017 11:49:03 PM   \n\n   passenger_count  trip_distance  RatecodeID store_and_fwd_flag  \\\n0                6           3.34           1                  N   \n1                1           1.80           1                  N   \n2                1           1.00           1                  N   \n3                1           3.70           1                  N   \n4                1           4.37           1                  N   \n\n   PULocationID  DOLocationID  payment_type  fare_amount  extra  mta_tax  \\\n0           100           231             1         13.0    0.0      0.5   \n1           186            43             1         16.0    0.0      0.5   \n2           262           236             1          6.5    0.0      0.5   \n3           188            97             1         20.5    0.0      0.5   \n4             4           112             2         16.5    0.5      0.5   \n\n   tip_amount  tolls_amount  improvement_surcharge  total_amount  \n0        2.76           0.0                    0.3         16.56  \n1        4.00           0.0                    0.3         20.80  \n2        1.45           0.0                    0.3          8.75  \n3        6.39           0.0                    0.3         27.69  \n4        0.00           0.0                    0.3         17.80  ",
      "text/html": "<div>\n<style scoped>\n    .dataframe tbody tr th:only-of-type {\n        vertical-align: middle;\n    }\n\n    .dataframe tbody tr th {\n        vertical-align: top;\n    }\n\n    .dataframe thead th {\n        text-align: right;\n    }\n</style>\n<table border=\"1\" class=\"dataframe\">\n  <thead>\n    <tr style=\"text-align: right;\">\n      <th></th>\n      <th>Unnamed: 0</th>\n      <th>VendorID</th>\n      <th>tpep_pickup_datetime</th>\n      <th>tpep_dropoff_datetime</th>\n      <th>passenger_count</th>\n      <th>trip_distance</th>\n      <th>RatecodeID</th>\n      <th>store_and_fwd_flag</th>\n      <th>PULocationID</th>\n      <th>DOLocationID</th>\n      <th>payment_type</th>\n      <th>fare_amount</th>\n      <th>extra</th>\n      <th>mta_tax</th>\n      <th>tip_amount</th>\n      <th>tolls_amount</th>\n      <th>improvement_surcharge</th>\n      <th>total_amount</th>\n    </tr>\n  </thead>\n  <tbody>\n    <tr>\n      <th>0</th>\n      <td>24870114</td>\n      <td>2</td>\n      <td>03/25/2017 8:55:43 AM</td>\n      <td>03/25/2017 9:09:47 AM</td>\n      <td>6</td>\n      <td>3.34</td>\n      <td>1</td>\n      <td>N</td>\n      <td>100</td>\n      <td>231</td>\n      <td>1</td>\n      <td>13.0</td>\n      <td>0.0</td>\n      <td>0.5</td>\n      <td>2.76</td>\n      <td>0.0</td>\n      <td>0.3</td>\n      <td>16.56</td>\n    </tr>\n    <tr>\n      <th>1</th>\n      <td>35634249</td>\n      <td>1</td>\n      <td>04/11/2017 2:53:28 PM</td>\n      <td>04/11/2017 3:19:58 PM</td>\n      <td>1</td>\n      <td>1.80</td>\n      <td>1</td>\n      <td>N</td>\n      <td>186</td>\n      <td>43</td>\n      <td>1</td>\n      <td>16.0</td>\n      <td>0.0</td>\n      <td>0.5</td>\n      <td>4.00</td>\n      <td>0.0</td>\n      <td>0.3</td>\n      <td>20.80</td>\n    </tr>\n    <tr>\n      <th>2</th>\n      <td>106203690</td>\n      <td>1</td>\n      <td>12/15/2017 7:26:56 AM</td>\n      <td>12/15/2017 7:34:08 AM</td>\n      <td>1</td>\n      <td>1.00</td>\n      <td>1</td>\n      <td>N</td>\n      <td>262</td>\n      <td>236</td>\n      <td>1</td>\n      <td>6.5</td>\n      <td>0.0</td>\n      <td>0.5</td>\n      <td>1.45</td>\n      <td>0.0</td>\n      <td>0.3</td>\n      <td>8.75</td>\n    </tr>\n    <tr>\n      <th>3</th>\n      <td>38942136</td>\n      <td>2</td>\n      <td>05/07/2017 1:17:59 PM</td>\n      <td>05/07/2017 1:48:14 PM</td>\n      <td>1</td>\n      <td>3.70</td>\n      <td>1</td>\n      <td>N</td>\n      <td>188</td>\n      <td>97</td>\n      <td>1</td>\n      <td>20.5</td>\n      <td>0.0</td>\n      <td>0.5</td>\n      <td>6.39</td>\n      <td>0.0</td>\n      <td>0.3</td>\n      <td>27.69</td>\n    </tr>\n    <tr>\n      <th>4</th>\n      <td>30841670</td>\n      <td>2</td>\n      <td>04/15/2017 11:32:20 PM</td>\n      <td>04/15/2017 11:49:03 PM</td>\n      <td>1</td>\n      <td>4.37</td>\n      <td>1</td>\n      <td>N</td>\n      <td>4</td>\n      <td>112</td>\n      <td>2</td>\n      <td>16.5</td>\n      <td>0.5</td>\n      <td>0.5</td>\n      <td>0.00</td>\n      <td>0.0</td>\n      <td>0.3</td>\n      <td>17.80</td>\n    </tr>\n  </tbody>\n</table>\n</div>"
     },
     "execution_count": 137,
     "metadata": {},
     "output_type": "execute_result"
    }
   ],
   "source": [
    "df.head()"
   ],
   "metadata": {
    "collapsed": false,
    "ExecuteTime": {
     "end_time": "2024-11-22T13:04:38.413746Z",
     "start_time": "2024-11-22T13:04:38.399356Z"
    }
   },
   "id": "c84b92fddfd08702",
   "execution_count": 137
  },
  {
   "cell_type": "code",
   "outputs": [
    {
     "data": {
      "text/plain": "   Unnamed: 0  mean_duration  mean_distance  predicted_fare\n0           0          22.85           3.52       16.162901\n1           1          24.47           3.11       15.809750\n2           2           7.25           0.88        6.998067\n3           3          30.25           3.70       18.495842\n4           4          14.62           4.44       15.986722",
      "text/html": "<div>\n<style scoped>\n    .dataframe tbody tr th:only-of-type {\n        vertical-align: middle;\n    }\n\n    .dataframe tbody tr th {\n        vertical-align: top;\n    }\n\n    .dataframe thead th {\n        text-align: right;\n    }\n</style>\n<table border=\"1\" class=\"dataframe\">\n  <thead>\n    <tr style=\"text-align: right;\">\n      <th></th>\n      <th>Unnamed: 0</th>\n      <th>mean_duration</th>\n      <th>mean_distance</th>\n      <th>predicted_fare</th>\n    </tr>\n  </thead>\n  <tbody>\n    <tr>\n      <th>0</th>\n      <td>0</td>\n      <td>22.85</td>\n      <td>3.52</td>\n      <td>16.162901</td>\n    </tr>\n    <tr>\n      <th>1</th>\n      <td>1</td>\n      <td>24.47</td>\n      <td>3.11</td>\n      <td>15.809750</td>\n    </tr>\n    <tr>\n      <th>2</th>\n      <td>2</td>\n      <td>7.25</td>\n      <td>0.88</td>\n      <td>6.998067</td>\n    </tr>\n    <tr>\n      <th>3</th>\n      <td>3</td>\n      <td>30.25</td>\n      <td>3.70</td>\n      <td>18.495842</td>\n    </tr>\n    <tr>\n      <th>4</th>\n      <td>4</td>\n      <td>14.62</td>\n      <td>4.44</td>\n      <td>15.986722</td>\n    </tr>\n  </tbody>\n</table>\n</div>"
     },
     "execution_count": 138,
     "metadata": {},
     "output_type": "execute_result"
    }
   ],
   "source": [
    "df_nyc.head()"
   ],
   "metadata": {
    "collapsed": false,
    "ExecuteTime": {
     "end_time": "2024-11-22T13:04:38.424898Z",
     "start_time": "2024-11-22T13:04:38.415750Z"
    }
   },
   "id": "8575d12b79a8a828",
   "execution_count": 138
  },
  {
   "cell_type": "code",
   "outputs": [
    {
     "data": {
      "text/plain": "   Unnamed: 0  VendorID    tpep_pickup_datetime   tpep_dropoff_datetime  \\\n0    24870114         2   03/25/2017 8:55:43 AM   03/25/2017 9:09:47 AM   \n1    35634249         1   04/11/2017 2:53:28 PM   04/11/2017 3:19:58 PM   \n2   106203690         1   12/15/2017 7:26:56 AM   12/15/2017 7:34:08 AM   \n3    38942136         2   05/07/2017 1:17:59 PM   05/07/2017 1:48:14 PM   \n4    30841670         2  04/15/2017 11:32:20 PM  04/15/2017 11:49:03 PM   \n\n   passenger_count  trip_distance  RatecodeID store_and_fwd_flag  \\\n0                6           3.34           1                  N   \n1                1           1.80           1                  N   \n2                1           1.00           1                  N   \n3                1           3.70           1                  N   \n4                1           4.37           1                  N   \n\n   PULocationID  DOLocationID  payment_type  fare_amount  extra  mta_tax  \\\n0           100           231             1         13.0    0.0      0.5   \n1           186            43             1         16.0    0.0      0.5   \n2           262           236             1          6.5    0.0      0.5   \n3           188            97             1         20.5    0.0      0.5   \n4             4           112             2         16.5    0.5      0.5   \n\n   tip_amount  tolls_amount  improvement_surcharge  total_amount  \\\n0        2.76           0.0                    0.3         16.56   \n1        4.00           0.0                    0.3         20.80   \n2        1.45           0.0                    0.3          8.75   \n3        6.39           0.0                    0.3         27.69   \n4        0.00           0.0                    0.3         17.80   \n\n   mean_duration  mean_distance  predicted_fare  \n0          22.85           3.52       16.162901  \n1          24.47           3.11       15.809750  \n2           7.25           0.88        6.998067  \n3          30.25           3.70       18.495842  \n4          14.62           4.44       15.986722  ",
      "text/html": "<div>\n<style scoped>\n    .dataframe tbody tr th:only-of-type {\n        vertical-align: middle;\n    }\n\n    .dataframe tbody tr th {\n        vertical-align: top;\n    }\n\n    .dataframe thead th {\n        text-align: right;\n    }\n</style>\n<table border=\"1\" class=\"dataframe\">\n  <thead>\n    <tr style=\"text-align: right;\">\n      <th></th>\n      <th>Unnamed: 0</th>\n      <th>VendorID</th>\n      <th>tpep_pickup_datetime</th>\n      <th>tpep_dropoff_datetime</th>\n      <th>passenger_count</th>\n      <th>trip_distance</th>\n      <th>RatecodeID</th>\n      <th>store_and_fwd_flag</th>\n      <th>PULocationID</th>\n      <th>DOLocationID</th>\n      <th>payment_type</th>\n      <th>fare_amount</th>\n      <th>extra</th>\n      <th>mta_tax</th>\n      <th>tip_amount</th>\n      <th>tolls_amount</th>\n      <th>improvement_surcharge</th>\n      <th>total_amount</th>\n      <th>mean_duration</th>\n      <th>mean_distance</th>\n      <th>predicted_fare</th>\n    </tr>\n  </thead>\n  <tbody>\n    <tr>\n      <th>0</th>\n      <td>24870114</td>\n      <td>2</td>\n      <td>03/25/2017 8:55:43 AM</td>\n      <td>03/25/2017 9:09:47 AM</td>\n      <td>6</td>\n      <td>3.34</td>\n      <td>1</td>\n      <td>N</td>\n      <td>100</td>\n      <td>231</td>\n      <td>1</td>\n      <td>13.0</td>\n      <td>0.0</td>\n      <td>0.5</td>\n      <td>2.76</td>\n      <td>0.0</td>\n      <td>0.3</td>\n      <td>16.56</td>\n      <td>22.85</td>\n      <td>3.52</td>\n      <td>16.162901</td>\n    </tr>\n    <tr>\n      <th>1</th>\n      <td>35634249</td>\n      <td>1</td>\n      <td>04/11/2017 2:53:28 PM</td>\n      <td>04/11/2017 3:19:58 PM</td>\n      <td>1</td>\n      <td>1.80</td>\n      <td>1</td>\n      <td>N</td>\n      <td>186</td>\n      <td>43</td>\n      <td>1</td>\n      <td>16.0</td>\n      <td>0.0</td>\n      <td>0.5</td>\n      <td>4.00</td>\n      <td>0.0</td>\n      <td>0.3</td>\n      <td>20.80</td>\n      <td>24.47</td>\n      <td>3.11</td>\n      <td>15.809750</td>\n    </tr>\n    <tr>\n      <th>2</th>\n      <td>106203690</td>\n      <td>1</td>\n      <td>12/15/2017 7:26:56 AM</td>\n      <td>12/15/2017 7:34:08 AM</td>\n      <td>1</td>\n      <td>1.00</td>\n      <td>1</td>\n      <td>N</td>\n      <td>262</td>\n      <td>236</td>\n      <td>1</td>\n      <td>6.5</td>\n      <td>0.0</td>\n      <td>0.5</td>\n      <td>1.45</td>\n      <td>0.0</td>\n      <td>0.3</td>\n      <td>8.75</td>\n      <td>7.25</td>\n      <td>0.88</td>\n      <td>6.998067</td>\n    </tr>\n    <tr>\n      <th>3</th>\n      <td>38942136</td>\n      <td>2</td>\n      <td>05/07/2017 1:17:59 PM</td>\n      <td>05/07/2017 1:48:14 PM</td>\n      <td>1</td>\n      <td>3.70</td>\n      <td>1</td>\n      <td>N</td>\n      <td>188</td>\n      <td>97</td>\n      <td>1</td>\n      <td>20.5</td>\n      <td>0.0</td>\n      <td>0.5</td>\n      <td>6.39</td>\n      <td>0.0</td>\n      <td>0.3</td>\n      <td>27.69</td>\n      <td>30.25</td>\n      <td>3.70</td>\n      <td>18.495842</td>\n    </tr>\n    <tr>\n      <th>4</th>\n      <td>30841670</td>\n      <td>2</td>\n      <td>04/15/2017 11:32:20 PM</td>\n      <td>04/15/2017 11:49:03 PM</td>\n      <td>1</td>\n      <td>4.37</td>\n      <td>1</td>\n      <td>N</td>\n      <td>4</td>\n      <td>112</td>\n      <td>2</td>\n      <td>16.5</td>\n      <td>0.5</td>\n      <td>0.5</td>\n      <td>0.00</td>\n      <td>0.0</td>\n      <td>0.3</td>\n      <td>17.80</td>\n      <td>14.62</td>\n      <td>4.44</td>\n      <td>15.986722</td>\n    </tr>\n  </tbody>\n</table>\n</div>"
     },
     "execution_count": 139,
     "metadata": {},
     "output_type": "execute_result"
    }
   ],
   "source": [
    "df_nyc.drop(columns=['Unnamed: 0'], inplace=True)\n",
    "df = df.merge(df_nyc,left_index=True,right_index=True)\n",
    "df.head()"
   ],
   "metadata": {
    "collapsed": false,
    "ExecuteTime": {
     "end_time": "2024-11-22T13:04:38.445490Z",
     "start_time": "2024-11-22T13:04:38.426913Z"
    }
   },
   "id": "213242b21ac5f5bc",
   "execution_count": 139
  },
  {
   "cell_type": "markdown",
   "source": [
    "## Feature Engineering"
   ],
   "metadata": {
    "collapsed": false
   },
   "id": "b8c05422aa12b44"
  },
  {
   "cell_type": "code",
   "outputs": [
    {
     "name": "stdout",
     "output_type": "stream",
     "text": [
      "<class 'pandas.core.frame.DataFrame'>\n",
      "RangeIndex: 22699 entries, 0 to 22698\n",
      "Data columns (total 21 columns):\n",
      " #   Column                 Non-Null Count  Dtype  \n",
      "---  ------                 --------------  -----  \n",
      " 0   Unnamed: 0             22699 non-null  int64  \n",
      " 1   VendorID               22699 non-null  int64  \n",
      " 2   tpep_pickup_datetime   22699 non-null  object \n",
      " 3   tpep_dropoff_datetime  22699 non-null  object \n",
      " 4   passenger_count        22699 non-null  int64  \n",
      " 5   trip_distance          22699 non-null  float64\n",
      " 6   RatecodeID             22699 non-null  int64  \n",
      " 7   store_and_fwd_flag     22699 non-null  object \n",
      " 8   PULocationID           22699 non-null  int64  \n",
      " 9   DOLocationID           22699 non-null  int64  \n",
      " 10  payment_type           22699 non-null  int64  \n",
      " 11  fare_amount            22699 non-null  float64\n",
      " 12  extra                  22699 non-null  float64\n",
      " 13  mta_tax                22699 non-null  float64\n",
      " 14  tip_amount             22699 non-null  float64\n",
      " 15  tolls_amount           22699 non-null  float64\n",
      " 16  improvement_surcharge  22699 non-null  float64\n",
      " 17  total_amount           22699 non-null  float64\n",
      " 18  mean_duration          22699 non-null  float64\n",
      " 19  mean_distance          22699 non-null  float64\n",
      " 20  predicted_fare         22699 non-null  float64\n",
      "dtypes: float64(11), int64(7), object(3)\n",
      "memory usage: 3.6+ MB\n"
     ]
    }
   ],
   "source": [
    "df.info()"
   ],
   "metadata": {
    "collapsed": false,
    "ExecuteTime": {
     "end_time": "2024-11-22T13:04:38.459273Z",
     "start_time": "2024-11-22T13:04:38.446499Z"
    }
   },
   "id": "2e47b762553b61f6",
   "execution_count": 140
  },
  {
   "cell_type": "code",
   "outputs": [],
   "source": [
    "df1 = df[df['payment_type']==1].copy()\n",
    "df1['tip_percent'] = df1['tip_amount']/(df1['total_amount']-df1['tip_amount'])"
   ],
   "metadata": {
    "collapsed": false,
    "ExecuteTime": {
     "end_time": "2024-11-22T13:04:38.477196Z",
     "start_time": "2024-11-22T13:04:38.460278Z"
    }
   },
   "id": "3d59ceb68c87083f",
   "execution_count": 141
  },
  {
   "cell_type": "code",
   "outputs": [
    {
     "data": {
      "text/plain": "       Unnamed: 0  VendorID    tpep_pickup_datetime   tpep_dropoff_datetime  \\\n0        24870114         2   03/25/2017 8:55:43 AM   03/25/2017 9:09:47 AM   \n1        35634249         1   04/11/2017 2:53:28 PM   04/11/2017 3:19:58 PM   \n2       106203690         1   12/15/2017 7:26:56 AM   12/15/2017 7:34:08 AM   \n3        38942136         2   05/07/2017 1:17:59 PM   05/07/2017 1:48:14 PM   \n5        23345809         2   03/25/2017 8:34:11 PM   03/25/2017 8:42:11 PM   \n...           ...       ...                     ...                     ...   \n22692    60425673         1   07/16/2017 3:22:51 AM   07/16/2017 3:40:52 AM   \n22693    67858616         2  08/10/2017 10:20:04 PM  08/10/2017 10:29:31 PM   \n22695    66632549         2   08/06/2017 4:43:59 PM   08/06/2017 5:24:47 PM   \n22697    60217333         2  07/15/2017 12:56:30 PM   07/15/2017 1:08:26 PM   \n22698    17208911         1   03/02/2017 1:02:49 PM   03/02/2017 1:16:09 PM   \n\n       passenger_count  trip_distance  RatecodeID store_and_fwd_flag  \\\n0                    6           3.34           1                  N   \n1                    1           1.80           1                  N   \n2                    1           1.00           1                  N   \n3                    1           3.70           1                  N   \n5                    6           2.30           1                  N   \n...                ...            ...         ...                ...   \n22692                1           5.70           1                  N   \n22693                1           0.89           1                  N   \n22695                1          16.71           2                  N   \n22697                1           2.36           1                  N   \n22698                1           2.10           1                  N   \n\n       PULocationID  DOLocationID  payment_type  fare_amount  extra  mta_tax  \\\n0               100           231             1         13.0    0.0      0.5   \n1               186            43             1         16.0    0.0      0.5   \n2               262           236             1          6.5    0.0      0.5   \n3               188            97             1         20.5    0.0      0.5   \n5               161           236             1          9.0    0.5      0.5   \n...             ...           ...           ...          ...    ...      ...   \n22692           249            17             1         19.0    0.5      0.5   \n22693           229           170             1          7.5    0.5      0.5   \n22695           132           164             1         52.0    0.0      0.5   \n22697            68           144             1         10.5    0.0      0.5   \n22698           239           236             1         11.0    0.0      0.5   \n\n       tip_amount  tolls_amount  improvement_surcharge  total_amount  \\\n0            2.76          0.00                    0.3         16.56   \n1            4.00          0.00                    0.3         20.80   \n2            1.45          0.00                    0.3          8.75   \n3            6.39          0.00                    0.3         27.69   \n5            2.06          0.00                    0.3         12.36   \n...           ...           ...                    ...           ...   \n22692        4.05          0.00                    0.3         24.35   \n22693        1.76          0.00                    0.3         10.56   \n22695       14.64          5.76                    0.3         73.20   \n22697        1.70          0.00                    0.3         13.00   \n22698        2.35          0.00                    0.3         14.15   \n\n       mean_duration  mean_distance  predicted_fare  tip_percent  generous  \n0              22.85           3.52       16.162901     0.200000         1  \n1              24.47           3.11       15.809750     0.238095         1  \n2               7.25           0.88        6.998067     0.198630         0  \n3              30.25           3.70       18.495842     0.300000         1  \n5              11.86           2.05       10.225339     0.200000         1  \n...              ...            ...             ...          ...       ...  \n22692          18.02           5.70       19.564730     0.199507         0  \n22693           8.10           1.06        7.205592     0.200000         0  \n22695          59.56          18.76       52.000000     0.250000         1  \n22697          16.65           2.08       11.565668     0.150442         0  \n22698           9.41           1.48        8.479292     0.199153         0  \n\n[15265 rows x 23 columns]",
      "text/html": "<div>\n<style scoped>\n    .dataframe tbody tr th:only-of-type {\n        vertical-align: middle;\n    }\n\n    .dataframe tbody tr th {\n        vertical-align: top;\n    }\n\n    .dataframe thead th {\n        text-align: right;\n    }\n</style>\n<table border=\"1\" class=\"dataframe\">\n  <thead>\n    <tr style=\"text-align: right;\">\n      <th></th>\n      <th>Unnamed: 0</th>\n      <th>VendorID</th>\n      <th>tpep_pickup_datetime</th>\n      <th>tpep_dropoff_datetime</th>\n      <th>passenger_count</th>\n      <th>trip_distance</th>\n      <th>RatecodeID</th>\n      <th>store_and_fwd_flag</th>\n      <th>PULocationID</th>\n      <th>DOLocationID</th>\n      <th>payment_type</th>\n      <th>fare_amount</th>\n      <th>extra</th>\n      <th>mta_tax</th>\n      <th>tip_amount</th>\n      <th>tolls_amount</th>\n      <th>improvement_surcharge</th>\n      <th>total_amount</th>\n      <th>mean_duration</th>\n      <th>mean_distance</th>\n      <th>predicted_fare</th>\n      <th>tip_percent</th>\n      <th>generous</th>\n    </tr>\n  </thead>\n  <tbody>\n    <tr>\n      <th>0</th>\n      <td>24870114</td>\n      <td>2</td>\n      <td>03/25/2017 8:55:43 AM</td>\n      <td>03/25/2017 9:09:47 AM</td>\n      <td>6</td>\n      <td>3.34</td>\n      <td>1</td>\n      <td>N</td>\n      <td>100</td>\n      <td>231</td>\n      <td>1</td>\n      <td>13.0</td>\n      <td>0.0</td>\n      <td>0.5</td>\n      <td>2.76</td>\n      <td>0.00</td>\n      <td>0.3</td>\n      <td>16.56</td>\n      <td>22.85</td>\n      <td>3.52</td>\n      <td>16.162901</td>\n      <td>0.200000</td>\n      <td>1</td>\n    </tr>\n    <tr>\n      <th>1</th>\n      <td>35634249</td>\n      <td>1</td>\n      <td>04/11/2017 2:53:28 PM</td>\n      <td>04/11/2017 3:19:58 PM</td>\n      <td>1</td>\n      <td>1.80</td>\n      <td>1</td>\n      <td>N</td>\n      <td>186</td>\n      <td>43</td>\n      <td>1</td>\n      <td>16.0</td>\n      <td>0.0</td>\n      <td>0.5</td>\n      <td>4.00</td>\n      <td>0.00</td>\n      <td>0.3</td>\n      <td>20.80</td>\n      <td>24.47</td>\n      <td>3.11</td>\n      <td>15.809750</td>\n      <td>0.238095</td>\n      <td>1</td>\n    </tr>\n    <tr>\n      <th>2</th>\n      <td>106203690</td>\n      <td>1</td>\n      <td>12/15/2017 7:26:56 AM</td>\n      <td>12/15/2017 7:34:08 AM</td>\n      <td>1</td>\n      <td>1.00</td>\n      <td>1</td>\n      <td>N</td>\n      <td>262</td>\n      <td>236</td>\n      <td>1</td>\n      <td>6.5</td>\n      <td>0.0</td>\n      <td>0.5</td>\n      <td>1.45</td>\n      <td>0.00</td>\n      <td>0.3</td>\n      <td>8.75</td>\n      <td>7.25</td>\n      <td>0.88</td>\n      <td>6.998067</td>\n      <td>0.198630</td>\n      <td>0</td>\n    </tr>\n    <tr>\n      <th>3</th>\n      <td>38942136</td>\n      <td>2</td>\n      <td>05/07/2017 1:17:59 PM</td>\n      <td>05/07/2017 1:48:14 PM</td>\n      <td>1</td>\n      <td>3.70</td>\n      <td>1</td>\n      <td>N</td>\n      <td>188</td>\n      <td>97</td>\n      <td>1</td>\n      <td>20.5</td>\n      <td>0.0</td>\n      <td>0.5</td>\n      <td>6.39</td>\n      <td>0.00</td>\n      <td>0.3</td>\n      <td>27.69</td>\n      <td>30.25</td>\n      <td>3.70</td>\n      <td>18.495842</td>\n      <td>0.300000</td>\n      <td>1</td>\n    </tr>\n    <tr>\n      <th>5</th>\n      <td>23345809</td>\n      <td>2</td>\n      <td>03/25/2017 8:34:11 PM</td>\n      <td>03/25/2017 8:42:11 PM</td>\n      <td>6</td>\n      <td>2.30</td>\n      <td>1</td>\n      <td>N</td>\n      <td>161</td>\n      <td>236</td>\n      <td>1</td>\n      <td>9.0</td>\n      <td>0.5</td>\n      <td>0.5</td>\n      <td>2.06</td>\n      <td>0.00</td>\n      <td>0.3</td>\n      <td>12.36</td>\n      <td>11.86</td>\n      <td>2.05</td>\n      <td>10.225339</td>\n      <td>0.200000</td>\n      <td>1</td>\n    </tr>\n    <tr>\n      <th>...</th>\n      <td>...</td>\n      <td>...</td>\n      <td>...</td>\n      <td>...</td>\n      <td>...</td>\n      <td>...</td>\n      <td>...</td>\n      <td>...</td>\n      <td>...</td>\n      <td>...</td>\n      <td>...</td>\n      <td>...</td>\n      <td>...</td>\n      <td>...</td>\n      <td>...</td>\n      <td>...</td>\n      <td>...</td>\n      <td>...</td>\n      <td>...</td>\n      <td>...</td>\n      <td>...</td>\n      <td>...</td>\n      <td>...</td>\n    </tr>\n    <tr>\n      <th>22692</th>\n      <td>60425673</td>\n      <td>1</td>\n      <td>07/16/2017 3:22:51 AM</td>\n      <td>07/16/2017 3:40:52 AM</td>\n      <td>1</td>\n      <td>5.70</td>\n      <td>1</td>\n      <td>N</td>\n      <td>249</td>\n      <td>17</td>\n      <td>1</td>\n      <td>19.0</td>\n      <td>0.5</td>\n      <td>0.5</td>\n      <td>4.05</td>\n      <td>0.00</td>\n      <td>0.3</td>\n      <td>24.35</td>\n      <td>18.02</td>\n      <td>5.70</td>\n      <td>19.564730</td>\n      <td>0.199507</td>\n      <td>0</td>\n    </tr>\n    <tr>\n      <th>22693</th>\n      <td>67858616</td>\n      <td>2</td>\n      <td>08/10/2017 10:20:04 PM</td>\n      <td>08/10/2017 10:29:31 PM</td>\n      <td>1</td>\n      <td>0.89</td>\n      <td>1</td>\n      <td>N</td>\n      <td>229</td>\n      <td>170</td>\n      <td>1</td>\n      <td>7.5</td>\n      <td>0.5</td>\n      <td>0.5</td>\n      <td>1.76</td>\n      <td>0.00</td>\n      <td>0.3</td>\n      <td>10.56</td>\n      <td>8.10</td>\n      <td>1.06</td>\n      <td>7.205592</td>\n      <td>0.200000</td>\n      <td>0</td>\n    </tr>\n    <tr>\n      <th>22695</th>\n      <td>66632549</td>\n      <td>2</td>\n      <td>08/06/2017 4:43:59 PM</td>\n      <td>08/06/2017 5:24:47 PM</td>\n      <td>1</td>\n      <td>16.71</td>\n      <td>2</td>\n      <td>N</td>\n      <td>132</td>\n      <td>164</td>\n      <td>1</td>\n      <td>52.0</td>\n      <td>0.0</td>\n      <td>0.5</td>\n      <td>14.64</td>\n      <td>5.76</td>\n      <td>0.3</td>\n      <td>73.20</td>\n      <td>59.56</td>\n      <td>18.76</td>\n      <td>52.000000</td>\n      <td>0.250000</td>\n      <td>1</td>\n    </tr>\n    <tr>\n      <th>22697</th>\n      <td>60217333</td>\n      <td>2</td>\n      <td>07/15/2017 12:56:30 PM</td>\n      <td>07/15/2017 1:08:26 PM</td>\n      <td>1</td>\n      <td>2.36</td>\n      <td>1</td>\n      <td>N</td>\n      <td>68</td>\n      <td>144</td>\n      <td>1</td>\n      <td>10.5</td>\n      <td>0.0</td>\n      <td>0.5</td>\n      <td>1.70</td>\n      <td>0.00</td>\n      <td>0.3</td>\n      <td>13.00</td>\n      <td>16.65</td>\n      <td>2.08</td>\n      <td>11.565668</td>\n      <td>0.150442</td>\n      <td>0</td>\n    </tr>\n    <tr>\n      <th>22698</th>\n      <td>17208911</td>\n      <td>1</td>\n      <td>03/02/2017 1:02:49 PM</td>\n      <td>03/02/2017 1:16:09 PM</td>\n      <td>1</td>\n      <td>2.10</td>\n      <td>1</td>\n      <td>N</td>\n      <td>239</td>\n      <td>236</td>\n      <td>1</td>\n      <td>11.0</td>\n      <td>0.0</td>\n      <td>0.5</td>\n      <td>2.35</td>\n      <td>0.00</td>\n      <td>0.3</td>\n      <td>14.15</td>\n      <td>9.41</td>\n      <td>1.48</td>\n      <td>8.479292</td>\n      <td>0.199153</td>\n      <td>0</td>\n    </tr>\n  </tbody>\n</table>\n<p>15265 rows × 23 columns</p>\n</div>"
     },
     "execution_count": 142,
     "metadata": {},
     "output_type": "execute_result"
    }
   ],
   "source": [
    "df1['generous'] = (df1['tip_percent'] >= 0.2).astype(int)\n",
    "df1"
   ],
   "metadata": {
    "collapsed": false,
    "ExecuteTime": {
     "end_time": "2024-11-22T13:04:38.496840Z",
     "start_time": "2024-11-22T13:04:38.478205Z"
    }
   },
   "id": "530084d124383693",
   "execution_count": 142
  },
  {
   "cell_type": "code",
   "outputs": [],
   "source": [
    "df1['tpep_pickup_datetime'] = pd.to_datetime(df1['tpep_pickup_datetime'])\n",
    "df1['tpep_dropoff_datetime'] = pd.to_datetime(df1['tpep_dropoff_datetime'])\n",
    "df1['day'] = df1['tpep_pickup_datetime'].dt.day_name().astype('str')"
   ],
   "metadata": {
    "collapsed": false,
    "ExecuteTime": {
     "end_time": "2024-11-22T13:04:38.600782Z",
     "start_time": "2024-11-22T13:04:38.497843Z"
    }
   },
   "id": "ddeb04604218aa55",
   "execution_count": 143
  },
  {
   "cell_type": "code",
   "outputs": [
    {
     "data": {
      "text/plain": "       Unnamed: 0  VendorID tpep_pickup_datetime tpep_dropoff_datetime  \\\n0        24870114         2  2017-03-25 08:55:43   2017-03-25 09:09:47   \n1        35634249         1  2017-04-11 14:53:28   2017-04-11 15:19:58   \n2       106203690         1  2017-12-15 07:26:56   2017-12-15 07:34:08   \n3        38942136         2  2017-05-07 13:17:59   2017-05-07 13:48:14   \n5        23345809         2  2017-03-25 20:34:11   2017-03-25 20:42:11   \n...           ...       ...                  ...                   ...   \n22692    60425673         1  2017-07-16 03:22:51   2017-07-16 03:40:52   \n22693    67858616         2  2017-08-10 22:20:04   2017-08-10 22:29:31   \n22695    66632549         2  2017-08-06 16:43:59   2017-08-06 17:24:47   \n22697    60217333         2  2017-07-15 12:56:30   2017-07-15 13:08:26   \n22698    17208911         1  2017-03-02 13:02:49   2017-03-02 13:16:09   \n\n       passenger_count  trip_distance  RatecodeID store_and_fwd_flag  \\\n0                    6           3.34           1                  N   \n1                    1           1.80           1                  N   \n2                    1           1.00           1                  N   \n3                    1           3.70           1                  N   \n5                    6           2.30           1                  N   \n...                ...            ...         ...                ...   \n22692                1           5.70           1                  N   \n22693                1           0.89           1                  N   \n22695                1          16.71           2                  N   \n22697                1           2.36           1                  N   \n22698                1           2.10           1                  N   \n\n       PULocationID  DOLocationID  payment_type  fare_amount  extra  mta_tax  \\\n0               100           231             1         13.0    0.0      0.5   \n1               186            43             1         16.0    0.0      0.5   \n2               262           236             1          6.5    0.0      0.5   \n3               188            97             1         20.5    0.0      0.5   \n5               161           236             1          9.0    0.5      0.5   \n...             ...           ...           ...          ...    ...      ...   \n22692           249            17             1         19.0    0.5      0.5   \n22693           229           170             1          7.5    0.5      0.5   \n22695           132           164             1         52.0    0.0      0.5   \n22697            68           144             1         10.5    0.0      0.5   \n22698           239           236             1         11.0    0.0      0.5   \n\n       tip_amount  tolls_amount  improvement_surcharge  total_amount  \\\n0            2.76          0.00                    0.3         16.56   \n1            4.00          0.00                    0.3         20.80   \n2            1.45          0.00                    0.3          8.75   \n3            6.39          0.00                    0.3         27.69   \n5            2.06          0.00                    0.3         12.36   \n...           ...           ...                    ...           ...   \n22692        4.05          0.00                    0.3         24.35   \n22693        1.76          0.00                    0.3         10.56   \n22695       14.64          5.76                    0.3         73.20   \n22697        1.70          0.00                    0.3         13.00   \n22698        2.35          0.00                    0.3         14.15   \n\n       mean_duration  mean_distance  predicted_fare  tip_percent  generous  \\\n0              22.85           3.52       16.162901     0.200000         1   \n1              24.47           3.11       15.809750     0.238095         1   \n2               7.25           0.88        6.998067     0.198630         0   \n3              30.25           3.70       18.495842     0.300000         1   \n5              11.86           2.05       10.225339     0.200000         1   \n...              ...            ...             ...          ...       ...   \n22692          18.02           5.70       19.564730     0.199507         0   \n22693           8.10           1.06        7.205592     0.200000         0   \n22695          59.56          18.76       52.000000     0.250000         1   \n22697          16.65           2.08       11.565668     0.150442         0   \n22698           9.41           1.48        8.479292     0.199153         0   \n\n            day  am_rush  daytime  pm_rush  nighttime  \n0      Saturday        1        0        0          0  \n1       Tuesday        0        1        0          0  \n2        Friday        1        0        0          0  \n3        Sunday        0        1        0          0  \n5      Saturday        0        0        0          1  \n...         ...      ...      ...      ...        ...  \n22692    Sunday        0        0        0          1  \n22693  Thursday        0        0        0          1  \n22695    Sunday        0        0        1          0  \n22697  Saturday        0        1        0          0  \n22698  Thursday        0        1        0          0  \n\n[15265 rows x 28 columns]",
      "text/html": "<div>\n<style scoped>\n    .dataframe tbody tr th:only-of-type {\n        vertical-align: middle;\n    }\n\n    .dataframe tbody tr th {\n        vertical-align: top;\n    }\n\n    .dataframe thead th {\n        text-align: right;\n    }\n</style>\n<table border=\"1\" class=\"dataframe\">\n  <thead>\n    <tr style=\"text-align: right;\">\n      <th></th>\n      <th>Unnamed: 0</th>\n      <th>VendorID</th>\n      <th>tpep_pickup_datetime</th>\n      <th>tpep_dropoff_datetime</th>\n      <th>passenger_count</th>\n      <th>trip_distance</th>\n      <th>RatecodeID</th>\n      <th>store_and_fwd_flag</th>\n      <th>PULocationID</th>\n      <th>DOLocationID</th>\n      <th>payment_type</th>\n      <th>fare_amount</th>\n      <th>extra</th>\n      <th>mta_tax</th>\n      <th>tip_amount</th>\n      <th>tolls_amount</th>\n      <th>improvement_surcharge</th>\n      <th>total_amount</th>\n      <th>mean_duration</th>\n      <th>mean_distance</th>\n      <th>predicted_fare</th>\n      <th>tip_percent</th>\n      <th>generous</th>\n      <th>day</th>\n      <th>am_rush</th>\n      <th>daytime</th>\n      <th>pm_rush</th>\n      <th>nighttime</th>\n    </tr>\n  </thead>\n  <tbody>\n    <tr>\n      <th>0</th>\n      <td>24870114</td>\n      <td>2</td>\n      <td>2017-03-25 08:55:43</td>\n      <td>2017-03-25 09:09:47</td>\n      <td>6</td>\n      <td>3.34</td>\n      <td>1</td>\n      <td>N</td>\n      <td>100</td>\n      <td>231</td>\n      <td>1</td>\n      <td>13.0</td>\n      <td>0.0</td>\n      <td>0.5</td>\n      <td>2.76</td>\n      <td>0.00</td>\n      <td>0.3</td>\n      <td>16.56</td>\n      <td>22.85</td>\n      <td>3.52</td>\n      <td>16.162901</td>\n      <td>0.200000</td>\n      <td>1</td>\n      <td>Saturday</td>\n      <td>1</td>\n      <td>0</td>\n      <td>0</td>\n      <td>0</td>\n    </tr>\n    <tr>\n      <th>1</th>\n      <td>35634249</td>\n      <td>1</td>\n      <td>2017-04-11 14:53:28</td>\n      <td>2017-04-11 15:19:58</td>\n      <td>1</td>\n      <td>1.80</td>\n      <td>1</td>\n      <td>N</td>\n      <td>186</td>\n      <td>43</td>\n      <td>1</td>\n      <td>16.0</td>\n      <td>0.0</td>\n      <td>0.5</td>\n      <td>4.00</td>\n      <td>0.00</td>\n      <td>0.3</td>\n      <td>20.80</td>\n      <td>24.47</td>\n      <td>3.11</td>\n      <td>15.809750</td>\n      <td>0.238095</td>\n      <td>1</td>\n      <td>Tuesday</td>\n      <td>0</td>\n      <td>1</td>\n      <td>0</td>\n      <td>0</td>\n    </tr>\n    <tr>\n      <th>2</th>\n      <td>106203690</td>\n      <td>1</td>\n      <td>2017-12-15 07:26:56</td>\n      <td>2017-12-15 07:34:08</td>\n      <td>1</td>\n      <td>1.00</td>\n      <td>1</td>\n      <td>N</td>\n      <td>262</td>\n      <td>236</td>\n      <td>1</td>\n      <td>6.5</td>\n      <td>0.0</td>\n      <td>0.5</td>\n      <td>1.45</td>\n      <td>0.00</td>\n      <td>0.3</td>\n      <td>8.75</td>\n      <td>7.25</td>\n      <td>0.88</td>\n      <td>6.998067</td>\n      <td>0.198630</td>\n      <td>0</td>\n      <td>Friday</td>\n      <td>1</td>\n      <td>0</td>\n      <td>0</td>\n      <td>0</td>\n    </tr>\n    <tr>\n      <th>3</th>\n      <td>38942136</td>\n      <td>2</td>\n      <td>2017-05-07 13:17:59</td>\n      <td>2017-05-07 13:48:14</td>\n      <td>1</td>\n      <td>3.70</td>\n      <td>1</td>\n      <td>N</td>\n      <td>188</td>\n      <td>97</td>\n      <td>1</td>\n      <td>20.5</td>\n      <td>0.0</td>\n      <td>0.5</td>\n      <td>6.39</td>\n      <td>0.00</td>\n      <td>0.3</td>\n      <td>27.69</td>\n      <td>30.25</td>\n      <td>3.70</td>\n      <td>18.495842</td>\n      <td>0.300000</td>\n      <td>1</td>\n      <td>Sunday</td>\n      <td>0</td>\n      <td>1</td>\n      <td>0</td>\n      <td>0</td>\n    </tr>\n    <tr>\n      <th>5</th>\n      <td>23345809</td>\n      <td>2</td>\n      <td>2017-03-25 20:34:11</td>\n      <td>2017-03-25 20:42:11</td>\n      <td>6</td>\n      <td>2.30</td>\n      <td>1</td>\n      <td>N</td>\n      <td>161</td>\n      <td>236</td>\n      <td>1</td>\n      <td>9.0</td>\n      <td>0.5</td>\n      <td>0.5</td>\n      <td>2.06</td>\n      <td>0.00</td>\n      <td>0.3</td>\n      <td>12.36</td>\n      <td>11.86</td>\n      <td>2.05</td>\n      <td>10.225339</td>\n      <td>0.200000</td>\n      <td>1</td>\n      <td>Saturday</td>\n      <td>0</td>\n      <td>0</td>\n      <td>0</td>\n      <td>1</td>\n    </tr>\n    <tr>\n      <th>...</th>\n      <td>...</td>\n      <td>...</td>\n      <td>...</td>\n      <td>...</td>\n      <td>...</td>\n      <td>...</td>\n      <td>...</td>\n      <td>...</td>\n      <td>...</td>\n      <td>...</td>\n      <td>...</td>\n      <td>...</td>\n      <td>...</td>\n      <td>...</td>\n      <td>...</td>\n      <td>...</td>\n      <td>...</td>\n      <td>...</td>\n      <td>...</td>\n      <td>...</td>\n      <td>...</td>\n      <td>...</td>\n      <td>...</td>\n      <td>...</td>\n      <td>...</td>\n      <td>...</td>\n      <td>...</td>\n      <td>...</td>\n    </tr>\n    <tr>\n      <th>22692</th>\n      <td>60425673</td>\n      <td>1</td>\n      <td>2017-07-16 03:22:51</td>\n      <td>2017-07-16 03:40:52</td>\n      <td>1</td>\n      <td>5.70</td>\n      <td>1</td>\n      <td>N</td>\n      <td>249</td>\n      <td>17</td>\n      <td>1</td>\n      <td>19.0</td>\n      <td>0.5</td>\n      <td>0.5</td>\n      <td>4.05</td>\n      <td>0.00</td>\n      <td>0.3</td>\n      <td>24.35</td>\n      <td>18.02</td>\n      <td>5.70</td>\n      <td>19.564730</td>\n      <td>0.199507</td>\n      <td>0</td>\n      <td>Sunday</td>\n      <td>0</td>\n      <td>0</td>\n      <td>0</td>\n      <td>1</td>\n    </tr>\n    <tr>\n      <th>22693</th>\n      <td>67858616</td>\n      <td>2</td>\n      <td>2017-08-10 22:20:04</td>\n      <td>2017-08-10 22:29:31</td>\n      <td>1</td>\n      <td>0.89</td>\n      <td>1</td>\n      <td>N</td>\n      <td>229</td>\n      <td>170</td>\n      <td>1</td>\n      <td>7.5</td>\n      <td>0.5</td>\n      <td>0.5</td>\n      <td>1.76</td>\n      <td>0.00</td>\n      <td>0.3</td>\n      <td>10.56</td>\n      <td>8.10</td>\n      <td>1.06</td>\n      <td>7.205592</td>\n      <td>0.200000</td>\n      <td>0</td>\n      <td>Thursday</td>\n      <td>0</td>\n      <td>0</td>\n      <td>0</td>\n      <td>1</td>\n    </tr>\n    <tr>\n      <th>22695</th>\n      <td>66632549</td>\n      <td>2</td>\n      <td>2017-08-06 16:43:59</td>\n      <td>2017-08-06 17:24:47</td>\n      <td>1</td>\n      <td>16.71</td>\n      <td>2</td>\n      <td>N</td>\n      <td>132</td>\n      <td>164</td>\n      <td>1</td>\n      <td>52.0</td>\n      <td>0.0</td>\n      <td>0.5</td>\n      <td>14.64</td>\n      <td>5.76</td>\n      <td>0.3</td>\n      <td>73.20</td>\n      <td>59.56</td>\n      <td>18.76</td>\n      <td>52.000000</td>\n      <td>0.250000</td>\n      <td>1</td>\n      <td>Sunday</td>\n      <td>0</td>\n      <td>0</td>\n      <td>1</td>\n      <td>0</td>\n    </tr>\n    <tr>\n      <th>22697</th>\n      <td>60217333</td>\n      <td>2</td>\n      <td>2017-07-15 12:56:30</td>\n      <td>2017-07-15 13:08:26</td>\n      <td>1</td>\n      <td>2.36</td>\n      <td>1</td>\n      <td>N</td>\n      <td>68</td>\n      <td>144</td>\n      <td>1</td>\n      <td>10.5</td>\n      <td>0.0</td>\n      <td>0.5</td>\n      <td>1.70</td>\n      <td>0.00</td>\n      <td>0.3</td>\n      <td>13.00</td>\n      <td>16.65</td>\n      <td>2.08</td>\n      <td>11.565668</td>\n      <td>0.150442</td>\n      <td>0</td>\n      <td>Saturday</td>\n      <td>0</td>\n      <td>1</td>\n      <td>0</td>\n      <td>0</td>\n    </tr>\n    <tr>\n      <th>22698</th>\n      <td>17208911</td>\n      <td>1</td>\n      <td>2017-03-02 13:02:49</td>\n      <td>2017-03-02 13:16:09</td>\n      <td>1</td>\n      <td>2.10</td>\n      <td>1</td>\n      <td>N</td>\n      <td>239</td>\n      <td>236</td>\n      <td>1</td>\n      <td>11.0</td>\n      <td>0.0</td>\n      <td>0.5</td>\n      <td>2.35</td>\n      <td>0.00</td>\n      <td>0.3</td>\n      <td>14.15</td>\n      <td>9.41</td>\n      <td>1.48</td>\n      <td>8.479292</td>\n      <td>0.199153</td>\n      <td>0</td>\n      <td>Thursday</td>\n      <td>0</td>\n      <td>1</td>\n      <td>0</td>\n      <td>0</td>\n    </tr>\n  </tbody>\n</table>\n<p>15265 rows × 28 columns</p>\n</div>"
     },
     "execution_count": 144,
     "metadata": {},
     "output_type": "execute_result"
    }
   ],
   "source": [
    "df1['am_rush'] = df1['tpep_pickup_datetime'].dt.hour\n",
    "cond1 = df1['am_rush'].between(6,10,inclusive='left')\n",
    "df1['am_rush'] = np.where(cond1,1,0)\n",
    "\n",
    "df1['daytime'] = df1['tpep_pickup_datetime'].dt.hour\n",
    "cond2 = df1['daytime'].between(10,16,inclusive='left')\n",
    "df1['daytime'] = np.where(cond2,1,0)\n",
    "\n",
    "df1['pm_rush'] = df1['tpep_pickup_datetime'].dt.hour\n",
    "cond3 = df1['pm_rush'].between(16,20,inclusive='left')\n",
    "df1['pm_rush'] = np.where(cond3,1,0)\n",
    "\n",
    "df1['nighttime'] = df1['tpep_pickup_datetime'].dt.hour\n",
    "cond4 = (df1['nighttime']<6) | (df1['nighttime']>=20)\n",
    "df1['nighttime'] = np.where(cond4,1,0)\n",
    "df1"
   ],
   "metadata": {
    "collapsed": false,
    "ExecuteTime": {
     "end_time": "2024-11-22T13:04:38.629393Z",
     "start_time": "2024-11-22T13:04:38.601788Z"
    }
   },
   "id": "49b9939caed220c3",
   "execution_count": 144
  },
  {
   "cell_type": "code",
   "outputs": [
    {
     "data": {
      "text/plain": "       Unnamed: 0  VendorID tpep_pickup_datetime tpep_dropoff_datetime  \\\n0        24870114         2  2017-03-25 08:55:43   2017-03-25 09:09:47   \n1        35634249         1  2017-04-11 14:53:28   2017-04-11 15:19:58   \n2       106203690         1  2017-12-15 07:26:56   2017-12-15 07:34:08   \n3        38942136         2  2017-05-07 13:17:59   2017-05-07 13:48:14   \n5        23345809         2  2017-03-25 20:34:11   2017-03-25 20:42:11   \n...           ...       ...                  ...                   ...   \n22692    60425673         1  2017-07-16 03:22:51   2017-07-16 03:40:52   \n22693    67858616         2  2017-08-10 22:20:04   2017-08-10 22:29:31   \n22695    66632549         2  2017-08-06 16:43:59   2017-08-06 17:24:47   \n22697    60217333         2  2017-07-15 12:56:30   2017-07-15 13:08:26   \n22698    17208911         1  2017-03-02 13:02:49   2017-03-02 13:16:09   \n\n       passenger_count  trip_distance  RatecodeID store_and_fwd_flag  \\\n0                    6           3.34           1                  N   \n1                    1           1.80           1                  N   \n2                    1           1.00           1                  N   \n3                    1           3.70           1                  N   \n5                    6           2.30           1                  N   \n...                ...            ...         ...                ...   \n22692                1           5.70           1                  N   \n22693                1           0.89           1                  N   \n22695                1          16.71           2                  N   \n22697                1           2.36           1                  N   \n22698                1           2.10           1                  N   \n\n       PULocationID  DOLocationID  payment_type  fare_amount  extra  mta_tax  \\\n0               100           231             1         13.0    0.0      0.5   \n1               186            43             1         16.0    0.0      0.5   \n2               262           236             1          6.5    0.0      0.5   \n3               188            97             1         20.5    0.0      0.5   \n5               161           236             1          9.0    0.5      0.5   \n...             ...           ...           ...          ...    ...      ...   \n22692           249            17             1         19.0    0.5      0.5   \n22693           229           170             1          7.5    0.5      0.5   \n22695           132           164             1         52.0    0.0      0.5   \n22697            68           144             1         10.5    0.0      0.5   \n22698           239           236             1         11.0    0.0      0.5   \n\n       tip_amount  tolls_amount  improvement_surcharge  total_amount  \\\n0            2.76          0.00                    0.3         16.56   \n1            4.00          0.00                    0.3         20.80   \n2            1.45          0.00                    0.3          8.75   \n3            6.39          0.00                    0.3         27.69   \n5            2.06          0.00                    0.3         12.36   \n...           ...           ...                    ...           ...   \n22692        4.05          0.00                    0.3         24.35   \n22693        1.76          0.00                    0.3         10.56   \n22695       14.64          5.76                    0.3         73.20   \n22697        1.70          0.00                    0.3         13.00   \n22698        2.35          0.00                    0.3         14.15   \n\n       mean_duration  mean_distance  predicted_fare  tip_percent  generous  \\\n0              22.85           3.52       16.162901     0.200000         1   \n1              24.47           3.11       15.809750     0.238095         1   \n2               7.25           0.88        6.998067     0.198630         0   \n3              30.25           3.70       18.495842     0.300000         1   \n5              11.86           2.05       10.225339     0.200000         1   \n...              ...            ...             ...          ...       ...   \n22692          18.02           5.70       19.564730     0.199507         0   \n22693           8.10           1.06        7.205592     0.200000         0   \n22695          59.56          18.76       52.000000     0.250000         1   \n22697          16.65           2.08       11.565668     0.150442         0   \n22698           9.41           1.48        8.479292     0.199153         0   \n\n            day  am_rush  daytime  pm_rush  nighttime     month  \n0      Saturday        1        0        0          0     March  \n1       Tuesday        0        1        0          0     April  \n2        Friday        1        0        0          0  December  \n3        Sunday        0        1        0          0       May  \n5      Saturday        0        0        0          1     March  \n...         ...      ...      ...      ...        ...       ...  \n22692    Sunday        0        0        0          1      July  \n22693  Thursday        0        0        0          1    August  \n22695    Sunday        0        0        1          0    August  \n22697  Saturday        0        1        0          0      July  \n22698  Thursday        0        1        0          0     March  \n\n[15265 rows x 29 columns]",
      "text/html": "<div>\n<style scoped>\n    .dataframe tbody tr th:only-of-type {\n        vertical-align: middle;\n    }\n\n    .dataframe tbody tr th {\n        vertical-align: top;\n    }\n\n    .dataframe thead th {\n        text-align: right;\n    }\n</style>\n<table border=\"1\" class=\"dataframe\">\n  <thead>\n    <tr style=\"text-align: right;\">\n      <th></th>\n      <th>Unnamed: 0</th>\n      <th>VendorID</th>\n      <th>tpep_pickup_datetime</th>\n      <th>tpep_dropoff_datetime</th>\n      <th>passenger_count</th>\n      <th>trip_distance</th>\n      <th>RatecodeID</th>\n      <th>store_and_fwd_flag</th>\n      <th>PULocationID</th>\n      <th>DOLocationID</th>\n      <th>payment_type</th>\n      <th>fare_amount</th>\n      <th>extra</th>\n      <th>mta_tax</th>\n      <th>tip_amount</th>\n      <th>tolls_amount</th>\n      <th>improvement_surcharge</th>\n      <th>total_amount</th>\n      <th>mean_duration</th>\n      <th>mean_distance</th>\n      <th>predicted_fare</th>\n      <th>tip_percent</th>\n      <th>generous</th>\n      <th>day</th>\n      <th>am_rush</th>\n      <th>daytime</th>\n      <th>pm_rush</th>\n      <th>nighttime</th>\n      <th>month</th>\n    </tr>\n  </thead>\n  <tbody>\n    <tr>\n      <th>0</th>\n      <td>24870114</td>\n      <td>2</td>\n      <td>2017-03-25 08:55:43</td>\n      <td>2017-03-25 09:09:47</td>\n      <td>6</td>\n      <td>3.34</td>\n      <td>1</td>\n      <td>N</td>\n      <td>100</td>\n      <td>231</td>\n      <td>1</td>\n      <td>13.0</td>\n      <td>0.0</td>\n      <td>0.5</td>\n      <td>2.76</td>\n      <td>0.00</td>\n      <td>0.3</td>\n      <td>16.56</td>\n      <td>22.85</td>\n      <td>3.52</td>\n      <td>16.162901</td>\n      <td>0.200000</td>\n      <td>1</td>\n      <td>Saturday</td>\n      <td>1</td>\n      <td>0</td>\n      <td>0</td>\n      <td>0</td>\n      <td>March</td>\n    </tr>\n    <tr>\n      <th>1</th>\n      <td>35634249</td>\n      <td>1</td>\n      <td>2017-04-11 14:53:28</td>\n      <td>2017-04-11 15:19:58</td>\n      <td>1</td>\n      <td>1.80</td>\n      <td>1</td>\n      <td>N</td>\n      <td>186</td>\n      <td>43</td>\n      <td>1</td>\n      <td>16.0</td>\n      <td>0.0</td>\n      <td>0.5</td>\n      <td>4.00</td>\n      <td>0.00</td>\n      <td>0.3</td>\n      <td>20.80</td>\n      <td>24.47</td>\n      <td>3.11</td>\n      <td>15.809750</td>\n      <td>0.238095</td>\n      <td>1</td>\n      <td>Tuesday</td>\n      <td>0</td>\n      <td>1</td>\n      <td>0</td>\n      <td>0</td>\n      <td>April</td>\n    </tr>\n    <tr>\n      <th>2</th>\n      <td>106203690</td>\n      <td>1</td>\n      <td>2017-12-15 07:26:56</td>\n      <td>2017-12-15 07:34:08</td>\n      <td>1</td>\n      <td>1.00</td>\n      <td>1</td>\n      <td>N</td>\n      <td>262</td>\n      <td>236</td>\n      <td>1</td>\n      <td>6.5</td>\n      <td>0.0</td>\n      <td>0.5</td>\n      <td>1.45</td>\n      <td>0.00</td>\n      <td>0.3</td>\n      <td>8.75</td>\n      <td>7.25</td>\n      <td>0.88</td>\n      <td>6.998067</td>\n      <td>0.198630</td>\n      <td>0</td>\n      <td>Friday</td>\n      <td>1</td>\n      <td>0</td>\n      <td>0</td>\n      <td>0</td>\n      <td>December</td>\n    </tr>\n    <tr>\n      <th>3</th>\n      <td>38942136</td>\n      <td>2</td>\n      <td>2017-05-07 13:17:59</td>\n      <td>2017-05-07 13:48:14</td>\n      <td>1</td>\n      <td>3.70</td>\n      <td>1</td>\n      <td>N</td>\n      <td>188</td>\n      <td>97</td>\n      <td>1</td>\n      <td>20.5</td>\n      <td>0.0</td>\n      <td>0.5</td>\n      <td>6.39</td>\n      <td>0.00</td>\n      <td>0.3</td>\n      <td>27.69</td>\n      <td>30.25</td>\n      <td>3.70</td>\n      <td>18.495842</td>\n      <td>0.300000</td>\n      <td>1</td>\n      <td>Sunday</td>\n      <td>0</td>\n      <td>1</td>\n      <td>0</td>\n      <td>0</td>\n      <td>May</td>\n    </tr>\n    <tr>\n      <th>5</th>\n      <td>23345809</td>\n      <td>2</td>\n      <td>2017-03-25 20:34:11</td>\n      <td>2017-03-25 20:42:11</td>\n      <td>6</td>\n      <td>2.30</td>\n      <td>1</td>\n      <td>N</td>\n      <td>161</td>\n      <td>236</td>\n      <td>1</td>\n      <td>9.0</td>\n      <td>0.5</td>\n      <td>0.5</td>\n      <td>2.06</td>\n      <td>0.00</td>\n      <td>0.3</td>\n      <td>12.36</td>\n      <td>11.86</td>\n      <td>2.05</td>\n      <td>10.225339</td>\n      <td>0.200000</td>\n      <td>1</td>\n      <td>Saturday</td>\n      <td>0</td>\n      <td>0</td>\n      <td>0</td>\n      <td>1</td>\n      <td>March</td>\n    </tr>\n    <tr>\n      <th>...</th>\n      <td>...</td>\n      <td>...</td>\n      <td>...</td>\n      <td>...</td>\n      <td>...</td>\n      <td>...</td>\n      <td>...</td>\n      <td>...</td>\n      <td>...</td>\n      <td>...</td>\n      <td>...</td>\n      <td>...</td>\n      <td>...</td>\n      <td>...</td>\n      <td>...</td>\n      <td>...</td>\n      <td>...</td>\n      <td>...</td>\n      <td>...</td>\n      <td>...</td>\n      <td>...</td>\n      <td>...</td>\n      <td>...</td>\n      <td>...</td>\n      <td>...</td>\n      <td>...</td>\n      <td>...</td>\n      <td>...</td>\n      <td>...</td>\n    </tr>\n    <tr>\n      <th>22692</th>\n      <td>60425673</td>\n      <td>1</td>\n      <td>2017-07-16 03:22:51</td>\n      <td>2017-07-16 03:40:52</td>\n      <td>1</td>\n      <td>5.70</td>\n      <td>1</td>\n      <td>N</td>\n      <td>249</td>\n      <td>17</td>\n      <td>1</td>\n      <td>19.0</td>\n      <td>0.5</td>\n      <td>0.5</td>\n      <td>4.05</td>\n      <td>0.00</td>\n      <td>0.3</td>\n      <td>24.35</td>\n      <td>18.02</td>\n      <td>5.70</td>\n      <td>19.564730</td>\n      <td>0.199507</td>\n      <td>0</td>\n      <td>Sunday</td>\n      <td>0</td>\n      <td>0</td>\n      <td>0</td>\n      <td>1</td>\n      <td>July</td>\n    </tr>\n    <tr>\n      <th>22693</th>\n      <td>67858616</td>\n      <td>2</td>\n      <td>2017-08-10 22:20:04</td>\n      <td>2017-08-10 22:29:31</td>\n      <td>1</td>\n      <td>0.89</td>\n      <td>1</td>\n      <td>N</td>\n      <td>229</td>\n      <td>170</td>\n      <td>1</td>\n      <td>7.5</td>\n      <td>0.5</td>\n      <td>0.5</td>\n      <td>1.76</td>\n      <td>0.00</td>\n      <td>0.3</td>\n      <td>10.56</td>\n      <td>8.10</td>\n      <td>1.06</td>\n      <td>7.205592</td>\n      <td>0.200000</td>\n      <td>0</td>\n      <td>Thursday</td>\n      <td>0</td>\n      <td>0</td>\n      <td>0</td>\n      <td>1</td>\n      <td>August</td>\n    </tr>\n    <tr>\n      <th>22695</th>\n      <td>66632549</td>\n      <td>2</td>\n      <td>2017-08-06 16:43:59</td>\n      <td>2017-08-06 17:24:47</td>\n      <td>1</td>\n      <td>16.71</td>\n      <td>2</td>\n      <td>N</td>\n      <td>132</td>\n      <td>164</td>\n      <td>1</td>\n      <td>52.0</td>\n      <td>0.0</td>\n      <td>0.5</td>\n      <td>14.64</td>\n      <td>5.76</td>\n      <td>0.3</td>\n      <td>73.20</td>\n      <td>59.56</td>\n      <td>18.76</td>\n      <td>52.000000</td>\n      <td>0.250000</td>\n      <td>1</td>\n      <td>Sunday</td>\n      <td>0</td>\n      <td>0</td>\n      <td>1</td>\n      <td>0</td>\n      <td>August</td>\n    </tr>\n    <tr>\n      <th>22697</th>\n      <td>60217333</td>\n      <td>2</td>\n      <td>2017-07-15 12:56:30</td>\n      <td>2017-07-15 13:08:26</td>\n      <td>1</td>\n      <td>2.36</td>\n      <td>1</td>\n      <td>N</td>\n      <td>68</td>\n      <td>144</td>\n      <td>1</td>\n      <td>10.5</td>\n      <td>0.0</td>\n      <td>0.5</td>\n      <td>1.70</td>\n      <td>0.00</td>\n      <td>0.3</td>\n      <td>13.00</td>\n      <td>16.65</td>\n      <td>2.08</td>\n      <td>11.565668</td>\n      <td>0.150442</td>\n      <td>0</td>\n      <td>Saturday</td>\n      <td>0</td>\n      <td>1</td>\n      <td>0</td>\n      <td>0</td>\n      <td>July</td>\n    </tr>\n    <tr>\n      <th>22698</th>\n      <td>17208911</td>\n      <td>1</td>\n      <td>2017-03-02 13:02:49</td>\n      <td>2017-03-02 13:16:09</td>\n      <td>1</td>\n      <td>2.10</td>\n      <td>1</td>\n      <td>N</td>\n      <td>239</td>\n      <td>236</td>\n      <td>1</td>\n      <td>11.0</td>\n      <td>0.0</td>\n      <td>0.5</td>\n      <td>2.35</td>\n      <td>0.00</td>\n      <td>0.3</td>\n      <td>14.15</td>\n      <td>9.41</td>\n      <td>1.48</td>\n      <td>8.479292</td>\n      <td>0.199153</td>\n      <td>0</td>\n      <td>Thursday</td>\n      <td>0</td>\n      <td>1</td>\n      <td>0</td>\n      <td>0</td>\n      <td>March</td>\n    </tr>\n  </tbody>\n</table>\n<p>15265 rows × 29 columns</p>\n</div>"
     },
     "execution_count": 145,
     "metadata": {},
     "output_type": "execute_result"
    }
   ],
   "source": [
    "df1['month'] = df1['tpep_pickup_datetime'].dt.month_name().astype(str)\n",
    "df1"
   ],
   "metadata": {
    "collapsed": false,
    "ExecuteTime": {
     "end_time": "2024-11-22T13:04:38.656407Z",
     "start_time": "2024-11-22T13:04:38.632407Z"
    }
   },
   "id": "8a58989a5098720d",
   "execution_count": 145
  },
  {
   "cell_type": "code",
   "outputs": [
    {
     "name": "stdout",
     "output_type": "stream",
     "text": [
      "<class 'pandas.core.frame.DataFrame'>\n",
      "Index: 15265 entries, 0 to 22698\n",
      "Data columns (total 15 columns):\n",
      " #   Column           Non-Null Count  Dtype  \n",
      "---  ------           --------------  -----  \n",
      " 0   VendorID         15265 non-null  int64  \n",
      " 1   passenger_count  15265 non-null  int64  \n",
      " 2   RatecodeID       15265 non-null  int64  \n",
      " 3   PULocationID     15265 non-null  int64  \n",
      " 4   DOLocationID     15265 non-null  int64  \n",
      " 5   mean_duration    15265 non-null  float64\n",
      " 6   mean_distance    15265 non-null  float64\n",
      " 7   predicted_fare   15265 non-null  float64\n",
      " 8   generous         15265 non-null  int32  \n",
      " 9   day              15265 non-null  object \n",
      " 10  am_rush          15265 non-null  int32  \n",
      " 11  daytime          15265 non-null  int32  \n",
      " 12  pm_rush          15265 non-null  int32  \n",
      " 13  nighttime        15265 non-null  int32  \n",
      " 14  month            15265 non-null  object \n",
      "dtypes: float64(3), int32(5), int64(5), object(2)\n",
      "memory usage: 1.6+ MB\n"
     ]
    }
   ],
   "source": [
    "col = ['Unnamed: 0','tpep_pickup_datetime','tpep_dropoff_datetime','payment_type','trip_distance','store_and_fwd_flag','payment_type','fare_amount','extra','mta_tax','tip_amount','tolls_amount','improvement_surcharge','total_amount','tip_percent']\n",
    "df1 = df1.drop(col,axis=1)\n",
    "df1.info()"
   ],
   "metadata": {
    "collapsed": false,
    "ExecuteTime": {
     "end_time": "2024-11-22T13:04:38.670872Z",
     "start_time": "2024-11-22T13:04:38.657410Z"
    }
   },
   "id": "954708dc0b6484ff",
   "execution_count": 146
  },
  {
   "cell_type": "code",
   "outputs": [
    {
     "name": "stdout",
     "output_type": "stream",
     "text": [
      "<class 'pandas.core.frame.DataFrame'>\n",
      "Index: 15265 entries, 0 to 22698\n",
      "Data columns (total 15 columns):\n",
      " #   Column           Non-Null Count  Dtype  \n",
      "---  ------           --------------  -----  \n",
      " 0   VendorID         15265 non-null  object \n",
      " 1   passenger_count  15265 non-null  int64  \n",
      " 2   RatecodeID       15265 non-null  object \n",
      " 3   PULocationID     15265 non-null  object \n",
      " 4   DOLocationID     15265 non-null  object \n",
      " 5   mean_duration    15265 non-null  float64\n",
      " 6   mean_distance    15265 non-null  float64\n",
      " 7   predicted_fare   15265 non-null  float64\n",
      " 8   generous         15265 non-null  int32  \n",
      " 9   day              15265 non-null  object \n",
      " 10  am_rush          15265 non-null  int32  \n",
      " 11  daytime          15265 non-null  int32  \n",
      " 12  pm_rush          15265 non-null  int32  \n",
      " 13  nighttime        15265 non-null  int32  \n",
      " 14  month            15265 non-null  object \n",
      "dtypes: float64(3), int32(5), int64(1), object(6)\n",
      "memory usage: 1.6+ MB\n"
     ]
    }
   ],
   "source": [
    "col = ['RatecodeID','PULocationID','DOLocationID','VendorID']\n",
    "for cols in col:\n",
    "    df1[col] = df1[col].astype('str')\n",
    "df1.info()"
   ],
   "metadata": {
    "collapsed": false,
    "ExecuteTime": {
     "end_time": "2024-11-22T13:04:38.706281Z",
     "start_time": "2024-11-22T13:04:38.672888Z"
    }
   },
   "id": "a2ea87cdc0d40ba",
   "execution_count": 147
  },
  {
   "cell_type": "code",
   "outputs": [
    {
     "name": "stdout",
     "output_type": "stream",
     "text": [
      "<class 'pandas.core.frame.DataFrame'>\n",
      "Index: 15265 entries, 0 to 22698\n",
      "Columns: 347 entries, passenger_count to month_September\n",
      "dtypes: bool(338), float64(3), int32(5), int64(1)\n",
      "memory usage: 5.8 MB\n"
     ]
    }
   ],
   "source": [
    "df2 = pd.get_dummies(df1, drop_first=True)\n",
    "df2.info()"
   ],
   "metadata": {
    "collapsed": false,
    "ExecuteTime": {
     "end_time": "2024-11-22T13:04:38.736667Z",
     "start_time": "2024-11-22T13:04:38.707433Z"
    }
   },
   "id": "ce3a0cc35d8eb0e4",
   "execution_count": 148
  },
  {
   "cell_type": "code",
   "outputs": [
    {
     "data": {
      "text/plain": "generous\n0    9944\n1    5321\nName: count, dtype: int64"
     },
     "execution_count": 149,
     "metadata": {},
     "output_type": "execute_result"
    }
   ],
   "source": [
    "df1['generous'].value_counts()"
   ],
   "metadata": {
    "collapsed": false,
    "ExecuteTime": {
     "end_time": "2024-11-22T13:04:38.743712Z",
     "start_time": "2024-11-22T13:04:38.737675Z"
    }
   },
   "id": "5a6d53fa20705f85",
   "execution_count": 149
  },
  {
   "cell_type": "markdown",
   "source": [
    "## Modelling"
   ],
   "metadata": {
    "collapsed": false
   },
   "id": "3f455fb43099707e"
  },
  {
   "cell_type": "code",
   "outputs": [],
   "source": [
    "Y = df2['generous']\n",
    "X = df2.drop(['generous'],axis=1)\n",
    "xtrain, xtest, ytrain, ytest = train_test_split(X, Y, stratify=Y,test_size=0.6, random_state=69)"
   ],
   "metadata": {
    "collapsed": false,
    "ExecuteTime": {
     "end_time": "2024-11-22T13:04:38.768606Z",
     "start_time": "2024-11-22T13:04:38.744715Z"
    }
   },
   "id": "53179552b2922272",
   "execution_count": 150
  },
  {
   "cell_type": "code",
   "outputs": [],
   "source": [
    "rfc = RandomForestClassifier(random_state=69)\n",
    "cv_para = {'max_depth':[None],'min_samples_split':[2],'min_samples_leaf':[1],'max_features':[1.0],'max_samples':[0.7],'n_estimators':[300]}\n",
    "score = 'accuracy','precision','recall','f1'\n",
    "rfc1 = GridSearchCV(rfc, cv_para, scoring=score, cv=8, refit='f1')"
   ],
   "metadata": {
    "collapsed": false,
    "ExecuteTime": {
     "end_time": "2024-11-22T13:04:38.774302Z",
     "start_time": "2024-11-22T13:04:38.770103Z"
    }
   },
   "id": "79b586064507fe1a",
   "execution_count": 151
  },
  {
   "cell_type": "code",
   "outputs": [
    {
     "data": {
      "text/plain": "GridSearchCV(cv=8, estimator=RandomForestClassifier(random_state=69),\n             param_grid={'max_depth': [None], 'max_features': [1.0],\n                         'max_samples': [0.7], 'min_samples_leaf': [1],\n                         'min_samples_split': [2], 'n_estimators': [300]},\n             refit='f1', scoring=('accuracy', 'precision', 'recall', 'f1'))",
      "text/html": "<style>#sk-container-id-4 {\n  /* Definition of color scheme common for light and dark mode */\n  --sklearn-color-text: black;\n  --sklearn-color-line: gray;\n  /* Definition of color scheme for unfitted estimators */\n  --sklearn-color-unfitted-level-0: #fff5e6;\n  --sklearn-color-unfitted-level-1: #f6e4d2;\n  --sklearn-color-unfitted-level-2: #ffe0b3;\n  --sklearn-color-unfitted-level-3: chocolate;\n  /* Definition of color scheme for fitted estimators */\n  --sklearn-color-fitted-level-0: #f0f8ff;\n  --sklearn-color-fitted-level-1: #d4ebff;\n  --sklearn-color-fitted-level-2: #b3dbfd;\n  --sklearn-color-fitted-level-3: cornflowerblue;\n\n  /* Specific color for light theme */\n  --sklearn-color-text-on-default-background: var(--sg-text-color, var(--theme-code-foreground, var(--jp-content-font-color1, black)));\n  --sklearn-color-background: var(--sg-background-color, var(--theme-background, var(--jp-layout-color0, white)));\n  --sklearn-color-border-box: var(--sg-text-color, var(--theme-code-foreground, var(--jp-content-font-color1, black)));\n  --sklearn-color-icon: #696969;\n\n  @media (prefers-color-scheme: dark) {\n    /* Redefinition of color scheme for dark theme */\n    --sklearn-color-text-on-default-background: var(--sg-text-color, var(--theme-code-foreground, var(--jp-content-font-color1, white)));\n    --sklearn-color-background: var(--sg-background-color, var(--theme-background, var(--jp-layout-color0, #111)));\n    --sklearn-color-border-box: var(--sg-text-color, var(--theme-code-foreground, var(--jp-content-font-color1, white)));\n    --sklearn-color-icon: #878787;\n  }\n}\n\n#sk-container-id-4 {\n  color: var(--sklearn-color-text);\n}\n\n#sk-container-id-4 pre {\n  padding: 0;\n}\n\n#sk-container-id-4 input.sk-hidden--visually {\n  border: 0;\n  clip: rect(1px 1px 1px 1px);\n  clip: rect(1px, 1px, 1px, 1px);\n  height: 1px;\n  margin: -1px;\n  overflow: hidden;\n  padding: 0;\n  position: absolute;\n  width: 1px;\n}\n\n#sk-container-id-4 div.sk-dashed-wrapped {\n  border: 1px dashed var(--sklearn-color-line);\n  margin: 0 0.4em 0.5em 0.4em;\n  box-sizing: border-box;\n  padding-bottom: 0.4em;\n  background-color: var(--sklearn-color-background);\n}\n\n#sk-container-id-4 div.sk-container {\n  /* jupyter's `normalize.less` sets `[hidden] { display: none; }`\n     but bootstrap.min.css set `[hidden] { display: none !important; }`\n     so we also need the `!important` here to be able to override the\n     default hidden behavior on the sphinx rendered scikit-learn.org.\n     See: https://github.com/scikit-learn/scikit-learn/issues/21755 */\n  display: inline-block !important;\n  position: relative;\n}\n\n#sk-container-id-4 div.sk-text-repr-fallback {\n  display: none;\n}\n\ndiv.sk-parallel-item,\ndiv.sk-serial,\ndiv.sk-item {\n  /* draw centered vertical line to link estimators */\n  background-image: linear-gradient(var(--sklearn-color-text-on-default-background), var(--sklearn-color-text-on-default-background));\n  background-size: 2px 100%;\n  background-repeat: no-repeat;\n  background-position: center center;\n}\n\n/* Parallel-specific style estimator block */\n\n#sk-container-id-4 div.sk-parallel-item::after {\n  content: \"\";\n  width: 100%;\n  border-bottom: 2px solid var(--sklearn-color-text-on-default-background);\n  flex-grow: 1;\n}\n\n#sk-container-id-4 div.sk-parallel {\n  display: flex;\n  align-items: stretch;\n  justify-content: center;\n  background-color: var(--sklearn-color-background);\n  position: relative;\n}\n\n#sk-container-id-4 div.sk-parallel-item {\n  display: flex;\n  flex-direction: column;\n}\n\n#sk-container-id-4 div.sk-parallel-item:first-child::after {\n  align-self: flex-end;\n  width: 50%;\n}\n\n#sk-container-id-4 div.sk-parallel-item:last-child::after {\n  align-self: flex-start;\n  width: 50%;\n}\n\n#sk-container-id-4 div.sk-parallel-item:only-child::after {\n  width: 0;\n}\n\n/* Serial-specific style estimator block */\n\n#sk-container-id-4 div.sk-serial {\n  display: flex;\n  flex-direction: column;\n  align-items: center;\n  background-color: var(--sklearn-color-background);\n  padding-right: 1em;\n  padding-left: 1em;\n}\n\n\n/* Toggleable style: style used for estimator/Pipeline/ColumnTransformer box that is\nclickable and can be expanded/collapsed.\n- Pipeline and ColumnTransformer use this feature and define the default style\n- Estimators will overwrite some part of the style using the `sk-estimator` class\n*/\n\n/* Pipeline and ColumnTransformer style (default) */\n\n#sk-container-id-4 div.sk-toggleable {\n  /* Default theme specific background. It is overwritten whether we have a\n  specific estimator or a Pipeline/ColumnTransformer */\n  background-color: var(--sklearn-color-background);\n}\n\n/* Toggleable label */\n#sk-container-id-4 label.sk-toggleable__label {\n  cursor: pointer;\n  display: block;\n  width: 100%;\n  margin-bottom: 0;\n  padding: 0.5em;\n  box-sizing: border-box;\n  text-align: center;\n}\n\n#sk-container-id-4 label.sk-toggleable__label-arrow:before {\n  /* Arrow on the left of the label */\n  content: \"▸\";\n  float: left;\n  margin-right: 0.25em;\n  color: var(--sklearn-color-icon);\n}\n\n#sk-container-id-4 label.sk-toggleable__label-arrow:hover:before {\n  color: var(--sklearn-color-text);\n}\n\n/* Toggleable content - dropdown */\n\n#sk-container-id-4 div.sk-toggleable__content {\n  max-height: 0;\n  max-width: 0;\n  overflow: hidden;\n  text-align: left;\n  /* unfitted */\n  background-color: var(--sklearn-color-unfitted-level-0);\n}\n\n#sk-container-id-4 div.sk-toggleable__content.fitted {\n  /* fitted */\n  background-color: var(--sklearn-color-fitted-level-0);\n}\n\n#sk-container-id-4 div.sk-toggleable__content pre {\n  margin: 0.2em;\n  border-radius: 0.25em;\n  color: var(--sklearn-color-text);\n  /* unfitted */\n  background-color: var(--sklearn-color-unfitted-level-0);\n}\n\n#sk-container-id-4 div.sk-toggleable__content.fitted pre {\n  /* unfitted */\n  background-color: var(--sklearn-color-fitted-level-0);\n}\n\n#sk-container-id-4 input.sk-toggleable__control:checked~div.sk-toggleable__content {\n  /* Expand drop-down */\n  max-height: 200px;\n  max-width: 100%;\n  overflow: auto;\n}\n\n#sk-container-id-4 input.sk-toggleable__control:checked~label.sk-toggleable__label-arrow:before {\n  content: \"▾\";\n}\n\n/* Pipeline/ColumnTransformer-specific style */\n\n#sk-container-id-4 div.sk-label input.sk-toggleable__control:checked~label.sk-toggleable__label {\n  color: var(--sklearn-color-text);\n  background-color: var(--sklearn-color-unfitted-level-2);\n}\n\n#sk-container-id-4 div.sk-label.fitted input.sk-toggleable__control:checked~label.sk-toggleable__label {\n  background-color: var(--sklearn-color-fitted-level-2);\n}\n\n/* Estimator-specific style */\n\n/* Colorize estimator box */\n#sk-container-id-4 div.sk-estimator input.sk-toggleable__control:checked~label.sk-toggleable__label {\n  /* unfitted */\n  background-color: var(--sklearn-color-unfitted-level-2);\n}\n\n#sk-container-id-4 div.sk-estimator.fitted input.sk-toggleable__control:checked~label.sk-toggleable__label {\n  /* fitted */\n  background-color: var(--sklearn-color-fitted-level-2);\n}\n\n#sk-container-id-4 div.sk-label label.sk-toggleable__label,\n#sk-container-id-4 div.sk-label label {\n  /* The background is the default theme color */\n  color: var(--sklearn-color-text-on-default-background);\n}\n\n/* On hover, darken the color of the background */\n#sk-container-id-4 div.sk-label:hover label.sk-toggleable__label {\n  color: var(--sklearn-color-text);\n  background-color: var(--sklearn-color-unfitted-level-2);\n}\n\n/* Label box, darken color on hover, fitted */\n#sk-container-id-4 div.sk-label.fitted:hover label.sk-toggleable__label.fitted {\n  color: var(--sklearn-color-text);\n  background-color: var(--sklearn-color-fitted-level-2);\n}\n\n/* Estimator label */\n\n#sk-container-id-4 div.sk-label label {\n  font-family: monospace;\n  font-weight: bold;\n  display: inline-block;\n  line-height: 1.2em;\n}\n\n#sk-container-id-4 div.sk-label-container {\n  text-align: center;\n}\n\n/* Estimator-specific */\n#sk-container-id-4 div.sk-estimator {\n  font-family: monospace;\n  border: 1px dotted var(--sklearn-color-border-box);\n  border-radius: 0.25em;\n  box-sizing: border-box;\n  margin-bottom: 0.5em;\n  /* unfitted */\n  background-color: var(--sklearn-color-unfitted-level-0);\n}\n\n#sk-container-id-4 div.sk-estimator.fitted {\n  /* fitted */\n  background-color: var(--sklearn-color-fitted-level-0);\n}\n\n/* on hover */\n#sk-container-id-4 div.sk-estimator:hover {\n  /* unfitted */\n  background-color: var(--sklearn-color-unfitted-level-2);\n}\n\n#sk-container-id-4 div.sk-estimator.fitted:hover {\n  /* fitted */\n  background-color: var(--sklearn-color-fitted-level-2);\n}\n\n/* Specification for estimator info (e.g. \"i\" and \"?\") */\n\n/* Common style for \"i\" and \"?\" */\n\n.sk-estimator-doc-link,\na:link.sk-estimator-doc-link,\na:visited.sk-estimator-doc-link {\n  float: right;\n  font-size: smaller;\n  line-height: 1em;\n  font-family: monospace;\n  background-color: var(--sklearn-color-background);\n  border-radius: 1em;\n  height: 1em;\n  width: 1em;\n  text-decoration: none !important;\n  margin-left: 1ex;\n  /* unfitted */\n  border: var(--sklearn-color-unfitted-level-1) 1pt solid;\n  color: var(--sklearn-color-unfitted-level-1);\n}\n\n.sk-estimator-doc-link.fitted,\na:link.sk-estimator-doc-link.fitted,\na:visited.sk-estimator-doc-link.fitted {\n  /* fitted */\n  border: var(--sklearn-color-fitted-level-1) 1pt solid;\n  color: var(--sklearn-color-fitted-level-1);\n}\n\n/* On hover */\ndiv.sk-estimator:hover .sk-estimator-doc-link:hover,\n.sk-estimator-doc-link:hover,\ndiv.sk-label-container:hover .sk-estimator-doc-link:hover,\n.sk-estimator-doc-link:hover {\n  /* unfitted */\n  background-color: var(--sklearn-color-unfitted-level-3);\n  color: var(--sklearn-color-background);\n  text-decoration: none;\n}\n\ndiv.sk-estimator.fitted:hover .sk-estimator-doc-link.fitted:hover,\n.sk-estimator-doc-link.fitted:hover,\ndiv.sk-label-container:hover .sk-estimator-doc-link.fitted:hover,\n.sk-estimator-doc-link.fitted:hover {\n  /* fitted */\n  background-color: var(--sklearn-color-fitted-level-3);\n  color: var(--sklearn-color-background);\n  text-decoration: none;\n}\n\n/* Span, style for the box shown on hovering the info icon */\n.sk-estimator-doc-link span {\n  display: none;\n  z-index: 9999;\n  position: relative;\n  font-weight: normal;\n  right: .2ex;\n  padding: .5ex;\n  margin: .5ex;\n  width: min-content;\n  min-width: 20ex;\n  max-width: 50ex;\n  color: var(--sklearn-color-text);\n  box-shadow: 2pt 2pt 4pt #999;\n  /* unfitted */\n  background: var(--sklearn-color-unfitted-level-0);\n  border: .5pt solid var(--sklearn-color-unfitted-level-3);\n}\n\n.sk-estimator-doc-link.fitted span {\n  /* fitted */\n  background: var(--sklearn-color-fitted-level-0);\n  border: var(--sklearn-color-fitted-level-3);\n}\n\n.sk-estimator-doc-link:hover span {\n  display: block;\n}\n\n/* \"?\"-specific style due to the `<a>` HTML tag */\n\n#sk-container-id-4 a.estimator_doc_link {\n  float: right;\n  font-size: 1rem;\n  line-height: 1em;\n  font-family: monospace;\n  background-color: var(--sklearn-color-background);\n  border-radius: 1rem;\n  height: 1rem;\n  width: 1rem;\n  text-decoration: none;\n  /* unfitted */\n  color: var(--sklearn-color-unfitted-level-1);\n  border: var(--sklearn-color-unfitted-level-1) 1pt solid;\n}\n\n#sk-container-id-4 a.estimator_doc_link.fitted {\n  /* fitted */\n  border: var(--sklearn-color-fitted-level-1) 1pt solid;\n  color: var(--sklearn-color-fitted-level-1);\n}\n\n/* On hover */\n#sk-container-id-4 a.estimator_doc_link:hover {\n  /* unfitted */\n  background-color: var(--sklearn-color-unfitted-level-3);\n  color: var(--sklearn-color-background);\n  text-decoration: none;\n}\n\n#sk-container-id-4 a.estimator_doc_link.fitted:hover {\n  /* fitted */\n  background-color: var(--sklearn-color-fitted-level-3);\n}\n</style><div id=\"sk-container-id-4\" class=\"sk-top-container\"><div class=\"sk-text-repr-fallback\"><pre>GridSearchCV(cv=8, estimator=RandomForestClassifier(random_state=69),\n             param_grid={&#x27;max_depth&#x27;: [None], &#x27;max_features&#x27;: [1.0],\n                         &#x27;max_samples&#x27;: [0.7], &#x27;min_samples_leaf&#x27;: [1],\n                         &#x27;min_samples_split&#x27;: [2], &#x27;n_estimators&#x27;: [300]},\n             refit=&#x27;f1&#x27;, scoring=(&#x27;accuracy&#x27;, &#x27;precision&#x27;, &#x27;recall&#x27;, &#x27;f1&#x27;))</pre><b>In a Jupyter environment, please rerun this cell to show the HTML representation or trust the notebook. <br />On GitHub, the HTML representation is unable to render, please try loading this page with nbviewer.org.</b></div><div class=\"sk-container\" hidden><div class=\"sk-item sk-dashed-wrapped\"><div class=\"sk-label-container\"><div class=\"sk-label fitted sk-toggleable\"><input class=\"sk-toggleable__control sk-hidden--visually\" id=\"sk-estimator-id-10\" type=\"checkbox\" ><label for=\"sk-estimator-id-10\" class=\"sk-toggleable__label fitted sk-toggleable__label-arrow fitted\">&nbsp;&nbsp;GridSearchCV<a class=\"sk-estimator-doc-link fitted\" rel=\"noreferrer\" target=\"_blank\" href=\"https://scikit-learn.org/1.5/modules/generated/sklearn.model_selection.GridSearchCV.html\">?<span>Documentation for GridSearchCV</span></a><span class=\"sk-estimator-doc-link fitted\">i<span>Fitted</span></span></label><div class=\"sk-toggleable__content fitted\"><pre>GridSearchCV(cv=8, estimator=RandomForestClassifier(random_state=69),\n             param_grid={&#x27;max_depth&#x27;: [None], &#x27;max_features&#x27;: [1.0],\n                         &#x27;max_samples&#x27;: [0.7], &#x27;min_samples_leaf&#x27;: [1],\n                         &#x27;min_samples_split&#x27;: [2], &#x27;n_estimators&#x27;: [300]},\n             refit=&#x27;f1&#x27;, scoring=(&#x27;accuracy&#x27;, &#x27;precision&#x27;, &#x27;recall&#x27;, &#x27;f1&#x27;))</pre></div> </div></div><div class=\"sk-parallel\"><div class=\"sk-parallel-item\"><div class=\"sk-item\"><div class=\"sk-label-container\"><div class=\"sk-label fitted sk-toggleable\"><input class=\"sk-toggleable__control sk-hidden--visually\" id=\"sk-estimator-id-11\" type=\"checkbox\" ><label for=\"sk-estimator-id-11\" class=\"sk-toggleable__label fitted sk-toggleable__label-arrow fitted\">best_estimator_: RandomForestClassifier</label><div class=\"sk-toggleable__content fitted\"><pre>RandomForestClassifier(max_features=1.0, max_samples=0.7, n_estimators=300,\n                       random_state=69)</pre></div> </div></div><div class=\"sk-serial\"><div class=\"sk-item\"><div class=\"sk-estimator fitted sk-toggleable\"><input class=\"sk-toggleable__control sk-hidden--visually\" id=\"sk-estimator-id-12\" type=\"checkbox\" ><label for=\"sk-estimator-id-12\" class=\"sk-toggleable__label fitted sk-toggleable__label-arrow fitted\">&nbsp;RandomForestClassifier<a class=\"sk-estimator-doc-link fitted\" rel=\"noreferrer\" target=\"_blank\" href=\"https://scikit-learn.org/1.5/modules/generated/sklearn.ensemble.RandomForestClassifier.html\">?<span>Documentation for RandomForestClassifier</span></a></label><div class=\"sk-toggleable__content fitted\"><pre>RandomForestClassifier(max_features=1.0, max_samples=0.7, n_estimators=300,\n                       random_state=69)</pre></div> </div></div></div></div></div></div></div></div></div>"
     },
     "execution_count": 152,
     "metadata": {},
     "output_type": "execute_result"
    }
   ],
   "source": [
    "rfc1.fit(xtrain, ytrain)"
   ],
   "metadata": {
    "collapsed": false,
    "ExecuteTime": {
     "end_time": "2024-11-22T13:07:22.566300Z",
     "start_time": "2024-11-22T13:04:38.776007Z"
    }
   },
   "id": "db4f5c3724855d62",
   "execution_count": 152
  },
  {
   "cell_type": "code",
   "outputs": [
    {
     "data": {
      "text/plain": "['Models/NYC_TLC_rfc_model.pkl']"
     },
     "execution_count": 153,
     "metadata": {},
     "output_type": "execute_result"
    }
   ],
   "source": [
    "import joblib\n",
    "from joblib import Parallel, delayed\n",
    "\n",
    "joblib.dump(rfc1, 'Models/NYC_TLC_rfc_model.pkl')"
   ],
   "metadata": {
    "collapsed": false,
    "ExecuteTime": {
     "end_time": "2024-11-22T13:07:22.684308Z",
     "start_time": "2024-11-22T13:07:22.567308Z"
    }
   },
   "id": "cc730d793711d001",
   "execution_count": 153
  },
  {
   "cell_type": "code",
   "outputs": [
    {
     "data": {
      "text/plain": "0.33492370693301765"
     },
     "execution_count": 154,
     "metadata": {},
     "output_type": "execute_result"
    }
   ],
   "source": [
    "rfc1.best_score_"
   ],
   "metadata": {
    "collapsed": false,
    "ExecuteTime": {
     "end_time": "2024-11-22T13:07:22.690342Z",
     "start_time": "2024-11-22T13:07:22.685370Z"
    }
   },
   "id": "4f9bc16bf6ca4ff5",
   "execution_count": 154
  },
  {
   "cell_type": "code",
   "outputs": [
    {
     "data": {
      "text/plain": "{'max_depth': None,\n 'max_features': 1.0,\n 'max_samples': 0.7,\n 'min_samples_leaf': 1,\n 'min_samples_split': 2,\n 'n_estimators': 300}"
     },
     "execution_count": 155,
     "metadata": {},
     "output_type": "execute_result"
    }
   ],
   "source": [
    "rfc1.best_params_"
   ],
   "metadata": {
    "collapsed": false,
    "ExecuteTime": {
     "end_time": "2024-11-22T13:07:22.698419Z",
     "start_time": "2024-11-22T13:07:22.691343Z"
    }
   },
   "id": "f6d4d219b365191c",
   "execution_count": 155
  },
  {
   "cell_type": "code",
   "outputs": [
    {
     "data": {
      "text/plain": "   Model  Precision    Recall        F1  Accuracy\n0  RF CV   0.442856  0.269737  0.334924  0.626928",
      "text/html": "<div>\n<style scoped>\n    .dataframe tbody tr th:only-of-type {\n        vertical-align: middle;\n    }\n\n    .dataframe tbody tr th {\n        vertical-align: top;\n    }\n\n    .dataframe thead th {\n        text-align: right;\n    }\n</style>\n<table border=\"1\" class=\"dataframe\">\n  <thead>\n    <tr style=\"text-align: right;\">\n      <th></th>\n      <th>Model</th>\n      <th>Precision</th>\n      <th>Recall</th>\n      <th>F1</th>\n      <th>Accuracy</th>\n    </tr>\n  </thead>\n  <tbody>\n    <tr>\n      <th>0</th>\n      <td>RF CV</td>\n      <td>0.442856</td>\n      <td>0.269737</td>\n      <td>0.334924</td>\n      <td>0.626928</td>\n    </tr>\n  </tbody>\n</table>\n</div>"
     },
     "execution_count": 156,
     "metadata": {},
     "output_type": "execute_result"
    }
   ],
   "source": [
    "def get_res(model_name:str, model_object, metric:str):\n",
    "    metric_dict = {'accuracy':'mean_test_accuracy','precision':'mean_test_precision','recall':'mean_test_recall','f1':'mean_test_f1'}\n",
    "    cv_res = pd.DataFrame(model_object.cv_results_)\n",
    "    best_est_res = cv_res.iloc[cv_res[metric_dict[metric]].idxmax(), :]\n",
    "    f1 = best_est_res.mean_test_f1\n",
    "    recall = best_est_res.mean_test_recall\n",
    "    precision = best_est_res.mean_test_precision\n",
    "    accuracy = best_est_res.mean_test_accuracy\n",
    "    table = pd.DataFrame({'Model':[model_name],'Precision':[precision],'Recall':[recall],'F1':[f1],'Accuracy':[accuracy]},)\n",
    "    return table\n",
    "res = get_res('RF CV',rfc1,'f1')\n",
    "res"
   ],
   "metadata": {
    "collapsed": false,
    "ExecuteTime": {
     "end_time": "2024-11-22T13:07:22.711041Z",
     "start_time": "2024-11-22T13:07:22.699437Z"
    }
   },
   "id": "d2d99e4f57c144c2",
   "execution_count": 156
  },
  {
   "cell_type": "code",
   "outputs": [
    {
     "data": {
      "text/plain": "     Model  Precision    Recall        F1  Accuracy\n0    RF CV   0.442856  0.269737  0.334924  0.626928\n0  RF Test   0.462211  0.281553  0.349942  0.635331",
      "text/html": "<div>\n<style scoped>\n    .dataframe tbody tr th:only-of-type {\n        vertical-align: middle;\n    }\n\n    .dataframe tbody tr th {\n        vertical-align: top;\n    }\n\n    .dataframe thead th {\n        text-align: right;\n    }\n</style>\n<table border=\"1\" class=\"dataframe\">\n  <thead>\n    <tr style=\"text-align: right;\">\n      <th></th>\n      <th>Model</th>\n      <th>Precision</th>\n      <th>Recall</th>\n      <th>F1</th>\n      <th>Accuracy</th>\n    </tr>\n  </thead>\n  <tbody>\n    <tr>\n      <th>0</th>\n      <td>RF CV</td>\n      <td>0.442856</td>\n      <td>0.269737</td>\n      <td>0.334924</td>\n      <td>0.626928</td>\n    </tr>\n    <tr>\n      <th>0</th>\n      <td>RF Test</td>\n      <td>0.462211</td>\n      <td>0.281553</td>\n      <td>0.349942</td>\n      <td>0.635331</td>\n    </tr>\n  </tbody>\n</table>\n</div>"
     },
     "execution_count": 157,
     "metadata": {},
     "output_type": "execute_result"
    }
   ],
   "source": [
    "pred = rfc1.best_estimator_.predict(xtest)\n",
    "def get_test_score(model_name:str, pred, ytestdata):\n",
    "    acc = met.accuracy_score(ytestdata,pred)\n",
    "    prec = met.precision_score(ytestdata,pred)\n",
    "    rec = met.recall_score(ytestdata,pred)\n",
    "    f1 = met.f1_score(ytestdata,pred)\n",
    "    table = pd.DataFrame({'Model':[model_name],'Precision':[prec],'Recall':[rec],'F1':[f1],'Accuracy':[acc]})\n",
    "    return table\n",
    "rf_test = get_test_score('RF Test',pred,ytest)\n",
    "res = pd.concat([res,rf_test],axis=0)\n",
    "res"
   ],
   "metadata": {
    "collapsed": false,
    "ExecuteTime": {
     "end_time": "2024-11-22T13:07:23.416009Z",
     "start_time": "2024-11-22T13:07:22.713104Z"
    }
   },
   "id": "99ec630665b7ba2e",
   "execution_count": 157
  },
  {
   "cell_type": "code",
   "outputs": [
    {
     "data": {
      "text/plain": "GridSearchCV(cv=8,\n             estimator=XGBClassifier(base_score=None, booster=None,\n                                     callbacks=None, colsample_bylevel=None,\n                                     colsample_bynode=None,\n                                     colsample_bytree=None, device=None,\n                                     early_stopping_rounds=None,\n                                     enable_categorical=False, eval_metric=None,\n                                     feature_types=None, gamma=None,\n                                     grow_policy=None, importance_type=None,\n                                     interaction_constraints=None,\n                                     learning_rate=None,...\n                                     max_delta_step=None, max_depth=None,\n                                     max_leaves=None, min_child_weight=None,\n                                     missing=nan, monotone_constraints=None,\n                                     multi_strategy=None, n_estimators=None,\n                                     n_jobs=None, num_parallel_tree=None,\n                                     random_state=69, ...),\n             param_grid={'learning_rate': [0.3], 'max_depth': [8],\n                         'min_child_weight': [2], 'n_estimators': [500]},\n             refit='f1', scoring=('accuracy', 'precision', 'recall', 'f1'))",
      "text/html": "<style>#sk-container-id-5 {\n  /* Definition of color scheme common for light and dark mode */\n  --sklearn-color-text: black;\n  --sklearn-color-line: gray;\n  /* Definition of color scheme for unfitted estimators */\n  --sklearn-color-unfitted-level-0: #fff5e6;\n  --sklearn-color-unfitted-level-1: #f6e4d2;\n  --sklearn-color-unfitted-level-2: #ffe0b3;\n  --sklearn-color-unfitted-level-3: chocolate;\n  /* Definition of color scheme for fitted estimators */\n  --sklearn-color-fitted-level-0: #f0f8ff;\n  --sklearn-color-fitted-level-1: #d4ebff;\n  --sklearn-color-fitted-level-2: #b3dbfd;\n  --sklearn-color-fitted-level-3: cornflowerblue;\n\n  /* Specific color for light theme */\n  --sklearn-color-text-on-default-background: var(--sg-text-color, var(--theme-code-foreground, var(--jp-content-font-color1, black)));\n  --sklearn-color-background: var(--sg-background-color, var(--theme-background, var(--jp-layout-color0, white)));\n  --sklearn-color-border-box: var(--sg-text-color, var(--theme-code-foreground, var(--jp-content-font-color1, black)));\n  --sklearn-color-icon: #696969;\n\n  @media (prefers-color-scheme: dark) {\n    /* Redefinition of color scheme for dark theme */\n    --sklearn-color-text-on-default-background: var(--sg-text-color, var(--theme-code-foreground, var(--jp-content-font-color1, white)));\n    --sklearn-color-background: var(--sg-background-color, var(--theme-background, var(--jp-layout-color0, #111)));\n    --sklearn-color-border-box: var(--sg-text-color, var(--theme-code-foreground, var(--jp-content-font-color1, white)));\n    --sklearn-color-icon: #878787;\n  }\n}\n\n#sk-container-id-5 {\n  color: var(--sklearn-color-text);\n}\n\n#sk-container-id-5 pre {\n  padding: 0;\n}\n\n#sk-container-id-5 input.sk-hidden--visually {\n  border: 0;\n  clip: rect(1px 1px 1px 1px);\n  clip: rect(1px, 1px, 1px, 1px);\n  height: 1px;\n  margin: -1px;\n  overflow: hidden;\n  padding: 0;\n  position: absolute;\n  width: 1px;\n}\n\n#sk-container-id-5 div.sk-dashed-wrapped {\n  border: 1px dashed var(--sklearn-color-line);\n  margin: 0 0.4em 0.5em 0.4em;\n  box-sizing: border-box;\n  padding-bottom: 0.4em;\n  background-color: var(--sklearn-color-background);\n}\n\n#sk-container-id-5 div.sk-container {\n  /* jupyter's `normalize.less` sets `[hidden] { display: none; }`\n     but bootstrap.min.css set `[hidden] { display: none !important; }`\n     so we also need the `!important` here to be able to override the\n     default hidden behavior on the sphinx rendered scikit-learn.org.\n     See: https://github.com/scikit-learn/scikit-learn/issues/21755 */\n  display: inline-block !important;\n  position: relative;\n}\n\n#sk-container-id-5 div.sk-text-repr-fallback {\n  display: none;\n}\n\ndiv.sk-parallel-item,\ndiv.sk-serial,\ndiv.sk-item {\n  /* draw centered vertical line to link estimators */\n  background-image: linear-gradient(var(--sklearn-color-text-on-default-background), var(--sklearn-color-text-on-default-background));\n  background-size: 2px 100%;\n  background-repeat: no-repeat;\n  background-position: center center;\n}\n\n/* Parallel-specific style estimator block */\n\n#sk-container-id-5 div.sk-parallel-item::after {\n  content: \"\";\n  width: 100%;\n  border-bottom: 2px solid var(--sklearn-color-text-on-default-background);\n  flex-grow: 1;\n}\n\n#sk-container-id-5 div.sk-parallel {\n  display: flex;\n  align-items: stretch;\n  justify-content: center;\n  background-color: var(--sklearn-color-background);\n  position: relative;\n}\n\n#sk-container-id-5 div.sk-parallel-item {\n  display: flex;\n  flex-direction: column;\n}\n\n#sk-container-id-5 div.sk-parallel-item:first-child::after {\n  align-self: flex-end;\n  width: 50%;\n}\n\n#sk-container-id-5 div.sk-parallel-item:last-child::after {\n  align-self: flex-start;\n  width: 50%;\n}\n\n#sk-container-id-5 div.sk-parallel-item:only-child::after {\n  width: 0;\n}\n\n/* Serial-specific style estimator block */\n\n#sk-container-id-5 div.sk-serial {\n  display: flex;\n  flex-direction: column;\n  align-items: center;\n  background-color: var(--sklearn-color-background);\n  padding-right: 1em;\n  padding-left: 1em;\n}\n\n\n/* Toggleable style: style used for estimator/Pipeline/ColumnTransformer box that is\nclickable and can be expanded/collapsed.\n- Pipeline and ColumnTransformer use this feature and define the default style\n- Estimators will overwrite some part of the style using the `sk-estimator` class\n*/\n\n/* Pipeline and ColumnTransformer style (default) */\n\n#sk-container-id-5 div.sk-toggleable {\n  /* Default theme specific background. It is overwritten whether we have a\n  specific estimator or a Pipeline/ColumnTransformer */\n  background-color: var(--sklearn-color-background);\n}\n\n/* Toggleable label */\n#sk-container-id-5 label.sk-toggleable__label {\n  cursor: pointer;\n  display: block;\n  width: 100%;\n  margin-bottom: 0;\n  padding: 0.5em;\n  box-sizing: border-box;\n  text-align: center;\n}\n\n#sk-container-id-5 label.sk-toggleable__label-arrow:before {\n  /* Arrow on the left of the label */\n  content: \"▸\";\n  float: left;\n  margin-right: 0.25em;\n  color: var(--sklearn-color-icon);\n}\n\n#sk-container-id-5 label.sk-toggleable__label-arrow:hover:before {\n  color: var(--sklearn-color-text);\n}\n\n/* Toggleable content - dropdown */\n\n#sk-container-id-5 div.sk-toggleable__content {\n  max-height: 0;\n  max-width: 0;\n  overflow: hidden;\n  text-align: left;\n  /* unfitted */\n  background-color: var(--sklearn-color-unfitted-level-0);\n}\n\n#sk-container-id-5 div.sk-toggleable__content.fitted {\n  /* fitted */\n  background-color: var(--sklearn-color-fitted-level-0);\n}\n\n#sk-container-id-5 div.sk-toggleable__content pre {\n  margin: 0.2em;\n  border-radius: 0.25em;\n  color: var(--sklearn-color-text);\n  /* unfitted */\n  background-color: var(--sklearn-color-unfitted-level-0);\n}\n\n#sk-container-id-5 div.sk-toggleable__content.fitted pre {\n  /* unfitted */\n  background-color: var(--sklearn-color-fitted-level-0);\n}\n\n#sk-container-id-5 input.sk-toggleable__control:checked~div.sk-toggleable__content {\n  /* Expand drop-down */\n  max-height: 200px;\n  max-width: 100%;\n  overflow: auto;\n}\n\n#sk-container-id-5 input.sk-toggleable__control:checked~label.sk-toggleable__label-arrow:before {\n  content: \"▾\";\n}\n\n/* Pipeline/ColumnTransformer-specific style */\n\n#sk-container-id-5 div.sk-label input.sk-toggleable__control:checked~label.sk-toggleable__label {\n  color: var(--sklearn-color-text);\n  background-color: var(--sklearn-color-unfitted-level-2);\n}\n\n#sk-container-id-5 div.sk-label.fitted input.sk-toggleable__control:checked~label.sk-toggleable__label {\n  background-color: var(--sklearn-color-fitted-level-2);\n}\n\n/* Estimator-specific style */\n\n/* Colorize estimator box */\n#sk-container-id-5 div.sk-estimator input.sk-toggleable__control:checked~label.sk-toggleable__label {\n  /* unfitted */\n  background-color: var(--sklearn-color-unfitted-level-2);\n}\n\n#sk-container-id-5 div.sk-estimator.fitted input.sk-toggleable__control:checked~label.sk-toggleable__label {\n  /* fitted */\n  background-color: var(--sklearn-color-fitted-level-2);\n}\n\n#sk-container-id-5 div.sk-label label.sk-toggleable__label,\n#sk-container-id-5 div.sk-label label {\n  /* The background is the default theme color */\n  color: var(--sklearn-color-text-on-default-background);\n}\n\n/* On hover, darken the color of the background */\n#sk-container-id-5 div.sk-label:hover label.sk-toggleable__label {\n  color: var(--sklearn-color-text);\n  background-color: var(--sklearn-color-unfitted-level-2);\n}\n\n/* Label box, darken color on hover, fitted */\n#sk-container-id-5 div.sk-label.fitted:hover label.sk-toggleable__label.fitted {\n  color: var(--sklearn-color-text);\n  background-color: var(--sklearn-color-fitted-level-2);\n}\n\n/* Estimator label */\n\n#sk-container-id-5 div.sk-label label {\n  font-family: monospace;\n  font-weight: bold;\n  display: inline-block;\n  line-height: 1.2em;\n}\n\n#sk-container-id-5 div.sk-label-container {\n  text-align: center;\n}\n\n/* Estimator-specific */\n#sk-container-id-5 div.sk-estimator {\n  font-family: monospace;\n  border: 1px dotted var(--sklearn-color-border-box);\n  border-radius: 0.25em;\n  box-sizing: border-box;\n  margin-bottom: 0.5em;\n  /* unfitted */\n  background-color: var(--sklearn-color-unfitted-level-0);\n}\n\n#sk-container-id-5 div.sk-estimator.fitted {\n  /* fitted */\n  background-color: var(--sklearn-color-fitted-level-0);\n}\n\n/* on hover */\n#sk-container-id-5 div.sk-estimator:hover {\n  /* unfitted */\n  background-color: var(--sklearn-color-unfitted-level-2);\n}\n\n#sk-container-id-5 div.sk-estimator.fitted:hover {\n  /* fitted */\n  background-color: var(--sklearn-color-fitted-level-2);\n}\n\n/* Specification for estimator info (e.g. \"i\" and \"?\") */\n\n/* Common style for \"i\" and \"?\" */\n\n.sk-estimator-doc-link,\na:link.sk-estimator-doc-link,\na:visited.sk-estimator-doc-link {\n  float: right;\n  font-size: smaller;\n  line-height: 1em;\n  font-family: monospace;\n  background-color: var(--sklearn-color-background);\n  border-radius: 1em;\n  height: 1em;\n  width: 1em;\n  text-decoration: none !important;\n  margin-left: 1ex;\n  /* unfitted */\n  border: var(--sklearn-color-unfitted-level-1) 1pt solid;\n  color: var(--sklearn-color-unfitted-level-1);\n}\n\n.sk-estimator-doc-link.fitted,\na:link.sk-estimator-doc-link.fitted,\na:visited.sk-estimator-doc-link.fitted {\n  /* fitted */\n  border: var(--sklearn-color-fitted-level-1) 1pt solid;\n  color: var(--sklearn-color-fitted-level-1);\n}\n\n/* On hover */\ndiv.sk-estimator:hover .sk-estimator-doc-link:hover,\n.sk-estimator-doc-link:hover,\ndiv.sk-label-container:hover .sk-estimator-doc-link:hover,\n.sk-estimator-doc-link:hover {\n  /* unfitted */\n  background-color: var(--sklearn-color-unfitted-level-3);\n  color: var(--sklearn-color-background);\n  text-decoration: none;\n}\n\ndiv.sk-estimator.fitted:hover .sk-estimator-doc-link.fitted:hover,\n.sk-estimator-doc-link.fitted:hover,\ndiv.sk-label-container:hover .sk-estimator-doc-link.fitted:hover,\n.sk-estimator-doc-link.fitted:hover {\n  /* fitted */\n  background-color: var(--sklearn-color-fitted-level-3);\n  color: var(--sklearn-color-background);\n  text-decoration: none;\n}\n\n/* Span, style for the box shown on hovering the info icon */\n.sk-estimator-doc-link span {\n  display: none;\n  z-index: 9999;\n  position: relative;\n  font-weight: normal;\n  right: .2ex;\n  padding: .5ex;\n  margin: .5ex;\n  width: min-content;\n  min-width: 20ex;\n  max-width: 50ex;\n  color: var(--sklearn-color-text);\n  box-shadow: 2pt 2pt 4pt #999;\n  /* unfitted */\n  background: var(--sklearn-color-unfitted-level-0);\n  border: .5pt solid var(--sklearn-color-unfitted-level-3);\n}\n\n.sk-estimator-doc-link.fitted span {\n  /* fitted */\n  background: var(--sklearn-color-fitted-level-0);\n  border: var(--sklearn-color-fitted-level-3);\n}\n\n.sk-estimator-doc-link:hover span {\n  display: block;\n}\n\n/* \"?\"-specific style due to the `<a>` HTML tag */\n\n#sk-container-id-5 a.estimator_doc_link {\n  float: right;\n  font-size: 1rem;\n  line-height: 1em;\n  font-family: monospace;\n  background-color: var(--sklearn-color-background);\n  border-radius: 1rem;\n  height: 1rem;\n  width: 1rem;\n  text-decoration: none;\n  /* unfitted */\n  color: var(--sklearn-color-unfitted-level-1);\n  border: var(--sklearn-color-unfitted-level-1) 1pt solid;\n}\n\n#sk-container-id-5 a.estimator_doc_link.fitted {\n  /* fitted */\n  border: var(--sklearn-color-fitted-level-1) 1pt solid;\n  color: var(--sklearn-color-fitted-level-1);\n}\n\n/* On hover */\n#sk-container-id-5 a.estimator_doc_link:hover {\n  /* unfitted */\n  background-color: var(--sklearn-color-unfitted-level-3);\n  color: var(--sklearn-color-background);\n  text-decoration: none;\n}\n\n#sk-container-id-5 a.estimator_doc_link.fitted:hover {\n  /* fitted */\n  background-color: var(--sklearn-color-fitted-level-3);\n}\n</style><div id=\"sk-container-id-5\" class=\"sk-top-container\"><div class=\"sk-text-repr-fallback\"><pre>GridSearchCV(cv=8,\n             estimator=XGBClassifier(base_score=None, booster=None,\n                                     callbacks=None, colsample_bylevel=None,\n                                     colsample_bynode=None,\n                                     colsample_bytree=None, device=None,\n                                     early_stopping_rounds=None,\n                                     enable_categorical=False, eval_metric=None,\n                                     feature_types=None, gamma=None,\n                                     grow_policy=None, importance_type=None,\n                                     interaction_constraints=None,\n                                     learning_rate=None,...\n                                     max_delta_step=None, max_depth=None,\n                                     max_leaves=None, min_child_weight=None,\n                                     missing=nan, monotone_constraints=None,\n                                     multi_strategy=None, n_estimators=None,\n                                     n_jobs=None, num_parallel_tree=None,\n                                     random_state=69, ...),\n             param_grid={&#x27;learning_rate&#x27;: [0.3], &#x27;max_depth&#x27;: [8],\n                         &#x27;min_child_weight&#x27;: [2], &#x27;n_estimators&#x27;: [500]},\n             refit=&#x27;f1&#x27;, scoring=(&#x27;accuracy&#x27;, &#x27;precision&#x27;, &#x27;recall&#x27;, &#x27;f1&#x27;))</pre><b>In a Jupyter environment, please rerun this cell to show the HTML representation or trust the notebook. <br />On GitHub, the HTML representation is unable to render, please try loading this page with nbviewer.org.</b></div><div class=\"sk-container\" hidden><div class=\"sk-item sk-dashed-wrapped\"><div class=\"sk-label-container\"><div class=\"sk-label fitted sk-toggleable\"><input class=\"sk-toggleable__control sk-hidden--visually\" id=\"sk-estimator-id-13\" type=\"checkbox\" ><label for=\"sk-estimator-id-13\" class=\"sk-toggleable__label fitted sk-toggleable__label-arrow fitted\">&nbsp;&nbsp;GridSearchCV<a class=\"sk-estimator-doc-link fitted\" rel=\"noreferrer\" target=\"_blank\" href=\"https://scikit-learn.org/1.5/modules/generated/sklearn.model_selection.GridSearchCV.html\">?<span>Documentation for GridSearchCV</span></a><span class=\"sk-estimator-doc-link fitted\">i<span>Fitted</span></span></label><div class=\"sk-toggleable__content fitted\"><pre>GridSearchCV(cv=8,\n             estimator=XGBClassifier(base_score=None, booster=None,\n                                     callbacks=None, colsample_bylevel=None,\n                                     colsample_bynode=None,\n                                     colsample_bytree=None, device=None,\n                                     early_stopping_rounds=None,\n                                     enable_categorical=False, eval_metric=None,\n                                     feature_types=None, gamma=None,\n                                     grow_policy=None, importance_type=None,\n                                     interaction_constraints=None,\n                                     learning_rate=None,...\n                                     max_delta_step=None, max_depth=None,\n                                     max_leaves=None, min_child_weight=None,\n                                     missing=nan, monotone_constraints=None,\n                                     multi_strategy=None, n_estimators=None,\n                                     n_jobs=None, num_parallel_tree=None,\n                                     random_state=69, ...),\n             param_grid={&#x27;learning_rate&#x27;: [0.3], &#x27;max_depth&#x27;: [8],\n                         &#x27;min_child_weight&#x27;: [2], &#x27;n_estimators&#x27;: [500]},\n             refit=&#x27;f1&#x27;, scoring=(&#x27;accuracy&#x27;, &#x27;precision&#x27;, &#x27;recall&#x27;, &#x27;f1&#x27;))</pre></div> </div></div><div class=\"sk-parallel\"><div class=\"sk-parallel-item\"><div class=\"sk-item\"><div class=\"sk-label-container\"><div class=\"sk-label fitted sk-toggleable\"><input class=\"sk-toggleable__control sk-hidden--visually\" id=\"sk-estimator-id-14\" type=\"checkbox\" ><label for=\"sk-estimator-id-14\" class=\"sk-toggleable__label fitted sk-toggleable__label-arrow fitted\">best_estimator_: XGBClassifier</label><div class=\"sk-toggleable__content fitted\"><pre>XGBClassifier(base_score=None, booster=None, callbacks=None,\n              colsample_bylevel=None, colsample_bynode=None,\n              colsample_bytree=None, device=None, early_stopping_rounds=None,\n              enable_categorical=False, eval_metric=None, feature_types=None,\n              gamma=None, grow_policy=None, importance_type=None,\n              interaction_constraints=None, learning_rate=0.3, max_bin=None,\n              max_cat_threshold=None, max_cat_to_onehot=None,\n              max_delta_step=None, max_depth=8, max_leaves=None,\n              min_child_weight=2, missing=nan, monotone_constraints=None,\n              multi_strategy=None, n_estimators=500, n_jobs=None,\n              num_parallel_tree=None, random_state=69, ...)</pre></div> </div></div><div class=\"sk-serial\"><div class=\"sk-item\"><div class=\"sk-estimator fitted sk-toggleable\"><input class=\"sk-toggleable__control sk-hidden--visually\" id=\"sk-estimator-id-15\" type=\"checkbox\" ><label for=\"sk-estimator-id-15\" class=\"sk-toggleable__label fitted sk-toggleable__label-arrow fitted\">XGBClassifier</label><div class=\"sk-toggleable__content fitted\"><pre>XGBClassifier(base_score=None, booster=None, callbacks=None,\n              colsample_bylevel=None, colsample_bynode=None,\n              colsample_bytree=None, device=None, early_stopping_rounds=None,\n              enable_categorical=False, eval_metric=None, feature_types=None,\n              gamma=None, grow_policy=None, importance_type=None,\n              interaction_constraints=None, learning_rate=0.3, max_bin=None,\n              max_cat_threshold=None, max_cat_to_onehot=None,\n              max_delta_step=None, max_depth=8, max_leaves=None,\n              min_child_weight=2, missing=nan, monotone_constraints=None,\n              multi_strategy=None, n_estimators=500, n_jobs=None,\n              num_parallel_tree=None, random_state=69, ...)</pre></div> </div></div></div></div></div></div></div></div></div>"
     },
     "execution_count": 158,
     "metadata": {},
     "output_type": "execute_result"
    }
   ],
   "source": [
    "xgb = XGBClassifier(objective='binary:logistic',random_state=69)\n",
    "cv_para = {'max_depth':[8],'learning_rate':[0.3],'min_child_weight':[2],'n_estimators':[500]}\n",
    "score = 'accuracy','precision','recall','f1'\n",
    "xgb1 = GridSearchCV(xgb,cv_para,scoring=score,cv=8,refit='f1')\n",
    "xgb1.fit(xtrain,ytrain)"
   ],
   "metadata": {
    "collapsed": false,
    "ExecuteTime": {
     "end_time": "2024-11-22T13:07:38.787968Z",
     "start_time": "2024-11-22T13:07:23.417014Z"
    }
   },
   "id": "e028425e808434b3",
   "execution_count": 158
  },
  {
   "cell_type": "code",
   "outputs": [
    {
     "data": {
      "text/plain": "0.3870883211709806"
     },
     "execution_count": 159,
     "metadata": {},
     "output_type": "execute_result"
    }
   ],
   "source": [
    "xgb1.best_score_"
   ],
   "metadata": {
    "collapsed": false,
    "ExecuteTime": {
     "end_time": "2024-11-22T13:07:38.794122Z",
     "start_time": "2024-11-22T13:07:38.788969Z"
    }
   },
   "id": "dae8e7b2352129c8",
   "execution_count": 159
  },
  {
   "cell_type": "code",
   "outputs": [
    {
     "data": {
      "text/plain": "{'learning_rate': 0.3,\n 'max_depth': 8,\n 'min_child_weight': 2,\n 'n_estimators': 500}"
     },
     "execution_count": 160,
     "metadata": {},
     "output_type": "execute_result"
    }
   ],
   "source": [
    "xgb1.best_params_"
   ],
   "metadata": {
    "collapsed": false,
    "ExecuteTime": {
     "end_time": "2024-11-22T13:07:38.802654Z",
     "start_time": "2024-11-22T13:07:38.797751Z"
    }
   },
   "id": "670f708d42a0ad84",
   "execution_count": 160
  },
  {
   "cell_type": "code",
   "outputs": [
    {
     "data": {
      "text/plain": "     Model  Precision    Recall        F1  Accuracy\n0    RF CV   0.442856  0.269737  0.334924  0.626928\n0  RF Test   0.462211  0.281553  0.349942  0.635331\n0   XGB CV   0.426000  0.355263  0.387088  0.608421",
      "text/html": "<div>\n<style scoped>\n    .dataframe tbody tr th:only-of-type {\n        vertical-align: middle;\n    }\n\n    .dataframe tbody tr th {\n        vertical-align: top;\n    }\n\n    .dataframe thead th {\n        text-align: right;\n    }\n</style>\n<table border=\"1\" class=\"dataframe\">\n  <thead>\n    <tr style=\"text-align: right;\">\n      <th></th>\n      <th>Model</th>\n      <th>Precision</th>\n      <th>Recall</th>\n      <th>F1</th>\n      <th>Accuracy</th>\n    </tr>\n  </thead>\n  <tbody>\n    <tr>\n      <th>0</th>\n      <td>RF CV</td>\n      <td>0.442856</td>\n      <td>0.269737</td>\n      <td>0.334924</td>\n      <td>0.626928</td>\n    </tr>\n    <tr>\n      <th>0</th>\n      <td>RF Test</td>\n      <td>0.462211</td>\n      <td>0.281553</td>\n      <td>0.349942</td>\n      <td>0.635331</td>\n    </tr>\n    <tr>\n      <th>0</th>\n      <td>XGB CV</td>\n      <td>0.426000</td>\n      <td>0.355263</td>\n      <td>0.387088</td>\n      <td>0.608421</td>\n    </tr>\n  </tbody>\n</table>\n</div>"
     },
     "execution_count": 161,
     "metadata": {},
     "output_type": "execute_result"
    }
   ],
   "source": [
    "xgb1_cv_res = get_res('XGB CV',xgb1,'f1')\n",
    "res = pd.concat([res,xgb1_cv_res],axis=0)\n",
    "res"
   ],
   "metadata": {
    "collapsed": false,
    "ExecuteTime": {
     "end_time": "2024-11-22T13:07:38.817055Z",
     "start_time": "2024-11-22T13:07:38.803656Z"
    }
   },
   "id": "366d037d37967907",
   "execution_count": 161
  },
  {
   "cell_type": "code",
   "outputs": [
    {
     "data": {
      "text/plain": "      Model  Precision    Recall        F1  Accuracy\n0     RF CV   0.442856  0.269737  0.334924  0.626928\n0   RF Test   0.462211  0.281553  0.349942  0.635331\n0    XGB CV   0.426000  0.355263  0.387088  0.608421\n0  XGB Test   0.419703  0.353586  0.383818  0.604214",
      "text/html": "<div>\n<style scoped>\n    .dataframe tbody tr th:only-of-type {\n        vertical-align: middle;\n    }\n\n    .dataframe tbody tr th {\n        vertical-align: top;\n    }\n\n    .dataframe thead th {\n        text-align: right;\n    }\n</style>\n<table border=\"1\" class=\"dataframe\">\n  <thead>\n    <tr style=\"text-align: right;\">\n      <th></th>\n      <th>Model</th>\n      <th>Precision</th>\n      <th>Recall</th>\n      <th>F1</th>\n      <th>Accuracy</th>\n    </tr>\n  </thead>\n  <tbody>\n    <tr>\n      <th>0</th>\n      <td>RF CV</td>\n      <td>0.442856</td>\n      <td>0.269737</td>\n      <td>0.334924</td>\n      <td>0.626928</td>\n    </tr>\n    <tr>\n      <th>0</th>\n      <td>RF Test</td>\n      <td>0.462211</td>\n      <td>0.281553</td>\n      <td>0.349942</td>\n      <td>0.635331</td>\n    </tr>\n    <tr>\n      <th>0</th>\n      <td>XGB CV</td>\n      <td>0.426000</td>\n      <td>0.355263</td>\n      <td>0.387088</td>\n      <td>0.608421</td>\n    </tr>\n    <tr>\n      <th>0</th>\n      <td>XGB Test</td>\n      <td>0.419703</td>\n      <td>0.353586</td>\n      <td>0.383818</td>\n      <td>0.604214</td>\n    </tr>\n  </tbody>\n</table>\n</div>"
     },
     "execution_count": 162,
     "metadata": {},
     "output_type": "execute_result"
    }
   ],
   "source": [
    "pred = xgb1.best_estimator_.predict(xtest)\n",
    "xgb_test_score = get_test_score('XGB Test',pred,ytest)\n",
    "res = pd.concat([res,xgb_test_score],axis=0)\n",
    "res"
   ],
   "metadata": {
    "collapsed": false,
    "ExecuteTime": {
     "end_time": "2024-11-22T13:11:13.137221Z",
     "start_time": "2024-11-22T13:11:12.964168Z"
    }
   },
   "id": "4ff612d359e4f04a",
   "execution_count": 162
  },
  {
   "cell_type": "code",
   "outputs": [
    {
     "data": {
      "text/plain": "<Figure size 640x480 with 2 Axes>",
      "image/png": "[encoded data removed]"
     },
     "metadata": {},
     "output_type": "display_data"
    }
   ],
   "source": [
    "cm = met.confusion_matrix(pred,ytest,labels=xgb1.classes_)\n",
    "dis = met.ConfusionMatrixDisplay(confusion_matrix=cm,display_labels=xgb1.classes_,)\n",
    "dis.plot(cmap='YlGnBu')\n",
    "plt.grid(False)"
   ],
   "metadata": {
    "collapsed": false,
    "ExecuteTime": {
     "end_time": "2024-11-22T13:22:31.087651Z",
     "start_time": "2024-11-22T13:22:30.962705Z"
    }
   },
   "id": "5e5b9c60dd3faf25",
   "execution_count": 175
  },
  {
   "cell_type": "code",
   "outputs": [
    {
     "data": {
      "text/plain": "<Figure size 640x480 with 1 Axes>",
      "image/png": "[encoded data removed]"
     },
     "metadata": {},
     "output_type": "display_data"
    }
   ],
   "source": [
    "plot_importance(xgb1.best_estimator_,max_num_features=8)\n",
    "plt.show()"
   ],
   "metadata": {
    "collapsed": false,
    "ExecuteTime": {
     "end_time": "2024-11-22T13:26:34.822510Z",
     "start_time": "2024-11-22T13:26:34.694121Z"
    }
   },
   "id": "d9a473943abe57b2",
   "execution_count": 177
  }
 ],
 "metadata": {
  "kernelspec": {
   "display_name": "Python 3",
   "language": "python",
   "name": "python3"
  },
  "language_info": {
   "codemirror_mode": {
    "name": "ipython",
    "version": 2
   },
   "file_extension": ".py",
   "mimetype": "text/x-python",
   "name": "python",
   "nbconvert_exporter": "python",
   "pygments_lexer": "ipython2",
   "version": "2.7.6"
  }
 },
 "nbformat": 4,
 "nbformat_minor": 5
}
