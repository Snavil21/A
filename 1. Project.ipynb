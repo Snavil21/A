{
 "cells": [
  {
   "cell_type": "markdown",
   "source": [
    "# Task 1 - Building Dataframe"
   ],
   "metadata": {
    "collapsed": false
   },
   "id": "14cc468c339e8682"
  },
  {
   "cell_type": "markdown",
   "source": [
    "## Importing Libraries "
   ],
   "metadata": {
    "collapsed": false
   },
   "id": "3185fd5e8d0ebb06"
  },
  {
   "cell_type": "code",
   "outputs": [],
   "source": [
    "import pandas as pd"
   ],
   "metadata": {
    "collapsed": true,
    "ExecuteTime": {
     "end_time": "2024-11-22T13:31:52.965544Z",
     "start_time": "2024-11-22T13:31:52.962425Z"
    }
   },
   "id": "initial_id",
   "execution_count": 1
  },
  {
   "cell_type": "markdown",
   "source": [
    "## Loading Dataset"
   ],
   "metadata": {
    "collapsed": false
   },
   "id": "341cdb8d7754328f"
  },
  {
   "cell_type": "code",
   "outputs": [
    {
     "data": {
      "text/plain": "   Unnamed: 0  VendorID    tpep_pickup_datetime   tpep_dropoff_datetime  \\\n0    24870114         2   03/25/2017 8:55:43 AM   03/25/2017 9:09:47 AM   \n1    35634249         1   04/11/2017 2:53:28 PM   04/11/2017 3:19:58 PM   \n2   106203690         1   12/15/2017 7:26:56 AM   12/15/2017 7:34:08 AM   \n3    38942136         2   05/07/2017 1:17:59 PM   05/07/2017 1:48:14 PM   \n4    30841670         2  04/15/2017 11:32:20 PM  04/15/2017 11:49:03 PM   \n5    23345809         2   03/25/2017 8:34:11 PM   03/25/2017 8:42:11 PM   \n6    37660487         2   05/03/2017 7:04:09 PM   05/03/2017 8:03:47 PM   \n7    69059411         2   08/15/2017 5:41:06 PM   08/15/2017 6:03:05 PM   \n8     8433159         2   02/04/2017 4:17:07 PM   02/04/2017 4:29:14 PM   \n9    95294817         1   11/10/2017 3:20:29 PM   11/10/2017 3:40:55 PM   \n\n   passenger_count  trip_distance  RatecodeID store_and_fwd_flag  \\\n0                6           3.34           1                  N   \n1                1           1.80           1                  N   \n2                1           1.00           1                  N   \n3                1           3.70           1                  N   \n4                1           4.37           1                  N   \n5                6           2.30           1                  N   \n6                1          12.83           1                  N   \n7                1           2.98           1                  N   \n8                1           1.20           1                  N   \n9                1           1.60           1                  N   \n\n   PULocationID  DOLocationID  payment_type  fare_amount  extra  mta_tax  \\\n0           100           231             1         13.0    0.0      0.5   \n1           186            43             1         16.0    0.0      0.5   \n2           262           236             1          6.5    0.0      0.5   \n3           188            97             1         20.5    0.0      0.5   \n4             4           112             2         16.5    0.5      0.5   \n5           161           236             1          9.0    0.5      0.5   \n6            79           241             1         47.5    1.0      0.5   \n7           237           114             1         16.0    1.0      0.5   \n8           234           249             2          9.0    0.0      0.5   \n9           239           237             1         13.0    0.0      0.5   \n\n   tip_amount  tolls_amount  improvement_surcharge  total_amount  \n0        2.76           0.0                    0.3         16.56  \n1        4.00           0.0                    0.3         20.80  \n2        1.45           0.0                    0.3          8.75  \n3        6.39           0.0                    0.3         27.69  \n4        0.00           0.0                    0.3         17.80  \n5        2.06           0.0                    0.3         12.36  \n6        9.86           0.0                    0.3         59.16  \n7        1.78           0.0                    0.3         19.58  \n8        0.00           0.0                    0.3          9.80  \n9        2.75           0.0                    0.3         16.55  ",
      "text/html": "<div>\n<style scoped>\n    .dataframe tbody tr th:only-of-type {\n        vertical-align: middle;\n    }\n\n    .dataframe tbody tr th {\n        vertical-align: top;\n    }\n\n    .dataframe thead th {\n        text-align: right;\n    }\n</style>\n<table border=\"1\" class=\"dataframe\">\n  <thead>\n    <tr style=\"text-align: right;\">\n      <th></th>\n      <th>Unnamed: 0</th>\n      <th>VendorID</th>\n      <th>tpep_pickup_datetime</th>\n      <th>tpep_dropoff_datetime</th>\n      <th>passenger_count</th>\n      <th>trip_distance</th>\n      <th>RatecodeID</th>\n      <th>store_and_fwd_flag</th>\n      <th>PULocationID</th>\n      <th>DOLocationID</th>\n      <th>payment_type</th>\n      <th>fare_amount</th>\n      <th>extra</th>\n      <th>mta_tax</th>\n      <th>tip_amount</th>\n      <th>tolls_amount</th>\n      <th>improvement_surcharge</th>\n      <th>total_amount</th>\n    </tr>\n  </thead>\n  <tbody>\n    <tr>\n      <th>0</th>\n      <td>24870114</td>\n      <td>2</td>\n      <td>03/25/2017 8:55:43 AM</td>\n      <td>03/25/2017 9:09:47 AM</td>\n      <td>6</td>\n      <td>3.34</td>\n      <td>1</td>\n      <td>N</td>\n      <td>100</td>\n      <td>231</td>\n      <td>1</td>\n      <td>13.0</td>\n      <td>0.0</td>\n      <td>0.5</td>\n      <td>2.76</td>\n      <td>0.0</td>\n      <td>0.3</td>\n      <td>16.56</td>\n    </tr>\n    <tr>\n      <th>1</th>\n      <td>35634249</td>\n      <td>1</td>\n      <td>04/11/2017 2:53:28 PM</td>\n      <td>04/11/2017 3:19:58 PM</td>\n      <td>1</td>\n      <td>1.80</td>\n      <td>1</td>\n      <td>N</td>\n      <td>186</td>\n      <td>43</td>\n      <td>1</td>\n      <td>16.0</td>\n      <td>0.0</td>\n      <td>0.5</td>\n      <td>4.00</td>\n      <td>0.0</td>\n      <td>0.3</td>\n      <td>20.80</td>\n    </tr>\n    <tr>\n      <th>2</th>\n      <td>106203690</td>\n      <td>1</td>\n      <td>12/15/2017 7:26:56 AM</td>\n      <td>12/15/2017 7:34:08 AM</td>\n      <td>1</td>\n      <td>1.00</td>\n      <td>1</td>\n      <td>N</td>\n      <td>262</td>\n      <td>236</td>\n      <td>1</td>\n      <td>6.5</td>\n      <td>0.0</td>\n      <td>0.5</td>\n      <td>1.45</td>\n      <td>0.0</td>\n      <td>0.3</td>\n      <td>8.75</td>\n    </tr>\n    <tr>\n      <th>3</th>\n      <td>38942136</td>\n      <td>2</td>\n      <td>05/07/2017 1:17:59 PM</td>\n      <td>05/07/2017 1:48:14 PM</td>\n      <td>1</td>\n      <td>3.70</td>\n      <td>1</td>\n      <td>N</td>\n      <td>188</td>\n      <td>97</td>\n      <td>1</td>\n      <td>20.5</td>\n      <td>0.0</td>\n      <td>0.5</td>\n      <td>6.39</td>\n      <td>0.0</td>\n      <td>0.3</td>\n      <td>27.69</td>\n    </tr>\n    <tr>\n      <th>4</th>\n      <td>30841670</td>\n      <td>2</td>\n      <td>04/15/2017 11:32:20 PM</td>\n      <td>04/15/2017 11:49:03 PM</td>\n      <td>1</td>\n      <td>4.37</td>\n      <td>1</td>\n      <td>N</td>\n      <td>4</td>\n      <td>112</td>\n      <td>2</td>\n      <td>16.5</td>\n      <td>0.5</td>\n      <td>0.5</td>\n      <td>0.00</td>\n      <td>0.0</td>\n      <td>0.3</td>\n      <td>17.80</td>\n    </tr>\n    <tr>\n      <th>5</th>\n      <td>23345809</td>\n      <td>2</td>\n      <td>03/25/2017 8:34:11 PM</td>\n      <td>03/25/2017 8:42:11 PM</td>\n      <td>6</td>\n      <td>2.30</td>\n      <td>1</td>\n      <td>N</td>\n      <td>161</td>\n      <td>236</td>\n      <td>1</td>\n      <td>9.0</td>\n      <td>0.5</td>\n      <td>0.5</td>\n      <td>2.06</td>\n      <td>0.0</td>\n      <td>0.3</td>\n      <td>12.36</td>\n    </tr>\n    <tr>\n      <th>6</th>\n      <td>37660487</td>\n      <td>2</td>\n      <td>05/03/2017 7:04:09 PM</td>\n      <td>05/03/2017 8:03:47 PM</td>\n      <td>1</td>\n      <td>12.83</td>\n      <td>1</td>\n      <td>N</td>\n      <td>79</td>\n      <td>241</td>\n      <td>1</td>\n      <td>47.5</td>\n      <td>1.0</td>\n      <td>0.5</td>\n      <td>9.86</td>\n      <td>0.0</td>\n      <td>0.3</td>\n      <td>59.16</td>\n    </tr>\n    <tr>\n      <th>7</th>\n      <td>69059411</td>\n      <td>2</td>\n      <td>08/15/2017 5:41:06 PM</td>\n      <td>08/15/2017 6:03:05 PM</td>\n      <td>1</td>\n      <td>2.98</td>\n      <td>1</td>\n      <td>N</td>\n      <td>237</td>\n      <td>114</td>\n      <td>1</td>\n      <td>16.0</td>\n      <td>1.0</td>\n      <td>0.5</td>\n      <td>1.78</td>\n      <td>0.0</td>\n      <td>0.3</td>\n      <td>19.58</td>\n    </tr>\n    <tr>\n      <th>8</th>\n      <td>8433159</td>\n      <td>2</td>\n      <td>02/04/2017 4:17:07 PM</td>\n      <td>02/04/2017 4:29:14 PM</td>\n      <td>1</td>\n      <td>1.20</td>\n      <td>1</td>\n      <td>N</td>\n      <td>234</td>\n      <td>249</td>\n      <td>2</td>\n      <td>9.0</td>\n      <td>0.0</td>\n      <td>0.5</td>\n      <td>0.00</td>\n      <td>0.0</td>\n      <td>0.3</td>\n      <td>9.80</td>\n    </tr>\n    <tr>\n      <th>9</th>\n      <td>95294817</td>\n      <td>1</td>\n      <td>11/10/2017 3:20:29 PM</td>\n      <td>11/10/2017 3:40:55 PM</td>\n      <td>1</td>\n      <td>1.60</td>\n      <td>1</td>\n      <td>N</td>\n      <td>239</td>\n      <td>237</td>\n      <td>1</td>\n      <td>13.0</td>\n      <td>0.0</td>\n      <td>0.5</td>\n      <td>2.75</td>\n      <td>0.0</td>\n      <td>0.3</td>\n      <td>16.55</td>\n    </tr>\n  </tbody>\n</table>\n</div>"
     },
     "execution_count": 2,
     "metadata": {},
     "output_type": "execute_result"
    }
   ],
   "source": [
    "df = pd.read_csv('Dataset/2017_Taxi_Trip_Data.csv')\n",
    "df.head(10)"
   ],
   "metadata": {
    "collapsed": false,
    "ExecuteTime": {
     "end_time": "2024-11-22T13:31:53.045885Z",
     "start_time": "2024-11-22T13:31:52.967570Z"
    }
   },
   "id": "ea0d9569060b0508",
   "execution_count": 2
  },
  {
   "cell_type": "markdown",
   "source": [
    "## Inspecting Data"
   ],
   "metadata": {
    "collapsed": false
   },
   "id": "ab1ba8080dbd385d"
  },
  {
   "cell_type": "code",
   "outputs": [
    {
     "data": {
      "text/plain": "(22699, 18)"
     },
     "execution_count": 3,
     "metadata": {},
     "output_type": "execute_result"
    }
   ],
   "source": [
    "df.shape"
   ],
   "metadata": {
    "collapsed": false,
    "ExecuteTime": {
     "end_time": "2024-11-22T13:31:53.052802Z",
     "start_time": "2024-11-22T13:31:53.046896Z"
    }
   },
   "id": "2ea7f317301e82e0",
   "execution_count": 3
  },
  {
   "cell_type": "code",
   "outputs": [
    {
     "name": "stdout",
     "output_type": "stream",
     "text": [
      "<class 'pandas.core.frame.DataFrame'>\n",
      "RangeIndex: 22699 entries, 0 to 22698\n",
      "Data columns (total 18 columns):\n",
      " #   Column                 Non-Null Count  Dtype  \n",
      "---  ------                 --------------  -----  \n",
      " 0   Unnamed: 0             22699 non-null  int64  \n",
      " 1   VendorID               22699 non-null  int64  \n",
      " 2   tpep_pickup_datetime   22699 non-null  object \n",
      " 3   tpep_dropoff_datetime  22699 non-null  object \n",
      " 4   passenger_count        22699 non-null  int64  \n",
      " 5   trip_distance          22699 non-null  float64\n",
      " 6   RatecodeID             22699 non-null  int64  \n",
      " 7   store_and_fwd_flag     22699 non-null  object \n",
      " 8   PULocationID           22699 non-null  int64  \n",
      " 9   DOLocationID           22699 non-null  int64  \n",
      " 10  payment_type           22699 non-null  int64  \n",
      " 11  fare_amount            22699 non-null  float64\n",
      " 12  extra                  22699 non-null  float64\n",
      " 13  mta_tax                22699 non-null  float64\n",
      " 14  tip_amount             22699 non-null  float64\n",
      " 15  tolls_amount           22699 non-null  float64\n",
      " 16  improvement_surcharge  22699 non-null  float64\n",
      " 17  total_amount           22699 non-null  float64\n",
      "dtypes: float64(8), int64(7), object(3)\n",
      "memory usage: 3.1+ MB\n"
     ]
    }
   ],
   "source": [
    "df.info()"
   ],
   "metadata": {
    "collapsed": false,
    "ExecuteTime": {
     "end_time": "2024-11-22T13:31:53.065928Z",
     "start_time": "2024-11-22T13:31:53.053882Z"
    }
   },
   "id": "7c5330c0ee9d7ce1",
   "execution_count": 4
  },
  {
   "cell_type": "code",
   "outputs": [
    {
     "data": {
      "text/plain": "         Unnamed: 0      VendorID  passenger_count  trip_distance  \\\ncount  2.269900e+04  22699.000000     22699.000000   22699.000000   \nmean   5.675849e+07      1.556236         1.642319       2.913313   \nstd    3.274493e+07      0.496838         1.285231       3.653171   \nmin    1.212700e+04      1.000000         0.000000       0.000000   \n25%    2.852056e+07      1.000000         1.000000       0.990000   \n50%    5.673150e+07      2.000000         1.000000       1.610000   \n75%    8.537452e+07      2.000000         2.000000       3.060000   \nmax    1.134863e+08      2.000000         6.000000      33.960000   \n\n         RatecodeID  PULocationID  DOLocationID  payment_type   fare_amount  \\\ncount  22699.000000  22699.000000  22699.000000  22699.000000  22699.000000   \nmean       1.043394    162.412353    161.527997      1.336887     13.026629   \nstd        0.708391     66.633373     70.139691      0.496211     13.243791   \nmin        1.000000      1.000000      1.000000      1.000000   -120.000000   \n25%        1.000000    114.000000    112.000000      1.000000      6.500000   \n50%        1.000000    162.000000    162.000000      1.000000      9.500000   \n75%        1.000000    233.000000    233.000000      2.000000     14.500000   \nmax       99.000000    265.000000    265.000000      4.000000    999.990000   \n\n              extra       mta_tax    tip_amount  tolls_amount  \\\ncount  22699.000000  22699.000000  22699.000000  22699.000000   \nmean       0.333275      0.497445      1.835781      0.312542   \nstd        0.463097      0.039465      2.800626      1.399212   \nmin       -1.000000     -0.500000      0.000000      0.000000   \n25%        0.000000      0.500000      0.000000      0.000000   \n50%        0.000000      0.500000      1.350000      0.000000   \n75%        0.500000      0.500000      2.450000      0.000000   \nmax        4.500000      0.500000    200.000000     19.100000   \n\n       improvement_surcharge  total_amount  \ncount           22699.000000  22699.000000  \nmean                0.299551     16.310502  \nstd                 0.015673     16.097295  \nmin                -0.300000   -120.300000  \n25%                 0.300000      8.750000  \n50%                 0.300000     11.800000  \n75%                 0.300000     17.800000  \nmax                 0.300000   1200.290000  ",
      "text/html": "<div>\n<style scoped>\n    .dataframe tbody tr th:only-of-type {\n        vertical-align: middle;\n    }\n\n    .dataframe tbody tr th {\n        vertical-align: top;\n    }\n\n    .dataframe thead th {\n        text-align: right;\n    }\n</style>\n<table border=\"1\" class=\"dataframe\">\n  <thead>\n    <tr style=\"text-align: right;\">\n      <th></th>\n      <th>Unnamed: 0</th>\n      <th>VendorID</th>\n      <th>passenger_count</th>\n      <th>trip_distance</th>\n      <th>RatecodeID</th>\n      <th>PULocationID</th>\n      <th>DOLocationID</th>\n      <th>payment_type</th>\n      <th>fare_amount</th>\n      <th>extra</th>\n      <th>mta_tax</th>\n      <th>tip_amount</th>\n      <th>tolls_amount</th>\n      <th>improvement_surcharge</th>\n      <th>total_amount</th>\n    </tr>\n  </thead>\n  <tbody>\n    <tr>\n      <th>count</th>\n      <td>2.269900e+04</td>\n      <td>22699.000000</td>\n      <td>22699.000000</td>\n      <td>22699.000000</td>\n      <td>22699.000000</td>\n      <td>22699.000000</td>\n      <td>22699.000000</td>\n      <td>22699.000000</td>\n      <td>22699.000000</td>\n      <td>22699.000000</td>\n      <td>22699.000000</td>\n      <td>22699.000000</td>\n      <td>22699.000000</td>\n      <td>22699.000000</td>\n      <td>22699.000000</td>\n    </tr>\n    <tr>\n      <th>mean</th>\n      <td>5.675849e+07</td>\n      <td>1.556236</td>\n      <td>1.642319</td>\n      <td>2.913313</td>\n      <td>1.043394</td>\n      <td>162.412353</td>\n      <td>161.527997</td>\n      <td>1.336887</td>\n      <td>13.026629</td>\n      <td>0.333275</td>\n      <td>0.497445</td>\n      <td>1.835781</td>\n      <td>0.312542</td>\n      <td>0.299551</td>\n      <td>16.310502</td>\n    </tr>\n    <tr>\n      <th>std</th>\n      <td>3.274493e+07</td>\n      <td>0.496838</td>\n      <td>1.285231</td>\n      <td>3.653171</td>\n      <td>0.708391</td>\n      <td>66.633373</td>\n      <td>70.139691</td>\n      <td>0.496211</td>\n      <td>13.243791</td>\n      <td>0.463097</td>\n      <td>0.039465</td>\n      <td>2.800626</td>\n      <td>1.399212</td>\n      <td>0.015673</td>\n      <td>16.097295</td>\n    </tr>\n    <tr>\n      <th>min</th>\n      <td>1.212700e+04</td>\n      <td>1.000000</td>\n      <td>0.000000</td>\n      <td>0.000000</td>\n      <td>1.000000</td>\n      <td>1.000000</td>\n      <td>1.000000</td>\n      <td>1.000000</td>\n      <td>-120.000000</td>\n      <td>-1.000000</td>\n      <td>-0.500000</td>\n      <td>0.000000</td>\n      <td>0.000000</td>\n      <td>-0.300000</td>\n      <td>-120.300000</td>\n    </tr>\n    <tr>\n      <th>25%</th>\n      <td>2.852056e+07</td>\n      <td>1.000000</td>\n      <td>1.000000</td>\n      <td>0.990000</td>\n      <td>1.000000</td>\n      <td>114.000000</td>\n      <td>112.000000</td>\n      <td>1.000000</td>\n      <td>6.500000</td>\n      <td>0.000000</td>\n      <td>0.500000</td>\n      <td>0.000000</td>\n      <td>0.000000</td>\n      <td>0.300000</td>\n      <td>8.750000</td>\n    </tr>\n    <tr>\n      <th>50%</th>\n      <td>5.673150e+07</td>\n      <td>2.000000</td>\n      <td>1.000000</td>\n      <td>1.610000</td>\n      <td>1.000000</td>\n      <td>162.000000</td>\n      <td>162.000000</td>\n      <td>1.000000</td>\n      <td>9.500000</td>\n      <td>0.000000</td>\n      <td>0.500000</td>\n      <td>1.350000</td>\n      <td>0.000000</td>\n      <td>0.300000</td>\n      <td>11.800000</td>\n    </tr>\n    <tr>\n      <th>75%</th>\n      <td>8.537452e+07</td>\n      <td>2.000000</td>\n      <td>2.000000</td>\n      <td>3.060000</td>\n      <td>1.000000</td>\n      <td>233.000000</td>\n      <td>233.000000</td>\n      <td>2.000000</td>\n      <td>14.500000</td>\n      <td>0.500000</td>\n      <td>0.500000</td>\n      <td>2.450000</td>\n      <td>0.000000</td>\n      <td>0.300000</td>\n      <td>17.800000</td>\n    </tr>\n    <tr>\n      <th>max</th>\n      <td>1.134863e+08</td>\n      <td>2.000000</td>\n      <td>6.000000</td>\n      <td>33.960000</td>\n      <td>99.000000</td>\n      <td>265.000000</td>\n      <td>265.000000</td>\n      <td>4.000000</td>\n      <td>999.990000</td>\n      <td>4.500000</td>\n      <td>0.500000</td>\n      <td>200.000000</td>\n      <td>19.100000</td>\n      <td>0.300000</td>\n      <td>1200.290000</td>\n    </tr>\n  </tbody>\n</table>\n</div>"
     },
     "execution_count": 5,
     "metadata": {},
     "output_type": "execute_result"
    }
   ],
   "source": [
    "df.describe()"
   ],
   "metadata": {
    "collapsed": false,
    "ExecuteTime": {
     "end_time": "2024-11-22T13:31:53.100738Z",
     "start_time": "2024-11-22T13:31:53.066991Z"
    }
   },
   "id": "e2a5cd896ae8be71",
   "execution_count": 5
  },
  {
   "cell_type": "markdown",
   "source": [
    "## Investigating Variables"
   ],
   "metadata": {
    "collapsed": false
   },
   "id": "fae326c8a8a8aaa2"
  },
  {
   "cell_type": "code",
   "outputs": [
    {
     "data": {
      "text/plain": "       Unnamed: 0  VendorID    tpep_pickup_datetime   tpep_dropoff_datetime  \\\n9280     51810714         2  06/18/2017 11:33:25 PM  06/19/2017 12:12:38 AM   \n13861    40523668         2   05/19/2017 8:20:21 AM   05/19/2017 9:20:30 AM   \n6064     49894023         2  06/13/2017 12:30:22 PM   06/13/2017 1:37:51 PM   \n10291    76319330         2  09/11/2017 11:41:04 AM  09/11/2017 12:18:58 PM   \n29       94052446         2   11/06/2017 8:30:50 PM  11/07/2017 12:00:00 AM   \n18130    90375786         1   10/26/2017 2:45:01 PM   10/26/2017 4:12:49 PM   \n5792     68023798         2   08/11/2017 2:14:01 PM   08/11/2017 3:17:31 PM   \n15350    77309977         2   09/14/2017 1:44:44 PM   09/14/2017 2:34:29 PM   \n10302    43431843         1   05/15/2017 8:11:34 AM   05/15/2017 9:03:16 AM   \n2592     51094874         2   06/16/2017 6:51:20 PM   06/16/2017 7:41:42 PM   \n\n       passenger_count  trip_distance  RatecodeID store_and_fwd_flag  \\\n9280                 2          33.96           5                  N   \n13861                1          33.92           5                  N   \n6064                 1          32.72           3                  N   \n10291                1          31.95           4                  N   \n29                   1          30.83           1                  N   \n18130                1          30.50           1                  N   \n5792                 1          30.33           2                  N   \n15350                1          28.23           2                  N   \n10302                1          28.20           2                  N   \n2592                 1          27.97           2                  N   \n\n       PULocationID  DOLocationID  payment_type  fare_amount  extra  mta_tax  \\\n9280            132           265             2       150.00    0.0      0.0   \n13861           229           265             1       200.01    0.0      0.5   \n6064            138             1             1       107.00    0.0      0.0   \n10291           138           265             2       131.00    0.0      0.5   \n29              132            23             1        80.00    0.5      0.5   \n18130           132           220             1        90.50    0.0      0.5   \n5792            132           158             1        52.00    0.0      0.5   \n15350            13           132             1        52.00    0.0      0.5   \n10302            90           132             1        52.00    0.0      0.5   \n2592            261           132             2        52.00    4.5      0.5   \n\n       tip_amount  tolls_amount  improvement_surcharge  total_amount  \n9280         0.00          0.00                    0.3        150.30  \n13861       51.64          5.76                    0.3        258.21  \n6064        55.50         16.26                    0.3        179.06  \n10291        0.00          0.00                    0.3        131.80  \n29          18.56         11.52                    0.3        111.38  \n18130       19.85          8.16                    0.3        119.31  \n5792        14.64          5.76                    0.3         73.20  \n15350        4.40          5.76                    0.3         62.96  \n10302       11.71          5.76                    0.3         70.27  \n2592         0.00          5.76                    0.3         63.06  ",
      "text/html": "<div>\n<style scoped>\n    .dataframe tbody tr th:only-of-type {\n        vertical-align: middle;\n    }\n\n    .dataframe tbody tr th {\n        vertical-align: top;\n    }\n\n    .dataframe thead th {\n        text-align: right;\n    }\n</style>\n<table border=\"1\" class=\"dataframe\">\n  <thead>\n    <tr style=\"text-align: right;\">\n      <th></th>\n      <th>Unnamed: 0</th>\n      <th>VendorID</th>\n      <th>tpep_pickup_datetime</th>\n      <th>tpep_dropoff_datetime</th>\n      <th>passenger_count</th>\n      <th>trip_distance</th>\n      <th>RatecodeID</th>\n      <th>store_and_fwd_flag</th>\n      <th>PULocationID</th>\n      <th>DOLocationID</th>\n      <th>payment_type</th>\n      <th>fare_amount</th>\n      <th>extra</th>\n      <th>mta_tax</th>\n      <th>tip_amount</th>\n      <th>tolls_amount</th>\n      <th>improvement_surcharge</th>\n      <th>total_amount</th>\n    </tr>\n  </thead>\n  <tbody>\n    <tr>\n      <th>9280</th>\n      <td>51810714</td>\n      <td>2</td>\n      <td>06/18/2017 11:33:25 PM</td>\n      <td>06/19/2017 12:12:38 AM</td>\n      <td>2</td>\n      <td>33.96</td>\n      <td>5</td>\n      <td>N</td>\n      <td>132</td>\n      <td>265</td>\n      <td>2</td>\n      <td>150.00</td>\n      <td>0.0</td>\n      <td>0.0</td>\n      <td>0.00</td>\n      <td>0.00</td>\n      <td>0.3</td>\n      <td>150.30</td>\n    </tr>\n    <tr>\n      <th>13861</th>\n      <td>40523668</td>\n      <td>2</td>\n      <td>05/19/2017 8:20:21 AM</td>\n      <td>05/19/2017 9:20:30 AM</td>\n      <td>1</td>\n      <td>33.92</td>\n      <td>5</td>\n      <td>N</td>\n      <td>229</td>\n      <td>265</td>\n      <td>1</td>\n      <td>200.01</td>\n      <td>0.0</td>\n      <td>0.5</td>\n      <td>51.64</td>\n      <td>5.76</td>\n      <td>0.3</td>\n      <td>258.21</td>\n    </tr>\n    <tr>\n      <th>6064</th>\n      <td>49894023</td>\n      <td>2</td>\n      <td>06/13/2017 12:30:22 PM</td>\n      <td>06/13/2017 1:37:51 PM</td>\n      <td>1</td>\n      <td>32.72</td>\n      <td>3</td>\n      <td>N</td>\n      <td>138</td>\n      <td>1</td>\n      <td>1</td>\n      <td>107.00</td>\n      <td>0.0</td>\n      <td>0.0</td>\n      <td>55.50</td>\n      <td>16.26</td>\n      <td>0.3</td>\n      <td>179.06</td>\n    </tr>\n    <tr>\n      <th>10291</th>\n      <td>76319330</td>\n      <td>2</td>\n      <td>09/11/2017 11:41:04 AM</td>\n      <td>09/11/2017 12:18:58 PM</td>\n      <td>1</td>\n      <td>31.95</td>\n      <td>4</td>\n      <td>N</td>\n      <td>138</td>\n      <td>265</td>\n      <td>2</td>\n      <td>131.00</td>\n      <td>0.0</td>\n      <td>0.5</td>\n      <td>0.00</td>\n      <td>0.00</td>\n      <td>0.3</td>\n      <td>131.80</td>\n    </tr>\n    <tr>\n      <th>29</th>\n      <td>94052446</td>\n      <td>2</td>\n      <td>11/06/2017 8:30:50 PM</td>\n      <td>11/07/2017 12:00:00 AM</td>\n      <td>1</td>\n      <td>30.83</td>\n      <td>1</td>\n      <td>N</td>\n      <td>132</td>\n      <td>23</td>\n      <td>1</td>\n      <td>80.00</td>\n      <td>0.5</td>\n      <td>0.5</td>\n      <td>18.56</td>\n      <td>11.52</td>\n      <td>0.3</td>\n      <td>111.38</td>\n    </tr>\n    <tr>\n      <th>18130</th>\n      <td>90375786</td>\n      <td>1</td>\n      <td>10/26/2017 2:45:01 PM</td>\n      <td>10/26/2017 4:12:49 PM</td>\n      <td>1</td>\n      <td>30.50</td>\n      <td>1</td>\n      <td>N</td>\n      <td>132</td>\n      <td>220</td>\n      <td>1</td>\n      <td>90.50</td>\n      <td>0.0</td>\n      <td>0.5</td>\n      <td>19.85</td>\n      <td>8.16</td>\n      <td>0.3</td>\n      <td>119.31</td>\n    </tr>\n    <tr>\n      <th>5792</th>\n      <td>68023798</td>\n      <td>2</td>\n      <td>08/11/2017 2:14:01 PM</td>\n      <td>08/11/2017 3:17:31 PM</td>\n      <td>1</td>\n      <td>30.33</td>\n      <td>2</td>\n      <td>N</td>\n      <td>132</td>\n      <td>158</td>\n      <td>1</td>\n      <td>52.00</td>\n      <td>0.0</td>\n      <td>0.5</td>\n      <td>14.64</td>\n      <td>5.76</td>\n      <td>0.3</td>\n      <td>73.20</td>\n    </tr>\n    <tr>\n      <th>15350</th>\n      <td>77309977</td>\n      <td>2</td>\n      <td>09/14/2017 1:44:44 PM</td>\n      <td>09/14/2017 2:34:29 PM</td>\n      <td>1</td>\n      <td>28.23</td>\n      <td>2</td>\n      <td>N</td>\n      <td>13</td>\n      <td>132</td>\n      <td>1</td>\n      <td>52.00</td>\n      <td>0.0</td>\n      <td>0.5</td>\n      <td>4.40</td>\n      <td>5.76</td>\n      <td>0.3</td>\n      <td>62.96</td>\n    </tr>\n    <tr>\n      <th>10302</th>\n      <td>43431843</td>\n      <td>1</td>\n      <td>05/15/2017 8:11:34 AM</td>\n      <td>05/15/2017 9:03:16 AM</td>\n      <td>1</td>\n      <td>28.20</td>\n      <td>2</td>\n      <td>N</td>\n      <td>90</td>\n      <td>132</td>\n      <td>1</td>\n      <td>52.00</td>\n      <td>0.0</td>\n      <td>0.5</td>\n      <td>11.71</td>\n      <td>5.76</td>\n      <td>0.3</td>\n      <td>70.27</td>\n    </tr>\n    <tr>\n      <th>2592</th>\n      <td>51094874</td>\n      <td>2</td>\n      <td>06/16/2017 6:51:20 PM</td>\n      <td>06/16/2017 7:41:42 PM</td>\n      <td>1</td>\n      <td>27.97</td>\n      <td>2</td>\n      <td>N</td>\n      <td>261</td>\n      <td>132</td>\n      <td>2</td>\n      <td>52.00</td>\n      <td>4.5</td>\n      <td>0.5</td>\n      <td>0.00</td>\n      <td>5.76</td>\n      <td>0.3</td>\n      <td>63.06</td>\n    </tr>\n  </tbody>\n</table>\n</div>"
     },
     "execution_count": 6,
     "metadata": {},
     "output_type": "execute_result"
    }
   ],
   "source": [
    "df_sort_dist = df.sort_values(by = ['trip_distance'], ascending=False)\n",
    "df_sort_dist.head(10)"
   ],
   "metadata": {
    "collapsed": false,
    "ExecuteTime": {
     "end_time": "2024-11-22T13:31:53.121796Z",
     "start_time": "2024-11-22T13:31:53.101809Z"
    }
   },
   "id": "373337edc15f3952",
   "execution_count": 6
  },
  {
   "cell_type": "code",
   "outputs": [
    {
     "data": {
      "text/plain": "8476     1200.29\n20312     450.30\n13861     258.21\n12511     233.74\n15474     211.80\n6064      179.06\n16379     157.06\n3582      152.30\n11269     151.82\n9280      150.30\n1928      137.80\n10291     131.80\n6708      126.00\n11608     123.30\n908       121.56\n7281      120.96\n18130     119.31\n13621     115.94\n13359     111.95\n29        111.38\nName: total_amount, dtype: float64"
     },
     "execution_count": 7,
     "metadata": {},
     "output_type": "execute_result"
    }
   ],
   "source": [
    "df_sort_amount = df.sort_values(by = ['total_amount'], ascending=False)['total_amount']\n",
    "df_sort_amount.head(20)"
   ],
   "metadata": {
    "collapsed": false,
    "ExecuteTime": {
     "end_time": "2024-11-22T13:31:53.136125Z",
     "start_time": "2024-11-22T13:31:53.123817Z"
    }
   },
   "id": "3e3d410144bf6afc",
   "execution_count": 7
  },
  {
   "cell_type": "code",
   "outputs": [
    {
     "data": {
      "text/plain": "14283      0.31\n19067      0.30\n10506      0.00\n5722       0.00\n4402       0.00\n22566      0.00\n1646      -3.30\n18565     -3.80\n314       -3.80\n5758      -3.80\n5448      -4.30\n4423      -4.30\n10281     -4.30\n8204      -4.80\n20317     -4.80\n11204     -5.30\n14714     -5.30\n17602     -5.80\n20698     -5.80\n12944   -120.30\nName: total_amount, dtype: float64"
     },
     "execution_count": 8,
     "metadata": {},
     "output_type": "execute_result"
    }
   ],
   "source": [
    "df_sort_amount.tail(20)"
   ],
   "metadata": {
    "collapsed": false,
    "ExecuteTime": {
     "end_time": "2024-11-22T13:31:53.143045Z",
     "start_time": "2024-11-22T13:31:53.137134Z"
    }
   },
   "id": "ffff3314eb13b3a0",
   "execution_count": 8
  },
  {
   "cell_type": "code",
   "outputs": [
    {
     "data": {
      "text/plain": "4"
     },
     "execution_count": 9,
     "metadata": {},
     "output_type": "execute_result"
    }
   ],
   "source": [
    "df['payment_type'].nunique()"
   ],
   "metadata": {
    "collapsed": false,
    "ExecuteTime": {
     "end_time": "2024-11-22T13:31:53.149155Z",
     "start_time": "2024-11-22T13:31:53.144048Z"
    }
   },
   "id": "d2053609536bb8b4",
   "execution_count": 9
  },
  {
   "cell_type": "code",
   "outputs": [
    {
     "data": {
      "text/plain": "payment_type\n1    15265\n2     7267\n3      121\n4       46\nName: count, dtype: int64"
     },
     "execution_count": 10,
     "metadata": {},
     "output_type": "execute_result"
    }
   ],
   "source": [
    "df['payment_type'].value_counts()"
   ],
   "metadata": {
    "collapsed": false,
    "ExecuteTime": {
     "end_time": "2024-11-22T13:31:53.157658Z",
     "start_time": "2024-11-22T13:31:53.152162Z"
    }
   },
   "id": "e972c58664808761",
   "execution_count": 10
  },
  {
   "cell_type": "code",
   "outputs": [
    {
     "data": {
      "text/plain": "2.7298001965280054"
     },
     "execution_count": 11,
     "metadata": {},
     "output_type": "execute_result"
    }
   ],
   "source": [
    "df[df['payment_type']==1]['tip_amount'].mean()"
   ],
   "metadata": {
    "collapsed": false,
    "ExecuteTime": {
     "end_time": "2024-11-22T13:31:53.165096Z",
     "start_time": "2024-11-22T13:31:53.158673Z"
    }
   },
   "id": "29d619887f7ad5ff",
   "execution_count": 11
  },
  {
   "cell_type": "code",
   "outputs": [
    {
     "data": {
      "text/plain": "0.0"
     },
     "execution_count": 12,
     "metadata": {},
     "output_type": "execute_result"
    }
   ],
   "source": [
    "df[df['payment_type']==2]['tip_amount'].mean()"
   ],
   "metadata": {
    "collapsed": false,
    "ExecuteTime": {
     "end_time": "2024-11-22T13:31:53.172422Z",
     "start_time": "2024-11-22T13:31:53.166107Z"
    }
   },
   "id": "3b7933fee1408fa4",
   "execution_count": 12
  },
  {
   "cell_type": "code",
   "outputs": [
    {
     "data": {
      "text/plain": "2"
     },
     "execution_count": 13,
     "metadata": {},
     "output_type": "execute_result"
    }
   ],
   "source": [
    "df['VendorID'].nunique()"
   ],
   "metadata": {
    "collapsed": false,
    "ExecuteTime": {
     "end_time": "2024-11-22T13:31:53.178459Z",
     "start_time": "2024-11-22T13:31:53.173425Z"
    }
   },
   "id": "266b31a9f78bc24b",
   "execution_count": 13
  },
  {
   "cell_type": "code",
   "outputs": [
    {
     "data": {
      "text/plain": "VendorID\n2    12626\n1    10073\nName: count, dtype: int64"
     },
     "execution_count": 14,
     "metadata": {},
     "output_type": "execute_result"
    }
   ],
   "source": [
    "df['VendorID'].value_counts()"
   ],
   "metadata": {
    "collapsed": false,
    "ExecuteTime": {
     "end_time": "2024-11-22T13:31:53.185424Z",
     "start_time": "2024-11-22T13:31:53.179468Z"
    }
   },
   "id": "ac6424d2c0bbbe4f",
   "execution_count": 14
  },
  {
   "cell_type": "code",
   "outputs": [
    {
     "data": {
      "text/plain": "VendorID\n1    16.298119\n2    16.320382\nName: total_amount, dtype: float64"
     },
     "execution_count": 15,
     "metadata": {},
     "output_type": "execute_result"
    }
   ],
   "source": [
    "df.groupby(by = 'VendorID')['total_amount'].mean()"
   ],
   "metadata": {
    "collapsed": false,
    "ExecuteTime": {
     "end_time": "2024-11-22T13:31:53.194996Z",
     "start_time": "2024-11-22T13:31:53.186427Z"
    }
   },
   "id": "7bd41754651ef9b3",
   "execution_count": 15
  },
  {
   "cell_type": "code",
   "outputs": [
    {
     "data": {
      "text/plain": "       Unnamed: 0  VendorID    tpep_pickup_datetime   tpep_dropoff_datetime  \\\n0        24870114         2   03/25/2017 8:55:43 AM   03/25/2017 9:09:47 AM   \n1        35634249         1   04/11/2017 2:53:28 PM   04/11/2017 3:19:58 PM   \n2       106203690         1   12/15/2017 7:26:56 AM   12/15/2017 7:34:08 AM   \n3        38942136         2   05/07/2017 1:17:59 PM   05/07/2017 1:48:14 PM   \n5        23345809         2   03/25/2017 8:34:11 PM   03/25/2017 8:42:11 PM   \n...           ...       ...                     ...                     ...   \n22692    60425673         1   07/16/2017 3:22:51 AM   07/16/2017 3:40:52 AM   \n22693    67858616         2  08/10/2017 10:20:04 PM  08/10/2017 10:29:31 PM   \n22695    66632549         2   08/06/2017 4:43:59 PM   08/06/2017 5:24:47 PM   \n22697    60217333         2  07/15/2017 12:56:30 PM   07/15/2017 1:08:26 PM   \n22698    17208911         1   03/02/2017 1:02:49 PM   03/02/2017 1:16:09 PM   \n\n       passenger_count  trip_distance  RatecodeID store_and_fwd_flag  \\\n0                    6           3.34           1                  N   \n1                    1           1.80           1                  N   \n2                    1           1.00           1                  N   \n3                    1           3.70           1                  N   \n5                    6           2.30           1                  N   \n...                ...            ...         ...                ...   \n22692                1           5.70           1                  N   \n22693                1           0.89           1                  N   \n22695                1          16.71           2                  N   \n22697                1           2.36           1                  N   \n22698                1           2.10           1                  N   \n\n       PULocationID  DOLocationID  payment_type  fare_amount  extra  mta_tax  \\\n0               100           231             1         13.0    0.0      0.5   \n1               186            43             1         16.0    0.0      0.5   \n2               262           236             1          6.5    0.0      0.5   \n3               188            97             1         20.5    0.0      0.5   \n5               161           236             1          9.0    0.5      0.5   \n...             ...           ...           ...          ...    ...      ...   \n22692           249            17             1         19.0    0.5      0.5   \n22693           229           170             1          7.5    0.5      0.5   \n22695           132           164             1         52.0    0.0      0.5   \n22697            68           144             1         10.5    0.0      0.5   \n22698           239           236             1         11.0    0.0      0.5   \n\n       tip_amount  tolls_amount  improvement_surcharge  total_amount  \n0            2.76          0.00                    0.3         16.56  \n1            4.00          0.00                    0.3         20.80  \n2            1.45          0.00                    0.3          8.75  \n3            6.39          0.00                    0.3         27.69  \n5            2.06          0.00                    0.3         12.36  \n...           ...           ...                    ...           ...  \n22692        4.05          0.00                    0.3         24.35  \n22693        1.76          0.00                    0.3         10.56  \n22695       14.64          5.76                    0.3         73.20  \n22697        1.70          0.00                    0.3         13.00  \n22698        2.35          0.00                    0.3         14.15  \n\n[15265 rows x 18 columns]",
      "text/html": "<div>\n<style scoped>\n    .dataframe tbody tr th:only-of-type {\n        vertical-align: middle;\n    }\n\n    .dataframe tbody tr th {\n        vertical-align: top;\n    }\n\n    .dataframe thead th {\n        text-align: right;\n    }\n</style>\n<table border=\"1\" class=\"dataframe\">\n  <thead>\n    <tr style=\"text-align: right;\">\n      <th></th>\n      <th>Unnamed: 0</th>\n      <th>VendorID</th>\n      <th>tpep_pickup_datetime</th>\n      <th>tpep_dropoff_datetime</th>\n      <th>passenger_count</th>\n      <th>trip_distance</th>\n      <th>RatecodeID</th>\n      <th>store_and_fwd_flag</th>\n      <th>PULocationID</th>\n      <th>DOLocationID</th>\n      <th>payment_type</th>\n      <th>fare_amount</th>\n      <th>extra</th>\n      <th>mta_tax</th>\n      <th>tip_amount</th>\n      <th>tolls_amount</th>\n      <th>improvement_surcharge</th>\n      <th>total_amount</th>\n    </tr>\n  </thead>\n  <tbody>\n    <tr>\n      <th>0</th>\n      <td>24870114</td>\n      <td>2</td>\n      <td>03/25/2017 8:55:43 AM</td>\n      <td>03/25/2017 9:09:47 AM</td>\n      <td>6</td>\n      <td>3.34</td>\n      <td>1</td>\n      <td>N</td>\n      <td>100</td>\n      <td>231</td>\n      <td>1</td>\n      <td>13.0</td>\n      <td>0.0</td>\n      <td>0.5</td>\n      <td>2.76</td>\n      <td>0.00</td>\n      <td>0.3</td>\n      <td>16.56</td>\n    </tr>\n    <tr>\n      <th>1</th>\n      <td>35634249</td>\n      <td>1</td>\n      <td>04/11/2017 2:53:28 PM</td>\n      <td>04/11/2017 3:19:58 PM</td>\n      <td>1</td>\n      <td>1.80</td>\n      <td>1</td>\n      <td>N</td>\n      <td>186</td>\n      <td>43</td>\n      <td>1</td>\n      <td>16.0</td>\n      <td>0.0</td>\n      <td>0.5</td>\n      <td>4.00</td>\n      <td>0.00</td>\n      <td>0.3</td>\n      <td>20.80</td>\n    </tr>\n    <tr>\n      <th>2</th>\n      <td>106203690</td>\n      <td>1</td>\n      <td>12/15/2017 7:26:56 AM</td>\n      <td>12/15/2017 7:34:08 AM</td>\n      <td>1</td>\n      <td>1.00</td>\n      <td>1</td>\n      <td>N</td>\n      <td>262</td>\n      <td>236</td>\n      <td>1</td>\n      <td>6.5</td>\n      <td>0.0</td>\n      <td>0.5</td>\n      <td>1.45</td>\n      <td>0.00</td>\n      <td>0.3</td>\n      <td>8.75</td>\n    </tr>\n    <tr>\n      <th>3</th>\n      <td>38942136</td>\n      <td>2</td>\n      <td>05/07/2017 1:17:59 PM</td>\n      <td>05/07/2017 1:48:14 PM</td>\n      <td>1</td>\n      <td>3.70</td>\n      <td>1</td>\n      <td>N</td>\n      <td>188</td>\n      <td>97</td>\n      <td>1</td>\n      <td>20.5</td>\n      <td>0.0</td>\n      <td>0.5</td>\n      <td>6.39</td>\n      <td>0.00</td>\n      <td>0.3</td>\n      <td>27.69</td>\n    </tr>\n    <tr>\n      <th>5</th>\n      <td>23345809</td>\n      <td>2</td>\n      <td>03/25/2017 8:34:11 PM</td>\n      <td>03/25/2017 8:42:11 PM</td>\n      <td>6</td>\n      <td>2.30</td>\n      <td>1</td>\n      <td>N</td>\n      <td>161</td>\n      <td>236</td>\n      <td>1</td>\n      <td>9.0</td>\n      <td>0.5</td>\n      <td>0.5</td>\n      <td>2.06</td>\n      <td>0.00</td>\n      <td>0.3</td>\n      <td>12.36</td>\n    </tr>\n    <tr>\n      <th>...</th>\n      <td>...</td>\n      <td>...</td>\n      <td>...</td>\n      <td>...</td>\n      <td>...</td>\n      <td>...</td>\n      <td>...</td>\n      <td>...</td>\n      <td>...</td>\n      <td>...</td>\n      <td>...</td>\n      <td>...</td>\n      <td>...</td>\n      <td>...</td>\n      <td>...</td>\n      <td>...</td>\n      <td>...</td>\n      <td>...</td>\n    </tr>\n    <tr>\n      <th>22692</th>\n      <td>60425673</td>\n      <td>1</td>\n      <td>07/16/2017 3:22:51 AM</td>\n      <td>07/16/2017 3:40:52 AM</td>\n      <td>1</td>\n      <td>5.70</td>\n      <td>1</td>\n      <td>N</td>\n      <td>249</td>\n      <td>17</td>\n      <td>1</td>\n      <td>19.0</td>\n      <td>0.5</td>\n      <td>0.5</td>\n      <td>4.05</td>\n      <td>0.00</td>\n      <td>0.3</td>\n      <td>24.35</td>\n    </tr>\n    <tr>\n      <th>22693</th>\n      <td>67858616</td>\n      <td>2</td>\n      <td>08/10/2017 10:20:04 PM</td>\n      <td>08/10/2017 10:29:31 PM</td>\n      <td>1</td>\n      <td>0.89</td>\n      <td>1</td>\n      <td>N</td>\n      <td>229</td>\n      <td>170</td>\n      <td>1</td>\n      <td>7.5</td>\n      <td>0.5</td>\n      <td>0.5</td>\n      <td>1.76</td>\n      <td>0.00</td>\n      <td>0.3</td>\n      <td>10.56</td>\n    </tr>\n    <tr>\n      <th>22695</th>\n      <td>66632549</td>\n      <td>2</td>\n      <td>08/06/2017 4:43:59 PM</td>\n      <td>08/06/2017 5:24:47 PM</td>\n      <td>1</td>\n      <td>16.71</td>\n      <td>2</td>\n      <td>N</td>\n      <td>132</td>\n      <td>164</td>\n      <td>1</td>\n      <td>52.0</td>\n      <td>0.0</td>\n      <td>0.5</td>\n      <td>14.64</td>\n      <td>5.76</td>\n      <td>0.3</td>\n      <td>73.20</td>\n    </tr>\n    <tr>\n      <th>22697</th>\n      <td>60217333</td>\n      <td>2</td>\n      <td>07/15/2017 12:56:30 PM</td>\n      <td>07/15/2017 1:08:26 PM</td>\n      <td>1</td>\n      <td>2.36</td>\n      <td>1</td>\n      <td>N</td>\n      <td>68</td>\n      <td>144</td>\n      <td>1</td>\n      <td>10.5</td>\n      <td>0.0</td>\n      <td>0.5</td>\n      <td>1.70</td>\n      <td>0.00</td>\n      <td>0.3</td>\n      <td>13.00</td>\n    </tr>\n    <tr>\n      <th>22698</th>\n      <td>17208911</td>\n      <td>1</td>\n      <td>03/02/2017 1:02:49 PM</td>\n      <td>03/02/2017 1:16:09 PM</td>\n      <td>1</td>\n      <td>2.10</td>\n      <td>1</td>\n      <td>N</td>\n      <td>239</td>\n      <td>236</td>\n      <td>1</td>\n      <td>11.0</td>\n      <td>0.0</td>\n      <td>0.5</td>\n      <td>2.35</td>\n      <td>0.00</td>\n      <td>0.3</td>\n      <td>14.15</td>\n    </tr>\n  </tbody>\n</table>\n<p>15265 rows × 18 columns</p>\n</div>"
     },
     "execution_count": 16,
     "metadata": {},
     "output_type": "execute_result"
    }
   ],
   "source": [
    "df_credit = df[df['payment_type']==1]\n",
    "df_credit"
   ],
   "metadata": {
    "collapsed": false,
    "ExecuteTime": {
     "end_time": "2024-11-22T13:31:53.213356Z",
     "start_time": "2024-11-22T13:31:53.196Z"
    }
   },
   "id": "e2c13927a1d9d7c5",
   "execution_count": 16
  },
  {
   "cell_type": "code",
   "outputs": [
    {
     "data": {
      "text/plain": "passenger_count\n1    10977\n2     2168\n5      775\n3      600\n6      451\n4      267\n0       27\nName: count, dtype: int64"
     },
     "execution_count": 17,
     "metadata": {},
     "output_type": "execute_result"
    }
   ],
   "source": [
    "df_credit['passenger_count'].value_counts()"
   ],
   "metadata": {
    "collapsed": false,
    "ExecuteTime": {
     "end_time": "2024-11-22T13:31:53.222622Z",
     "start_time": "2024-11-22T13:31:53.214366Z"
    }
   },
   "id": "d6e1bd8f750e5625",
   "execution_count": 17
  },
  {
   "cell_type": "code",
   "outputs": [
    {
     "data": {
      "text/plain": "passenger_count\n0    2.610370\n1    2.714681\n2    2.829949\n3    2.726800\n4    2.607753\n5    2.762645\n6    2.643326\nName: tip_amount, dtype: float64"
     },
     "execution_count": 18,
     "metadata": {},
     "output_type": "execute_result"
    }
   ],
   "source": [
    "df_credit.groupby(by = 'passenger_count')['tip_amount'].mean()"
   ],
   "metadata": {
    "collapsed": false,
    "ExecuteTime": {
     "end_time": "2024-11-22T13:31:53.232446Z",
     "start_time": "2024-11-22T13:31:53.223664Z"
    }
   },
   "id": "b0b7037397300627",
   "execution_count": 18
  }
 ],
 "metadata": {
  "kernelspec": {
   "display_name": "Python 3",
   "language": "python",
   "name": "python3"
  },
  "language_info": {
   "codemirror_mode": {
    "name": "ipython",
    "version": 2
   },
   "file_extension": ".py",
   "mimetype": "text/x-python",
   "name": "python",
   "nbconvert_exporter": "python",
   "pygments_lexer": "ipython2",
   "version": "2.7.6"
  }
 },
 "nbformat": 4,
 "nbformat_minor": 5
}
