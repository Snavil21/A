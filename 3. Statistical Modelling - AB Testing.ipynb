{
 "cells": [
  {
   "cell_type": "markdown",
   "source": [
    "# Task 3 - Conduct an A/B Test"
   ],
   "metadata": {
    "collapsed": false
   },
   "id": "d862696bd26b761a"
  },
  {
   "cell_type": "markdown",
   "source": [
    "## Import Libraries"
   ],
   "metadata": {
    "collapsed": false
   },
   "id": "3874f29c854a5720"
  },
  {
   "cell_type": "code",
   "execution_count": 1,
   "id": "initial_id",
   "metadata": {
    "collapsed": true,
    "ExecuteTime": {
     "end_time": "2024-11-20T10:04:43.186878Z",
     "start_time": "2024-11-20T10:04:43.182322Z"
    }
   },
   "outputs": [],
   "source": [
    "import pandas as pd\n",
    "from scipy import stats"
   ]
  },
  {
   "cell_type": "markdown",
   "source": [
    "## Data Exploration"
   ],
   "metadata": {
    "collapsed": false
   },
   "id": "73d1aab670f78891"
  },
  {
   "cell_type": "code",
   "outputs": [
    {
     "data": {
      "text/plain": "   Unnamed: 0  VendorID    tpep_pickup_datetime   tpep_dropoff_datetime  \\\n0    24870114         2   03/25/2017 8:55:43 AM   03/25/2017 9:09:47 AM   \n1    35634249         1   04/11/2017 2:53:28 PM   04/11/2017 3:19:58 PM   \n2   106203690         1   12/15/2017 7:26:56 AM   12/15/2017 7:34:08 AM   \n3    38942136         2   05/07/2017 1:17:59 PM   05/07/2017 1:48:14 PM   \n4    30841670         2  04/15/2017 11:32:20 PM  04/15/2017 11:49:03 PM   \n5    23345809         2   03/25/2017 8:34:11 PM   03/25/2017 8:42:11 PM   \n6    37660487         2   05/03/2017 7:04:09 PM   05/03/2017 8:03:47 PM   \n7    69059411         2   08/15/2017 5:41:06 PM   08/15/2017 6:03:05 PM   \n8     8433159         2   02/04/2017 4:17:07 PM   02/04/2017 4:29:14 PM   \n9    95294817         1   11/10/2017 3:20:29 PM   11/10/2017 3:40:55 PM   \n\n   passenger_count  trip_distance  RatecodeID store_and_fwd_flag  \\\n0                6           3.34           1                  N   \n1                1           1.80           1                  N   \n2                1           1.00           1                  N   \n3                1           3.70           1                  N   \n4                1           4.37           1                  N   \n5                6           2.30           1                  N   \n6                1          12.83           1                  N   \n7                1           2.98           1                  N   \n8                1           1.20           1                  N   \n9                1           1.60           1                  N   \n\n   PULocationID  DOLocationID  payment_type  fare_amount  extra  mta_tax  \\\n0           100           231             1         13.0    0.0      0.5   \n1           186            43             1         16.0    0.0      0.5   \n2           262           236             1          6.5    0.0      0.5   \n3           188            97             1         20.5    0.0      0.5   \n4             4           112             2         16.5    0.5      0.5   \n5           161           236             1          9.0    0.5      0.5   \n6            79           241             1         47.5    1.0      0.5   \n7           237           114             1         16.0    1.0      0.5   \n8           234           249             2          9.0    0.0      0.5   \n9           239           237             1         13.0    0.0      0.5   \n\n   tip_amount  tolls_amount  improvement_surcharge  total_amount  \n0        2.76           0.0                    0.3         16.56  \n1        4.00           0.0                    0.3         20.80  \n2        1.45           0.0                    0.3          8.75  \n3        6.39           0.0                    0.3         27.69  \n4        0.00           0.0                    0.3         17.80  \n5        2.06           0.0                    0.3         12.36  \n6        9.86           0.0                    0.3         59.16  \n7        1.78           0.0                    0.3         19.58  \n8        0.00           0.0                    0.3          9.80  \n9        2.75           0.0                    0.3         16.55  ",
      "text/html": "<div>\n<style scoped>\n    .dataframe tbody tr th:only-of-type {\n        vertical-align: middle;\n    }\n\n    .dataframe tbody tr th {\n        vertical-align: top;\n    }\n\n    .dataframe thead th {\n        text-align: right;\n    }\n</style>\n<table border=\"1\" class=\"dataframe\">\n  <thead>\n    <tr style=\"text-align: right;\">\n      <th></th>\n      <th>Unnamed: 0</th>\n      <th>VendorID</th>\n      <th>tpep_pickup_datetime</th>\n      <th>tpep_dropoff_datetime</th>\n      <th>passenger_count</th>\n      <th>trip_distance</th>\n      <th>RatecodeID</th>\n      <th>store_and_fwd_flag</th>\n      <th>PULocationID</th>\n      <th>DOLocationID</th>\n      <th>payment_type</th>\n      <th>fare_amount</th>\n      <th>extra</th>\n      <th>mta_tax</th>\n      <th>tip_amount</th>\n      <th>tolls_amount</th>\n      <th>improvement_surcharge</th>\n      <th>total_amount</th>\n    </tr>\n  </thead>\n  <tbody>\n    <tr>\n      <th>0</th>\n      <td>24870114</td>\n      <td>2</td>\n      <td>03/25/2017 8:55:43 AM</td>\n      <td>03/25/2017 9:09:47 AM</td>\n      <td>6</td>\n      <td>3.34</td>\n      <td>1</td>\n      <td>N</td>\n      <td>100</td>\n      <td>231</td>\n      <td>1</td>\n      <td>13.0</td>\n      <td>0.0</td>\n      <td>0.5</td>\n      <td>2.76</td>\n      <td>0.0</td>\n      <td>0.3</td>\n      <td>16.56</td>\n    </tr>\n    <tr>\n      <th>1</th>\n      <td>35634249</td>\n      <td>1</td>\n      <td>04/11/2017 2:53:28 PM</td>\n      <td>04/11/2017 3:19:58 PM</td>\n      <td>1</td>\n      <td>1.80</td>\n      <td>1</td>\n      <td>N</td>\n      <td>186</td>\n      <td>43</td>\n      <td>1</td>\n      <td>16.0</td>\n      <td>0.0</td>\n      <td>0.5</td>\n      <td>4.00</td>\n      <td>0.0</td>\n      <td>0.3</td>\n      <td>20.80</td>\n    </tr>\n    <tr>\n      <th>2</th>\n      <td>106203690</td>\n      <td>1</td>\n      <td>12/15/2017 7:26:56 AM</td>\n      <td>12/15/2017 7:34:08 AM</td>\n      <td>1</td>\n      <td>1.00</td>\n      <td>1</td>\n      <td>N</td>\n      <td>262</td>\n      <td>236</td>\n      <td>1</td>\n      <td>6.5</td>\n      <td>0.0</td>\n      <td>0.5</td>\n      <td>1.45</td>\n      <td>0.0</td>\n      <td>0.3</td>\n      <td>8.75</td>\n    </tr>\n    <tr>\n      <th>3</th>\n      <td>38942136</td>\n      <td>2</td>\n      <td>05/07/2017 1:17:59 PM</td>\n      <td>05/07/2017 1:48:14 PM</td>\n      <td>1</td>\n      <td>3.70</td>\n      <td>1</td>\n      <td>N</td>\n      <td>188</td>\n      <td>97</td>\n      <td>1</td>\n      <td>20.5</td>\n      <td>0.0</td>\n      <td>0.5</td>\n      <td>6.39</td>\n      <td>0.0</td>\n      <td>0.3</td>\n      <td>27.69</td>\n    </tr>\n    <tr>\n      <th>4</th>\n      <td>30841670</td>\n      <td>2</td>\n      <td>04/15/2017 11:32:20 PM</td>\n      <td>04/15/2017 11:49:03 PM</td>\n      <td>1</td>\n      <td>4.37</td>\n      <td>1</td>\n      <td>N</td>\n      <td>4</td>\n      <td>112</td>\n      <td>2</td>\n      <td>16.5</td>\n      <td>0.5</td>\n      <td>0.5</td>\n      <td>0.00</td>\n      <td>0.0</td>\n      <td>0.3</td>\n      <td>17.80</td>\n    </tr>\n    <tr>\n      <th>5</th>\n      <td>23345809</td>\n      <td>2</td>\n      <td>03/25/2017 8:34:11 PM</td>\n      <td>03/25/2017 8:42:11 PM</td>\n      <td>6</td>\n      <td>2.30</td>\n      <td>1</td>\n      <td>N</td>\n      <td>161</td>\n      <td>236</td>\n      <td>1</td>\n      <td>9.0</td>\n      <td>0.5</td>\n      <td>0.5</td>\n      <td>2.06</td>\n      <td>0.0</td>\n      <td>0.3</td>\n      <td>12.36</td>\n    </tr>\n    <tr>\n      <th>6</th>\n      <td>37660487</td>\n      <td>2</td>\n      <td>05/03/2017 7:04:09 PM</td>\n      <td>05/03/2017 8:03:47 PM</td>\n      <td>1</td>\n      <td>12.83</td>\n      <td>1</td>\n      <td>N</td>\n      <td>79</td>\n      <td>241</td>\n      <td>1</td>\n      <td>47.5</td>\n      <td>1.0</td>\n      <td>0.5</td>\n      <td>9.86</td>\n      <td>0.0</td>\n      <td>0.3</td>\n      <td>59.16</td>\n    </tr>\n    <tr>\n      <th>7</th>\n      <td>69059411</td>\n      <td>2</td>\n      <td>08/15/2017 5:41:06 PM</td>\n      <td>08/15/2017 6:03:05 PM</td>\n      <td>1</td>\n      <td>2.98</td>\n      <td>1</td>\n      <td>N</td>\n      <td>237</td>\n      <td>114</td>\n      <td>1</td>\n      <td>16.0</td>\n      <td>1.0</td>\n      <td>0.5</td>\n      <td>1.78</td>\n      <td>0.0</td>\n      <td>0.3</td>\n      <td>19.58</td>\n    </tr>\n    <tr>\n      <th>8</th>\n      <td>8433159</td>\n      <td>2</td>\n      <td>02/04/2017 4:17:07 PM</td>\n      <td>02/04/2017 4:29:14 PM</td>\n      <td>1</td>\n      <td>1.20</td>\n      <td>1</td>\n      <td>N</td>\n      <td>234</td>\n      <td>249</td>\n      <td>2</td>\n      <td>9.0</td>\n      <td>0.0</td>\n      <td>0.5</td>\n      <td>0.00</td>\n      <td>0.0</td>\n      <td>0.3</td>\n      <td>9.80</td>\n    </tr>\n    <tr>\n      <th>9</th>\n      <td>95294817</td>\n      <td>1</td>\n      <td>11/10/2017 3:20:29 PM</td>\n      <td>11/10/2017 3:40:55 PM</td>\n      <td>1</td>\n      <td>1.60</td>\n      <td>1</td>\n      <td>N</td>\n      <td>239</td>\n      <td>237</td>\n      <td>1</td>\n      <td>13.0</td>\n      <td>0.0</td>\n      <td>0.5</td>\n      <td>2.75</td>\n      <td>0.0</td>\n      <td>0.3</td>\n      <td>16.55</td>\n    </tr>\n  </tbody>\n</table>\n</div>"
     },
     "execution_count": 5,
     "metadata": {},
     "output_type": "execute_result"
    }
   ],
   "source": [
    "df = pd.read_csv('Dataset/2017_Taxi_Trip_Data.csv')\n",
    "df.head(10)"
   ],
   "metadata": {
    "collapsed": false,
    "ExecuteTime": {
     "end_time": "2024-11-20T10:05:28.104271Z",
     "start_time": "2024-11-20T10:05:28.029651Z"
    }
   },
   "id": "6b026689b0d323b1",
   "execution_count": 5
  },
  {
   "cell_type": "code",
   "outputs": [
    {
     "data": {
      "text/plain": "          Unnamed: 0      VendorID   tpep_pickup_datetime  \\\ncount   2.269900e+04  22699.000000                  22699   \nunique           NaN           NaN                  22687   \ntop              NaN           NaN  07/03/2017 3:45:19 PM   \nfreq             NaN           NaN                      2   \nmean    5.675849e+07      1.556236                    NaN   \nstd     3.274493e+07      0.496838                    NaN   \nmin     1.212700e+04      1.000000                    NaN   \n25%     2.852056e+07      1.000000                    NaN   \n50%     5.673150e+07      2.000000                    NaN   \n75%     8.537452e+07      2.000000                    NaN   \nmax     1.134863e+08      2.000000                    NaN   \n\n        tpep_dropoff_datetime  passenger_count  trip_distance    RatecodeID  \\\ncount                   22699     22699.000000   22699.000000  22699.000000   \nunique                  22688              NaN            NaN           NaN   \ntop     10/18/2017 8:07:45 PM              NaN            NaN           NaN   \nfreq                        2              NaN            NaN           NaN   \nmean                      NaN         1.642319       2.913313      1.043394   \nstd                       NaN         1.285231       3.653171      0.708391   \nmin                       NaN         0.000000       0.000000      1.000000   \n25%                       NaN         1.000000       0.990000      1.000000   \n50%                       NaN         1.000000       1.610000      1.000000   \n75%                       NaN         2.000000       3.060000      1.000000   \nmax                       NaN         6.000000      33.960000     99.000000   \n\n       store_and_fwd_flag  PULocationID  DOLocationID  payment_type  \\\ncount               22699  22699.000000  22699.000000  22699.000000   \nunique                  2           NaN           NaN           NaN   \ntop                     N           NaN           NaN           NaN   \nfreq                22600           NaN           NaN           NaN   \nmean                  NaN    162.412353    161.527997      1.336887   \nstd                   NaN     66.633373     70.139691      0.496211   \nmin                   NaN      1.000000      1.000000      1.000000   \n25%                   NaN    114.000000    112.000000      1.000000   \n50%                   NaN    162.000000    162.000000      1.000000   \n75%                   NaN    233.000000    233.000000      2.000000   \nmax                   NaN    265.000000    265.000000      4.000000   \n\n         fare_amount         extra       mta_tax    tip_amount  tolls_amount  \\\ncount   22699.000000  22699.000000  22699.000000  22699.000000  22699.000000   \nunique           NaN           NaN           NaN           NaN           NaN   \ntop              NaN           NaN           NaN           NaN           NaN   \nfreq             NaN           NaN           NaN           NaN           NaN   \nmean       13.026629      0.333275      0.497445      1.835781      0.312542   \nstd        13.243791      0.463097      0.039465      2.800626      1.399212   \nmin      -120.000000     -1.000000     -0.500000      0.000000      0.000000   \n25%         6.500000      0.000000      0.500000      0.000000      0.000000   \n50%         9.500000      0.000000      0.500000      1.350000      0.000000   \n75%        14.500000      0.500000      0.500000      2.450000      0.000000   \nmax       999.990000      4.500000      0.500000    200.000000     19.100000   \n\n        improvement_surcharge  total_amount  \ncount            22699.000000  22699.000000  \nunique                    NaN           NaN  \ntop                       NaN           NaN  \nfreq                      NaN           NaN  \nmean                 0.299551     16.310502  \nstd                  0.015673     16.097295  \nmin                 -0.300000   -120.300000  \n25%                  0.300000      8.750000  \n50%                  0.300000     11.800000  \n75%                  0.300000     17.800000  \nmax                  0.300000   1200.290000  ",
      "text/html": "<div>\n<style scoped>\n    .dataframe tbody tr th:only-of-type {\n        vertical-align: middle;\n    }\n\n    .dataframe tbody tr th {\n        vertical-align: top;\n    }\n\n    .dataframe thead th {\n        text-align: right;\n    }\n</style>\n<table border=\"1\" class=\"dataframe\">\n  <thead>\n    <tr style=\"text-align: right;\">\n      <th></th>\n      <th>Unnamed: 0</th>\n      <th>VendorID</th>\n      <th>tpep_pickup_datetime</th>\n      <th>tpep_dropoff_datetime</th>\n      <th>passenger_count</th>\n      <th>trip_distance</th>\n      <th>RatecodeID</th>\n      <th>store_and_fwd_flag</th>\n      <th>PULocationID</th>\n      <th>DOLocationID</th>\n      <th>payment_type</th>\n      <th>fare_amount</th>\n      <th>extra</th>\n      <th>mta_tax</th>\n      <th>tip_amount</th>\n      <th>tolls_amount</th>\n      <th>improvement_surcharge</th>\n      <th>total_amount</th>\n    </tr>\n  </thead>\n  <tbody>\n    <tr>\n      <th>count</th>\n      <td>2.269900e+04</td>\n      <td>22699.000000</td>\n      <td>22699</td>\n      <td>22699</td>\n      <td>22699.000000</td>\n      <td>22699.000000</td>\n      <td>22699.000000</td>\n      <td>22699</td>\n      <td>22699.000000</td>\n      <td>22699.000000</td>\n      <td>22699.000000</td>\n      <td>22699.000000</td>\n      <td>22699.000000</td>\n      <td>22699.000000</td>\n      <td>22699.000000</td>\n      <td>22699.000000</td>\n      <td>22699.000000</td>\n      <td>22699.000000</td>\n    </tr>\n    <tr>\n      <th>unique</th>\n      <td>NaN</td>\n      <td>NaN</td>\n      <td>22687</td>\n      <td>22688</td>\n      <td>NaN</td>\n      <td>NaN</td>\n      <td>NaN</td>\n      <td>2</td>\n      <td>NaN</td>\n      <td>NaN</td>\n      <td>NaN</td>\n      <td>NaN</td>\n      <td>NaN</td>\n      <td>NaN</td>\n      <td>NaN</td>\n      <td>NaN</td>\n      <td>NaN</td>\n      <td>NaN</td>\n    </tr>\n    <tr>\n      <th>top</th>\n      <td>NaN</td>\n      <td>NaN</td>\n      <td>07/03/2017 3:45:19 PM</td>\n      <td>10/18/2017 8:07:45 PM</td>\n      <td>NaN</td>\n      <td>NaN</td>\n      <td>NaN</td>\n      <td>N</td>\n      <td>NaN</td>\n      <td>NaN</td>\n      <td>NaN</td>\n      <td>NaN</td>\n      <td>NaN</td>\n      <td>NaN</td>\n      <td>NaN</td>\n      <td>NaN</td>\n      <td>NaN</td>\n      <td>NaN</td>\n    </tr>\n    <tr>\n      <th>freq</th>\n      <td>NaN</td>\n      <td>NaN</td>\n      <td>2</td>\n      <td>2</td>\n      <td>NaN</td>\n      <td>NaN</td>\n      <td>NaN</td>\n      <td>22600</td>\n      <td>NaN</td>\n      <td>NaN</td>\n      <td>NaN</td>\n      <td>NaN</td>\n      <td>NaN</td>\n      <td>NaN</td>\n      <td>NaN</td>\n      <td>NaN</td>\n      <td>NaN</td>\n      <td>NaN</td>\n    </tr>\n    <tr>\n      <th>mean</th>\n      <td>5.675849e+07</td>\n      <td>1.556236</td>\n      <td>NaN</td>\n      <td>NaN</td>\n      <td>1.642319</td>\n      <td>2.913313</td>\n      <td>1.043394</td>\n      <td>NaN</td>\n      <td>162.412353</td>\n      <td>161.527997</td>\n      <td>1.336887</td>\n      <td>13.026629</td>\n      <td>0.333275</td>\n      <td>0.497445</td>\n      <td>1.835781</td>\n      <td>0.312542</td>\n      <td>0.299551</td>\n      <td>16.310502</td>\n    </tr>\n    <tr>\n      <th>std</th>\n      <td>3.274493e+07</td>\n      <td>0.496838</td>\n      <td>NaN</td>\n      <td>NaN</td>\n      <td>1.285231</td>\n      <td>3.653171</td>\n      <td>0.708391</td>\n      <td>NaN</td>\n      <td>66.633373</td>\n      <td>70.139691</td>\n      <td>0.496211</td>\n      <td>13.243791</td>\n      <td>0.463097</td>\n      <td>0.039465</td>\n      <td>2.800626</td>\n      <td>1.399212</td>\n      <td>0.015673</td>\n      <td>16.097295</td>\n    </tr>\n    <tr>\n      <th>min</th>\n      <td>1.212700e+04</td>\n      <td>1.000000</td>\n      <td>NaN</td>\n      <td>NaN</td>\n      <td>0.000000</td>\n      <td>0.000000</td>\n      <td>1.000000</td>\n      <td>NaN</td>\n      <td>1.000000</td>\n      <td>1.000000</td>\n      <td>1.000000</td>\n      <td>-120.000000</td>\n      <td>-1.000000</td>\n      <td>-0.500000</td>\n      <td>0.000000</td>\n      <td>0.000000</td>\n      <td>-0.300000</td>\n      <td>-120.300000</td>\n    </tr>\n    <tr>\n      <th>25%</th>\n      <td>2.852056e+07</td>\n      <td>1.000000</td>\n      <td>NaN</td>\n      <td>NaN</td>\n      <td>1.000000</td>\n      <td>0.990000</td>\n      <td>1.000000</td>\n      <td>NaN</td>\n      <td>114.000000</td>\n      <td>112.000000</td>\n      <td>1.000000</td>\n      <td>6.500000</td>\n      <td>0.000000</td>\n      <td>0.500000</td>\n      <td>0.000000</td>\n      <td>0.000000</td>\n      <td>0.300000</td>\n      <td>8.750000</td>\n    </tr>\n    <tr>\n      <th>50%</th>\n      <td>5.673150e+07</td>\n      <td>2.000000</td>\n      <td>NaN</td>\n      <td>NaN</td>\n      <td>1.000000</td>\n      <td>1.610000</td>\n      <td>1.000000</td>\n      <td>NaN</td>\n      <td>162.000000</td>\n      <td>162.000000</td>\n      <td>1.000000</td>\n      <td>9.500000</td>\n      <td>0.000000</td>\n      <td>0.500000</td>\n      <td>1.350000</td>\n      <td>0.000000</td>\n      <td>0.300000</td>\n      <td>11.800000</td>\n    </tr>\n    <tr>\n      <th>75%</th>\n      <td>8.537452e+07</td>\n      <td>2.000000</td>\n      <td>NaN</td>\n      <td>NaN</td>\n      <td>2.000000</td>\n      <td>3.060000</td>\n      <td>1.000000</td>\n      <td>NaN</td>\n      <td>233.000000</td>\n      <td>233.000000</td>\n      <td>2.000000</td>\n      <td>14.500000</td>\n      <td>0.500000</td>\n      <td>0.500000</td>\n      <td>2.450000</td>\n      <td>0.000000</td>\n      <td>0.300000</td>\n      <td>17.800000</td>\n    </tr>\n    <tr>\n      <th>max</th>\n      <td>1.134863e+08</td>\n      <td>2.000000</td>\n      <td>NaN</td>\n      <td>NaN</td>\n      <td>6.000000</td>\n      <td>33.960000</td>\n      <td>99.000000</td>\n      <td>NaN</td>\n      <td>265.000000</td>\n      <td>265.000000</td>\n      <td>4.000000</td>\n      <td>999.990000</td>\n      <td>4.500000</td>\n      <td>0.500000</td>\n      <td>200.000000</td>\n      <td>19.100000</td>\n      <td>0.300000</td>\n      <td>1200.290000</td>\n    </tr>\n  </tbody>\n</table>\n</div>"
     },
     "execution_count": 6,
     "metadata": {},
     "output_type": "execute_result"
    }
   ],
   "source": [
    "df.describe(include='all')"
   ],
   "metadata": {
    "collapsed": false,
    "ExecuteTime": {
     "end_time": "2024-11-20T10:05:32.861711Z",
     "start_time": "2024-11-20T10:05:32.805792Z"
    }
   },
   "id": "2c6909bc9cad91f3",
   "execution_count": 6
  },
  {
   "cell_type": "code",
   "outputs": [
    {
     "data": {
      "text/plain": "payment_type\n1    13.429748\n2    12.213546\n3    12.186116\n4     9.913043\nName: fare_amount, dtype: float64"
     },
     "execution_count": 7,
     "metadata": {},
     "output_type": "execute_result"
    }
   ],
   "source": [
    "df.groupby(by=['payment_type'])['fare_amount'].mean()"
   ],
   "metadata": {
    "collapsed": false,
    "ExecuteTime": {
     "end_time": "2024-11-20T10:05:34.345643Z",
     "start_time": "2024-11-20T10:05:34.339987Z"
    }
   },
   "id": "58b59a23c1487dcb",
   "execution_count": 7
  },
  {
   "cell_type": "markdown",
   "source": [
    "## Hypothesis Testing"
   ],
   "metadata": {
    "collapsed": false
   },
   "id": "7a3035c85cdc623b"
  },
  {
   "cell_type": "markdown",
   "source": [
    "###### H(O) - There is no difference in the average total fare amount between customers who use credit cards and customers who use cash.\n",
    "###### H(A) - There is a difference in the average total fare amount between customers who use credit cards and customers who use cash.\n",
    "###### Significance Level = 5%"
   ],
   "metadata": {
    "collapsed": false
   },
   "id": "4a6fae7eb850e300"
  },
  {
   "cell_type": "code",
   "outputs": [
    {
     "data": {
      "text/plain": "TtestResult(statistic=20.34644022783838, pvalue=4.5301445359736376e-91, df=19245.398563776336)"
     },
     "execution_count": 10,
     "metadata": {},
     "output_type": "execute_result"
    }
   ],
   "source": [
    "credit_card = df[df['payment_type'] == 1]['total_amount']\n",
    "cash = df[df['payment_type'] == 2]['total_amount']\n",
    "stats.ttest_ind(credit_card, cash, equal_var=False)"
   ],
   "metadata": {
    "collapsed": false,
    "ExecuteTime": {
     "end_time": "2024-11-20T10:05:58.583833Z",
     "start_time": "2024-11-20T10:05:58.569079Z"
    }
   },
   "id": "3ec6810e5957ef70",
   "execution_count": 10
  },
  {
   "cell_type": "markdown",
   "source": [
    "##### Hypothesis is Not Statistically Significant"
   ],
   "metadata": {
    "collapsed": false
   },
   "id": "f13d8968de97137f"
  }
 ],
 "metadata": {
  "kernelspec": {
   "display_name": "Python 3",
   "language": "python",
   "name": "python3"
  },
  "language_info": {
   "codemirror_mode": {
    "name": "ipython",
    "version": 2
   },
   "file_extension": ".py",
   "mimetype": "text/x-python",
   "name": "python",
   "nbconvert_exporter": "python",
   "pygments_lexer": "ipython2",
   "version": "2.7.6"
  }
 },
 "nbformat": 4,
 "nbformat_minor": 5
}
